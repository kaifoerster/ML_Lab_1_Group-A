{
  "cells": [
    {
      "cell_type": "markdown",
      "metadata": {
        "id": "view-in-github",
        "colab_type": "text"
      },
      "source": [
        "<a href=\"https://colab.research.google.com/github/kaifoerster/ML_Lab_1_Group-A/blob/main/Lab_Session_1.ipynb\" target=\"_parent\"><img src=\"https://colab.research.google.com/assets/colab-badge.svg\" alt=\"Open In Colab\"/></a>"
      ]
    },
    {
      "cell_type": "markdown",
      "metadata": {
        "id": "vzO4ORi0pnw4"
      },
      "source": [
        "<div class=\"markdown-google-sans\">\n",
        "  <h2>Introduction to Colab</h2>\n",
        "</div>\n",
        "\n",
        "Colab is a notebook tool from Google or \"Colaboratory\", allows you to write and execute Python in your browser, without any installation required on your machine. It comes with some advantages:\n",
        "\n",
        "1.  Zero configuration required\n",
        "2.  Access to GPUs free of charge\n",
        "3.  Easy sharing\n",
        "\n",
        "For a full Colab tutorial, watch [Introduction to Colab](https://www.youtube.com/watch?v=inN8seMm7UI).\n",
        "\n",
        "\n"
      ]
    },
    {
      "cell_type": "markdown",
      "metadata": {
        "id": "R0KF6Kf3qd8x"
      },
      "source": [
        "<div class=\"markdown-google-sans\">\n",
        "  <h2>Workstation setup</h2>\n",
        "</div>\n",
        "\n",
        "During the lab, we will be working in Colab and use the lab [GitHub repo](https://github.com/Hertie-School-Deep-Learning-Fall-2023/Lab-Session) to upload and download resources.\n",
        "\n",
        "Colab comes with most standard Python packages, that you can mostly directly import. For a list of all the available packages, type:\n",
        "\n",
        "`!pip list command`.\n",
        "\n",
        "In case you have to install a package (see below), type:\n",
        "\n",
        " `!pip install package_name` .\n",
        "\n",
        "\n",
        "\n",
        "\n",
        "\n",
        "\n",
        "\n",
        "\n"
      ]
    },
    {
      "cell_type": "code",
      "execution_count": null,
      "metadata": {
        "id": "mlozJ7m4sUFC"
      },
      "outputs": [],
      "source": [
        "import selenium"
      ]
    },
    {
      "cell_type": "markdown",
      "metadata": {
        "id": "MEhjKwNhvAXX"
      },
      "source": [
        "<div class=\"markdown-google-sans\">\n",
        "  <h2>Recap programming</h2>\n",
        "</div>\n",
        "\n",
        "We will start refreshing our programming skills using the notorious [1963 Iris database](https://en.wikipedia.org/wiki/Iris_flower_data_set)."
      ]
    },
    {
      "cell_type": "code",
      "execution_count": null,
      "metadata": {
        "id": "dVOyVZBJtgXK"
      },
      "outputs": [],
      "source": [
        "import pandas as pd\n",
        "import numpy as np\n",
        "import numpy.random as rand\n",
        "from sklearn.datasets import *"
      ]
    },
    {
      "cell_type": "code",
      "execution_count": null,
      "metadata": {
        "id": "QIWcT0sAybK4"
      },
      "outputs": [],
      "source": [
        "data_dict = load_iris(as_frame=True)\n",
        "df = data_dict['data']\n",
        "label = data_dict['target']"
      ]
    },
    {
      "cell_type": "code",
      "execution_count": null,
      "metadata": {
        "colab": {
          "base_uri": "https://localhost:8080/",
          "height": 363
        },
        "id": "QnJtiICo0Nvh",
        "outputId": "1951c677-b4ee-42c2-89ee-ff23fa844f90"
      },
      "outputs": [
        {
          "data": {
            "text/html": [
              "<div>\n",
              "<style scoped>\n",
              "    .dataframe tbody tr th:only-of-type {\n",
              "        vertical-align: middle;\n",
              "    }\n",
              "\n",
              "    .dataframe tbody tr th {\n",
              "        vertical-align: top;\n",
              "    }\n",
              "\n",
              "    .dataframe thead th {\n",
              "        text-align: right;\n",
              "    }\n",
              "</style>\n",
              "<table border=\"1\" class=\"dataframe\">\n",
              "  <thead>\n",
              "    <tr style=\"text-align: right;\">\n",
              "      <th></th>\n",
              "      <th>sepal length (cm)</th>\n",
              "      <th>sepal width (cm)</th>\n",
              "      <th>petal length (cm)</th>\n",
              "      <th>petal width (cm)</th>\n",
              "    </tr>\n",
              "  </thead>\n",
              "  <tbody>\n",
              "    <tr>\n",
              "      <th>0</th>\n",
              "      <td>5.1</td>\n",
              "      <td>3.5</td>\n",
              "      <td>1.4</td>\n",
              "      <td>0.2</td>\n",
              "    </tr>\n",
              "    <tr>\n",
              "      <th>1</th>\n",
              "      <td>4.9</td>\n",
              "      <td>3.0</td>\n",
              "      <td>1.4</td>\n",
              "      <td>0.2</td>\n",
              "    </tr>\n",
              "    <tr>\n",
              "      <th>2</th>\n",
              "      <td>4.7</td>\n",
              "      <td>3.2</td>\n",
              "      <td>1.3</td>\n",
              "      <td>0.2</td>\n",
              "    </tr>\n",
              "    <tr>\n",
              "      <th>3</th>\n",
              "      <td>4.6</td>\n",
              "      <td>3.1</td>\n",
              "      <td>1.5</td>\n",
              "      <td>0.2</td>\n",
              "    </tr>\n",
              "    <tr>\n",
              "      <th>4</th>\n",
              "      <td>5.0</td>\n",
              "      <td>3.6</td>\n",
              "      <td>1.4</td>\n",
              "      <td>0.2</td>\n",
              "    </tr>\n",
              "    <tr>\n",
              "      <th>5</th>\n",
              "      <td>5.4</td>\n",
              "      <td>3.9</td>\n",
              "      <td>1.7</td>\n",
              "      <td>0.4</td>\n",
              "    </tr>\n",
              "    <tr>\n",
              "      <th>6</th>\n",
              "      <td>4.6</td>\n",
              "      <td>3.4</td>\n",
              "      <td>1.4</td>\n",
              "      <td>0.3</td>\n",
              "    </tr>\n",
              "    <tr>\n",
              "      <th>7</th>\n",
              "      <td>5.0</td>\n",
              "      <td>3.4</td>\n",
              "      <td>1.5</td>\n",
              "      <td>0.2</td>\n",
              "    </tr>\n",
              "    <tr>\n",
              "      <th>8</th>\n",
              "      <td>4.4</td>\n",
              "      <td>2.9</td>\n",
              "      <td>1.4</td>\n",
              "      <td>0.2</td>\n",
              "    </tr>\n",
              "    <tr>\n",
              "      <th>9</th>\n",
              "      <td>4.9</td>\n",
              "      <td>3.1</td>\n",
              "      <td>1.5</td>\n",
              "      <td>0.1</td>\n",
              "    </tr>\n",
              "  </tbody>\n",
              "</table>\n",
              "</div>"
            ],
            "text/plain": [
              "   sepal length (cm)  sepal width (cm)  petal length (cm)  petal width (cm)\n",
              "0                5.1               3.5                1.4               0.2\n",
              "1                4.9               3.0                1.4               0.2\n",
              "2                4.7               3.2                1.3               0.2\n",
              "3                4.6               3.1                1.5               0.2\n",
              "4                5.0               3.6                1.4               0.2\n",
              "5                5.4               3.9                1.7               0.4\n",
              "6                4.6               3.4                1.4               0.3\n",
              "7                5.0               3.4                1.5               0.2\n",
              "8                4.4               2.9                1.4               0.2\n",
              "9                4.9               3.1                1.5               0.1"
            ]
          },
          "execution_count": 4,
          "metadata": {},
          "output_type": "execute_result"
        }
      ],
      "source": [
        "df.head(10)\n"
      ]
    },
    {
      "cell_type": "code",
      "execution_count": null,
      "metadata": {
        "id": "5EQNPB-dvh7Z",
        "outputId": "1d219682-df26-4f0d-8f00-9876e99db66e"
      },
      "outputs": [
        {
          "data": {
            "text/plain": [
              "<Axes: >"
            ]
          },
          "execution_count": 5,
          "metadata": {},
          "output_type": "execute_result"
        },
        {
          "data": {
            "image/png": "[encoded data removed]",
            "text/plain": [
              "<Figure size 640x480 with 1 Axes>"
            ]
          },
          "metadata": {},
          "output_type": "display_data"
        }
      ],
      "source": [
        "df['petal width (cm)'].plot.box()"
      ]
    },
    {
      "cell_type": "code",
      "execution_count": null,
      "metadata": {
        "id": "6_E4Bp4rvTEm"
      },
      "outputs": [],
      "source": [
        "df[df['sepal length (cm)'] <= 5].sort_values(by='sepal length (cm)',ascending=False)"
      ]
    },
    {
      "cell_type": "code",
      "execution_count": null,
      "metadata": {
        "id": "spMHESAWobkd",
        "outputId": "3998ac77-58dd-4cc4-ab0d-55a5376e82bb"
      },
      "outputs": [
        {
          "name": "stdout",
          "output_type": "stream",
          "text": [
            "5.843333333333334\n",
            "0.828066127977863\n"
          ]
        }
      ],
      "source": [
        "#TASK 1: print the average sepal length (cm) across all observations and its standard deviation.\n",
        "print(df['sepal length (cm)'].mean())\n",
        "print(df['sepal length (cm)'].std())"
      ]
    },
    {
      "cell_type": "code",
      "execution_count": null,
      "metadata": {
        "id": "xhGnln1Yozle"
      },
      "outputs": [],
      "source": [
        "#TASK 2: scatter plot the petal length against its petal width and color each data point according to its label.\n",
        "#You may want to import matplotlib or your plotting library of choice."
      ]
    },
    {
      "cell_type": "code",
      "execution_count": null,
      "metadata": {
        "id": "clkqwkvqnRo2"
      },
      "outputs": [],
      "source": [
        "color = {0:\"red\", 1:\"green\", 2:\"blue\"}"
      ]
    },
    {
      "cell_type": "code",
      "execution_count": null,
      "metadata": {
        "id": "_94cGETIo5Hl",
        "outputId": "bc3285fb-135e-4927-ecf8-2ce30f93e10e"
      },
      "outputs": [
        {
          "data": {
            "image/png": "[encoded data removed]",
            "text/plain": [
              "<Figure size 640x480 with 1 Axes>"
            ]
          },
          "metadata": {},
          "output_type": "display_data"
        }
      ],
      "source": [
        "import matplotlib.pyplot as plt\n",
        "\n",
        "plt.scatter(df['sepal length (cm)'], df['sepal width (cm)'], color = label.map(color))\n",
        "plt.show()"
      ]
    },
    {
      "cell_type": "markdown",
      "metadata": {
        "id": "sfpM5YeRyAop"
      },
      "source": [
        "<div class=\"markdown-google-sans\">\n",
        "  <h2>Object-oriented programming</h2>\n",
        "</div>\n",
        "\n",
        "We start by introducing some vocabulary:\n",
        "<ul>\n",
        "<li>A <code>class</code> is a blueprint for an object. It defines what belongs to the object (attributes) and what it can do (its methods). </li>\n",
        "<li>An <code>object</code> is an initialized instance of a class.</li>\n",
        "<li>A <code>method</code> or an <code>attribute</code> can be either be public, private or protected. The level of protections determines how they can be accessed outside the class. In Python, private and protected methods are prefixed by respectively two and one underscores. These are however a naming conventions that don't enforce access restrictions.</li>\n",
        "A <code>subclass</code> or child class inherits methods and attributes from its parent class. It can override methods, i.e. implement them differently from the parent class."
      ]
    },
    {
      "cell_type": "code",
      "execution_count": null,
      "metadata": {
        "id": "YylhNl-3xzji"
      },
      "outputs": [],
      "source": [
        "class Meal:\n",
        "#Computes the price of your meal based on the total cost of is ingredients.\n",
        "\n",
        "  def __init__(self, name, total_price=0):\n",
        "\n",
        "    self.name = name\n",
        "    self.ingredients = {}\n",
        "    self.total_price = total_price\n",
        "\n",
        "\n",
        "  def add_ingredient(self, ingredient, price=0):\n",
        "\n",
        "    self.ingredients[ingredient] = price\n",
        "    self.total_price = self.compute_total_price()\n",
        "\n",
        "\n",
        "  def compute_total_price(self):\n",
        "\n",
        "    return sum(price for price in self.ingredients.values())\n",
        "\n",
        "  def add_ingredients(self, ingredients, prices):\n",
        "\n",
        "    if len(ingredients) != len(prices):\n",
        "      return None\n",
        "\n",
        "    for i in range(len(ingredients)):\n",
        "\n",
        "      ingredient, price = ingredients[i], prices[i]\n",
        "      self.add_ingredient(ingredient, price)"
      ]
    },
    {
      "cell_type": "code",
      "execution_count": null,
      "metadata": {
        "colab": {
          "base_uri": "https://localhost:8080/"
        },
        "id": "bkCdI1d53tIc",
        "outputId": "a759700a-779b-429e-ceb7-6bde0b7d1e96"
      },
      "outputs": [
        {
          "data": {
            "text/plain": [
              "3.5"
            ]
          },
          "execution_count": 77,
          "metadata": {},
          "output_type": "execute_result"
        }
      ],
      "source": [
        "##EXAMPLE: compute the price of your morning porridge\n",
        "\n",
        "Breakfast = Meal('porridge')\n",
        "\n",
        "Breakfast.add_ingredient('oats',.5)\n",
        "Breakfast.add_ingredient('berries',2)\n",
        "Breakfast.add_ingredient('oat milk',1)\n",
        "Breakfast.compute_total_price()"
      ]
    },
    {
      "cell_type": "code",
      "execution_count": null,
      "metadata": {
        "id": "g8KoW0m81rCt"
      },
      "outputs": [],
      "source": [
        "#TASK 3: build class add_ingredients that takes as input a list of ingredients and a list of prices and add them to the meal.\n",
        "#The function should also that the length of the two lists is compatible.\n",
        "\n",
        "def add_ingredients(self, ingredients, prices):\n",
        "\n",
        "    if len(ingredients) != len(prices):\n",
        "      return None\n",
        "\n",
        "    for i in range(len(ingredients)):\n",
        "\n",
        "      ingredient, price = ingredients[i], prices[i]\n",
        "      self.add_ingredient(ingredient, price)\n"
      ]
    },
    {
      "cell_type": "code",
      "execution_count": null,
      "metadata": {
        "id": "3cOY_NGwnRo3",
        "outputId": "4b909179-8af1-4e8f-c320-cbe83bb2c0f1"
      },
      "outputs": [
        {
          "data": {
            "text/plain": [
              "{'oats': 0.5,\n",
              " 'berries': 2,\n",
              " 'oat milk': 1,\n",
              " 'Flour': 1,\n",
              " 'Sugar': 0.5,\n",
              " 'Cornmeal': 7}"
            ]
          },
          "execution_count": 79,
          "metadata": {},
          "output_type": "execute_result"
        }
      ],
      "source": [
        "Breakfast.add_ingredients(['Flour', 'Sugar', 'Cornmeal'],[1, 0.5, 7])\n",
        "Breakfast.ingredients"
      ]
    },
    {
      "cell_type": "code",
      "execution_count": null,
      "metadata": {
        "id": "fQLc3Cnh5knh"
      },
      "outputs": [],
      "source": [
        "#TASK 4: we implement the child class HappyMeal. Add a private attribute to define the meal discount and a private class to apply discount.\n",
        "#The discount should be applied when computing final price."
      ]
    },
    {
      "cell_type": "code",
      "execution_count": null,
      "metadata": {
        "id": "lpHBkFNh6-0q"
      },
      "outputs": [],
      "source": [
        "class HappyMeal(Meal):\n",
        "  def __init__(self, name = 'HappyMeal', total_price=0, discount=0.1):\n",
        "    super().__init__(name, total_price)\n",
        "    self.__discount = discount\n",
        "\n",
        "    self.add_ingredient('nuggets', 4)\n",
        "    self.add_ingredient('fries', 3)\n",
        "    self.add_ingredient('fanta', 1.99)\n",
        "    self.price = self.compute_total_price()\n",
        "\n",
        "  def __apply_discount(self, price):\n",
        "    return price*(1-self.__discount)\n",
        "\n",
        "  def compute_total_price(self):\n",
        "    total_price_without_discount =  super().compute_total_price()\n",
        "    return self.__apply_discount(total_price_without_discount)\n",
        "\n"
      ]
    },
    {
      "cell_type": "code",
      "execution_count": null,
      "metadata": {
        "id": "iX3WkWaFnRo4"
      },
      "outputs": [],
      "source": [
        "#Answer from ChatGPT - you must specify the a name in this case\n",
        "\n",
        "class HappyMeal(Meal):\n",
        "    def __init__(self, name, total_price=0, discount=0.1):  # Assuming a default discount of 10%\n",
        "        super().__init__(name, total_price)\n",
        "        self.__discount = discount  # Private attribute to hold the discount\n",
        "\n",
        "    def __apply_discount(self, price):  # Private method to apply discount\n",
        "        return price * (1 - self.__discount)  # Assuming discount is a decimal. e.g., 0.1 for 10%\n",
        "\n",
        "    def compute_total_price(self):\n",
        "        # Calling the compute_total_price of the parent class\n",
        "        total_price_without_discount = super().compute_total_price()\n",
        "        # Applying discount using the private method\n",
        "        return self.__apply_discount(total_price_without_discount)\n"
      ]
    },
    {
      "cell_type": "code",
      "execution_count": null,
      "metadata": {
        "id": "uX9hxKmHnRo4"
      },
      "outputs": [],
      "source": [
        "#Answer from class\n",
        "\n",
        "class HappyMeal(Meal):\n",
        "\n",
        "  def __init__(self, discount=.7):\n",
        "\n",
        "    Meal.__init__(self, name='HappyMeal')\n",
        "\n",
        "    self.add_ingredient('nuggets', 4)\n",
        "    self.add_ingredient('fries', 3)\n",
        "    self.add_ingredient('fanta', 1.99)\n",
        "    self._discount = discount\n",
        "    self.total_price = self.compute_total_price() *self._discount"
      ]
    },
    {
      "cell_type": "code",
      "execution_count": null,
      "metadata": {
        "id": "pIxFmzgznRo4",
        "outputId": "ce788df2-0e94-4cab-e28e-5c287ef499a7"
      },
      "outputs": [
        {
          "data": {
            "text/plain": [
              "'HappyMeal'"
            ]
          },
          "execution_count": 147,
          "metadata": {},
          "output_type": "execute_result"
        }
      ],
      "source": [
        "Breakfast = HappyMeal()\n",
        "# Breakfast = HappyMeal('something')\n",
        "Breakfast.name\n"
      ]
    },
    {
      "cell_type": "code",
      "execution_count": null,
      "metadata": {
        "id": "h8wRP44QnRo4",
        "outputId": "0574ccc2-3e70-419e-885d-7d171de1838b"
      },
      "outputs": [
        {
          "data": {
            "text/plain": [
              "8.091000000000001"
            ]
          },
          "execution_count": 146,
          "metadata": {},
          "output_type": "execute_result"
        }
      ],
      "source": [
        "HappyMeal().total_price"
      ]
    }
  ],
  "metadata": {
    "colab": {
      "provenance": [],
      "include_colab_link": true
    },
    "kernelspec": {
      "display_name": "Python 3",
      "name": "python3"
    },
    "language_info": {
      "codemirror_mode": {
        "name": "ipython",
        "version": 3
      },
      "file_extension": ".py",
      "mimetype": "text/x-python",
      "name": "python",
      "nbconvert_exporter": "python",
      "pygments_lexer": "ipython3",
      "version": "3.10.0"
    }
  },
  "nbformat": 4,
  "nbformat_minor": 0
}