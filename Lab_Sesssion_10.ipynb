{
  "cells": [
    {
      "cell_type": "markdown",
      "metadata": {
        "id": "view-in-github",
        "colab_type": "text"
      },
      "source": [
        "<a href=\"https://colab.research.google.com/github/kaifoerster/ML_Lab_1_Group-A/blob/main/Lab_Sesssion_10.ipynb\" target=\"_parent\"><img src=\"https://colab.research.google.com/assets/colab-badge.svg\" alt=\"Open In Colab\"/></a>"
      ]
    },
    {
      "cell_type": "code",
      "execution_count": null,
      "id": "df04d451",
      "metadata": {
        "id": "df04d451"
      },
      "outputs": [],
      "source": [
        "!pip install d2l==1.0.3 -q\n"
      ]
    },
    {
      "cell_type": "code",
      "source": [
        "import collections\n",
        "import math\n",
        "import torch\n",
        "import re\n",
        "from torch import nn\n",
        "from torch.nn import functional as F\n",
        "from d2l import torch as d2l\n",
        "\n",
        "\n",
        "%matplotlib inline"
      ],
      "metadata": {
        "id": "n9x1IFwRlz8i"
      },
      "id": "n9x1IFwRlz8i",
      "execution_count": null,
      "outputs": []
    },
    {
      "cell_type": "markdown",
      "source": [
        "##Implementing RNN\n",
        "We define a vanilla RNN with three parameters:\n",
        "\n",
        "- $W_{x}$: the weight matrix multiplying input $X_t$\n",
        "- $W_{h}$: the weight matrix multiplying hidden state $H_{t-1}$\n",
        "- $b$: the bias of the hidden state.\n",
        "\n",
        "Altogether, the class applies the following recursion:\n",
        "\n",
        "$f(X_t) = \\phi(W_x X_t + W_h H_{t-1}+b) =  \\phi\\bigg(W_x X_t + W_h \\phi(W_x X_{t-1} + W_h H_{t-2} +b )+b\\bigg) = \\dots $"
      ],
      "metadata": {
        "id": "UUHbxpIymCYB"
      },
      "id": "UUHbxpIymCYB"
    },
    {
      "cell_type": "code",
      "source": [
        "class RNN(d2l.Module):\n",
        "\n",
        "    \"\"\"The RNN model implemented from scratch.\"\"\"\n",
        "    def __init__(self, num_inputs, num_hiddens, sigma=0.01):\n",
        "        super().__init__()\n",
        "        self.save_hyperparameters()\n",
        "\n",
        "        # Weight matrix that multiplies input X_t\n",
        "        self.W_x = nn.Parameter(\n",
        "            torch.randn(num_inputs, num_hiddens) * sigma)\n",
        "\n",
        "        # Weight matrix that multiplies output of hidden state H_(t-1)\n",
        "        self.W_h = nn.Parameter(\n",
        "            torch.randn(num_hiddens, num_hiddens) * sigma)\n",
        "\n",
        "        #Bias of the hidden state\n",
        "        self.b = nn.Parameter(torch.zeros(num_hiddens))\n",
        "\n",
        "        #Activation function of the hidden layer\n",
        "        self.activation_func = torch.tanh\n",
        "\n",
        "    def forward(self, inputs, state=None):\n",
        "      \"\"\"Executes the RNN recurrent step.\n",
        "      Inputs shape: (num_steps, batch_size, num_inputs)\"\"\"\n",
        "\n",
        "      outputs = []\n",
        "\n",
        "      if state is None:\n",
        "          # Initial state with shape: (batch_size, num_hiddens)\n",
        "          state = torch.zeros((inputs.shape[1], self.num_hiddens),\n",
        "                            device=inputs.device)\n",
        "      else:\n",
        "        #Transformed input list in variable\n",
        "          state, = state\n",
        "\n",
        "      for X in inputs:\n",
        "          state = self.activation_func(torch.matmul(X, self.W_x) +\n",
        "                          torch.matmul(state, self.W_h) + self.b)\n",
        "          outputs.append(state)\n",
        "\n",
        "      return outputs, state\n"
      ],
      "metadata": {
        "id": "BfPgG5-jlZ-Y"
      },
      "id": "BfPgG5-jlZ-Y",
      "execution_count": null,
      "outputs": []
    },
    {
      "cell_type": "markdown",
      "source": [
        "#Implementing LSTM\n",
        "\n",
        "We now implement a more sophisticated version of vanilla RNN, Long-Short Term Memory networks. In a LSTM network, each memory cell is equipped with an internal state $C$ and other gates that determine:\n",
        "<ul>\n",
        "<li>the impact of input on the internal state $C$ (input gate $I$)</li>\n",
        "<li>the internal state should be flushed to (forget gate $F$) </li>\n",
        "<li>the impact of the internal state on the the output of the cell the output gate)."
      ],
      "metadata": {
        "id": "fqDXOlm-liV_"
      },
      "id": "fqDXOlm-liV_"
    },
    {
      "cell_type": "code",
      "source": [
        "class LSTM(d2l.Module):\n",
        "\n",
        "    def __init__(self, num_inputs, num_hiddens, sigma=0.01):\n",
        "        super().__init__()\n",
        "        self.save_hyperparameters()\n",
        "\n",
        "        init_weight = lambda *shape: nn.Parameter(torch.randn(*shape) * sigma)\n",
        "        triple = lambda: (init_weight(num_inputs, num_hiddens),\n",
        "                          init_weight(num_hiddens, num_hiddens),\n",
        "                          nn.Parameter(torch.zeros(num_hiddens)))\n",
        "\n",
        "        self.W_xi, self.W_hi, self.b_i = triple()  # Input gate\n",
        "        self.W_xf, self.W_hf, self.b_f = triple()  # Forget gate\n",
        "        self.W_xo, self.W_ho, self.b_o = triple()  # Output gate\n",
        "        self.W_xc, self.W_hc, self.b_c = triple()  # Input node\n",
        "\n",
        "    def forward(self, inputs, H_C=None):\n",
        "\n",
        "        if H_C is None:\n",
        "            # Initial state with shape: (batch_size, num_hiddens)\n",
        "            H = torch.zeros((inputs.shape[1], self.num_hiddens),\n",
        "                          device=inputs.device)\n",
        "            C = torch.zeros((inputs.shape[1], self.num_hiddens),\n",
        "                          device=inputs.device)\n",
        "        else:\n",
        "            H, C = H_C\n",
        "\n",
        "        outputs = []\n",
        "        for X in inputs:\n",
        "            #sigmoid: output between [0,1]\n",
        "            I = torch.sigmoid(torch.matmul(X, self.W_xi) +\n",
        "                            torch.matmul(H, self.W_hi) + self.b_i)\n",
        "            #sigmoid: output between [0,1]\n",
        "            F = torch.sigmoid(torch.matmul(X, self.W_xf) +\n",
        "                            torch.matmul(H, self.W_hf) + self.b_f)\n",
        "            #sigmoid: output between [0,1]\n",
        "            O = torch.sigmoid(torch.matmul(X, self.W_xo) +\n",
        "                            torch.matmul(H, self.W_ho) + self.b_o)\n",
        "            #tanh: output between [-1,1].\n",
        "            C_tilde = torch.tanh(torch.matmul(X, self.W_xc) +\n",
        "                              torch.matmul(H, self.W_hc) + self.b_c)\n",
        "\n",
        "            #update internal state\n",
        "            C = F * C + I * C_tilde\n",
        "            #output of the hidden cell is recurrent output O times activated internal state C\n",
        "            H = O * torch.tanh(C)\n",
        "\n",
        "            outputs.append(H)\n",
        "        return outputs, (H, C)"
      ],
      "metadata": {
        "id": "93DXgTDglfTq"
      },
      "id": "93DXgTDglfTq",
      "execution_count": null,
      "outputs": []
    },
    {
      "cell_type": "markdown",
      "source": [
        "# Gated Recurrent Units\n",
        "\n",
        "While LSTM has three gates (input, forget and output), GRU has two gates: the reset gate and the update gate. The reset gate controls how much of the past information to forget, and the update gate determines how much of the new information to store.\n",
        "\n",
        "Given its straightforward structure, GRU is typically computationally less expensive than LSTM.\n",
        "\n",
        "**LSTM**\n",
        "\n",
        "![](https://d2l.ai/_images/lstm-0.svg)\n",
        "\n",
        "**GRU**\n",
        "\n",
        "![](https://d2l.ai/_images/gru-1.svg)"
      ],
      "metadata": {
        "id": "3Snk-mZW9W0F"
      },
      "id": "3Snk-mZW9W0F"
    },
    {
      "cell_type": "markdown",
      "id": "50066a7a",
      "metadata": {
        "origin_pos": 6,
        "id": "50066a7a"
      },
      "source": [
        "\n",
        "# Encoders\n",
        "\n",
        "Recall that the encoder transforms an input sequence of **variable length**\n",
        "into a **fixed-length** *context variable* $\\mathbf{c}$.\n",
        "\n",
        " Depending on the architecture, the transformation process could involve different steps.\n",
        "\n",
        "Consider a single sequence example (batch size 1).\n",
        "Suppose the input sequence is $x_1, \\ldots, x_T$,\n",
        "such that $x_t$ is the $t^{\\textrm{th}}$ token.\n",
        "At time step $t$, the RNN transforms $\\mathbf{x}_t$\n",
        "and $\\mathbf{h}_{t-1}$\n",
        "into the current hidden state $\\mathbf{h}_t$.\n",
        "\n",
        "The RNN-encoder transforms\n",
        "the hidden states at all time steps\n",
        "into a context variable through a customized function $q$:\n",
        "\n",
        "$$\\mathbf{c} =  f(\\mathbf{h}_1, \\ldots, \\mathbf{h}_T).$$\n",
        "\n",
        "For example, a one-dimensional context variable could be the hidden state $\\mathbf{h}_T$ corresponding to the encoder RNN's representation\n",
        "after processing the final token of the input sequence.\n",
        "\n",
        "###Embedding layer\n",
        "\n",
        "We use an embedding layer obtain the feature vector for each token in the input sequence.\n",
        "The weight of an embedding layer is a matrix,\n",
        "where the number of rows corresponds to\n",
        "the size of the input vocabulary (`vocab_size`)\n",
        "and number of columns corresponds to\n",
        "the feature vector's dimension (`embed_size`).\n",
        "For any input token index $i$,\n",
        "the embedding layer fetches the $i^{\\textrm{th}}$ row\n",
        "(starting from 0) of the weight matrix\n",
        "to return its feature vector. Note that the embedding matrix is a trainable parameter.\n",
        "\n",
        "\n",
        "Now let's implement the RNN encoder."
      ]
    },
    {
      "cell_type": "code",
      "execution_count": null,
      "id": "7b8df492",
      "metadata": {
        "execution": {
          "iopub.execute_input": "2023-08-18T19:55:32.100040Z",
          "iopub.status.busy": "2023-08-18T19:55:32.099233Z",
          "iopub.status.idle": "2023-08-18T19:55:32.107817Z",
          "shell.execute_reply": "2023-08-18T19:55:32.106716Z"
        },
        "origin_pos": 9,
        "tab": [
          "pytorch"
        ],
        "id": "7b8df492"
      },
      "outputs": [],
      "source": [
        "def init_seq2seq(module):\n",
        "    \"\"\"Initialize weights for sequence-to-sequence learning.\"\"\"\n",
        "    if type(module) == nn.Linear:\n",
        "         nn.init.xavier_uniform_(module.weight)\n",
        "    if type(module) == nn.GRU:\n",
        "        for param in module._flat_weights_names:\n",
        "            if \"weight\" in param:\n",
        "                nn.init.xavier_uniform_(module._parameters[param])\n",
        "\n",
        "class Seq2SeqEncoder(d2l.Encoder):\n",
        "    \"\"\"The RNN encoder for sequence-to-sequence learning.\"\"\"\n",
        "    def __init__(self, rnn_type, vocab_size, embed_size, num_hiddens, **rnn_kwargs):\n",
        "        super().__init__()\n",
        "        self.embedding = nn.Embedding(vocab_size, embed_size)\n",
        "        self.rnn = rnn_type(num_inputs=embed_size, num_hiddens=num_hiddens, **rnn_kwargs)\n",
        "        #\n",
        "        self.apply(init_seq2seq)\n",
        "\n",
        "    def forward(self, X, *args):\n",
        "        # X shape: (batch_size, num_steps)\n",
        "        embs = self.embedding(X.t().type(torch.int64))\n",
        "        # embs shape: (num_steps, batch_size, embed_size)\n",
        "        outputs, state = self.rnn(embs)\n",
        "        # outputs shape: (num_steps, batch_size, num_hiddens)\n",
        "        # state shape: (num_layers, batch_size, num_hiddens)\n",
        "        return outputs, state"
      ]
    },
    {
      "cell_type": "markdown",
      "source": [
        "Below, we instantiate a two-layer GRU encoder\n",
        "whose number of hidden units is 16.\n",
        "Given a minibatch of sequence inputs `X`\n",
        "(batch size $=4$; number of time steps $=9$),\n",
        "the hidden states of the final layer\n",
        "at all the time steps\n",
        "(`enc_outputs` returned by the encoder's recurrent layers)\n",
        "are a tensor of shape\n",
        "(number of time steps, batch size, number of hidden units)."
      ],
      "metadata": {
        "id": "g7yqijZFv1FL"
      },
      "id": "g7yqijZFv1FL"
    },
    {
      "cell_type": "code",
      "execution_count": null,
      "id": "89d5cb2e",
      "metadata": {
        "execution": {
          "iopub.execute_input": "2023-08-18T19:55:32.112983Z",
          "iopub.status.busy": "2023-08-18T19:55:32.112158Z",
          "iopub.status.idle": "2023-08-18T19:55:32.150498Z",
          "shell.execute_reply": "2023-08-18T19:55:32.149041Z"
        },
        "origin_pos": 13,
        "tab": [
          "pytorch"
        ],
        "id": "89d5cb2e"
      },
      "outputs": [],
      "source": [
        "vocab_size, embed_size, num_hiddens, num_layers = 10, 8, 16, 2\n",
        "batch_size, num_steps = 4, 9\n",
        "encoder = Seq2SeqEncoder(d2l.GRU, vocab_size, embed_size, num_hiddens, num_layers=num_layers, dropout=0)\n",
        "X = torch.zeros((batch_size, num_steps))\n",
        "enc_outputs, enc_state = encoder(X)\n"
      ]
    },
    {
      "cell_type": "code",
      "source": [
        "d2l.check_shape(enc_outputs, (num_steps, batch_size, num_hiddens))"
      ],
      "metadata": {
        "id": "RtKmhW-y3KFd"
      },
      "id": "RtKmhW-y3KFd",
      "execution_count": null,
      "outputs": []
    },
    {
      "cell_type": "markdown",
      "id": "8a35aecf",
      "metadata": {
        "origin_pos": 16,
        "id": "8a35aecf"
      },
      "source": [
        "# Decoders\n",
        "\n",
        "The decoder takes the **fixed-length context vector** produced by the encoder and generates an **variable-lenth output sequence**. It does this step by step, generating one element of the output sequence at a time.\n",
        "\n",
        "Given a target output sequence $y_1, y_2, \\ldots, y_{T'}$\n",
        "for each time step $t'$\n",
        "the decoder assigns a predicted probability\n",
        "to each possible token occurring at step $y_{t'+1}$\n",
        "conditioned upon the previous tokens in target\n",
        "$y_1, \\ldots, y_{t'}$\n",
        "and context variable\n",
        "$\\mathbf{c}$, i.e., $P(y_{t'+1} \\mid y_1, \\ldots, y_{t'}, \\mathbf{c})$.\n",
        "\n",
        "To predict the subsequent token $t^\\prime+1$ in the target sequence,\n",
        "the RNN decoder takes the previous step's target token $y_{t^\\prime}$,\n",
        "the hidden RNN state from the previous time step $\\mathbf{s}_{t^\\prime-1}$,\n",
        "and the context variable $\\mathbf{c}$ as its input,\n",
        "and transforms them into the hidden state\n",
        "$\\mathbf{s}_{t^\\prime}$ at the current time step:\n",
        "\n",
        "$$\\mathbf{s}_{t^\\prime} = g(y_{t^\\prime-1}, \\mathbf{c}, \\mathbf{s}_{t^\\prime-1}).$$\n",
        "\n",
        "\n",
        "Then we use output layer and the softmax operation\n",
        "to compute the predictive distribution of $s_{t'}$ into\n",
        "$p(y_{t^{\\prime}+1} \\mid y_1, \\ldots, y_{t^\\prime}, \\mathbf{c})$\n",
        "over the subsequent output token ${t^\\prime+1}$.\n",
        "\n",
        "For our example, we use the hidden state of the final time step\n",
        "of the encoder to initialize the hidden state of the decoder.\n",
        "This requires that the RNN encoder and the RNN decoder\n",
        "have the same <!--number of layers and--> hidden units.\n",
        "To further incorporate the encoded input sequence information,\n",
        "the context variable is concatenated\n",
        "with the decoder input at all the time steps.\n",
        "To predict the probability distribution of the output token,\n",
        "we use a fully connected layer\n",
        "to transform the hidden state\n",
        "at the final layer of the RNN decoder.\n"
      ]
    },
    {
      "cell_type": "markdown",
      "id": "f827b6d3",
      "metadata": {
        "origin_pos": 14,
        "id": "f827b6d3"
      },
      "source": [
        "Since we are using a GRU here,\n",
        "the shape of the multilayer hidden states\n",
        "at the final time step is `(number of hidden layers, batch size, number of hidden units)`.\n"
      ]
    },
    {
      "cell_type": "code",
      "execution_count": null,
      "id": "0e8eab95",
      "metadata": {
        "execution": {
          "iopub.execute_input": "2023-08-18T19:55:32.155159Z",
          "iopub.status.busy": "2023-08-18T19:55:32.154233Z",
          "iopub.status.idle": "2023-08-18T19:55:32.160686Z",
          "shell.execute_reply": "2023-08-18T19:55:32.159216Z"
        },
        "origin_pos": 15,
        "tab": [
          "pytorch"
        ],
        "id": "0e8eab95"
      },
      "outputs": [],
      "source": [
        "d2l.check_shape(enc_state, (num_layers, batch_size, num_hiddens))"
      ]
    },
    {
      "cell_type": "code",
      "execution_count": null,
      "id": "1c318811",
      "metadata": {
        "execution": {
          "iopub.execute_input": "2023-08-18T19:55:32.165108Z",
          "iopub.status.busy": "2023-08-18T19:55:32.164049Z",
          "iopub.status.idle": "2023-08-18T19:55:32.176473Z",
          "shell.execute_reply": "2023-08-18T19:55:32.175009Z"
        },
        "origin_pos": 18,
        "tab": [
          "pytorch"
        ],
        "id": "1c318811"
      },
      "outputs": [],
      "source": [
        "class Seq2SeqDecoder(d2l.Decoder):\n",
        "    \"\"\"The RNN decoder for sequence to sequence learning.\"\"\"\n",
        "    def __init__(self, vocab_size, embed_size, num_hiddens, num_layers,\n",
        "                 dropout=0):\n",
        "        super().__init__()\n",
        "        self.embedding = nn.Embedding(vocab_size, embed_size)\n",
        "        self.rnn = d2l.GRU(embed_size+num_hiddens, num_hiddens,\n",
        "                           num_layers, dropout)\n",
        "        self.dense = nn.LazyLinear(vocab_size)\n",
        "        self.apply(init_seq2seq)\n",
        "\n",
        "    def init_state(self, enc_all_outputs, *args):\n",
        "        return enc_all_outputs\n",
        "\n",
        "    def forward(self, X, state):\n",
        "        # X shape: (batch_size, num_steps)\n",
        "        # embs shape: (num_steps, batch_size, embed_size)\n",
        "        embs = self.embedding(X.t().type(torch.int32))\n",
        "        enc_output, hidden_state = state\n",
        "        # context shape: (batch_size, num_hiddens)\n",
        "        context = enc_output[-1]\n",
        "        # Broadcast context to (num_steps, batch_size, num_hiddens)\n",
        "        context = context.repeat(embs.shape[0], 1, 1)\n",
        "        # Concat at the feature dimension\n",
        "        embs_and_context = torch.cat((embs, context), -1)\n",
        "        outputs, hidden_state = self.rnn(embs_and_context, hidden_state)\n",
        "        outputs = self.dense(outputs).swapaxes(0, 1)\n",
        "        # outputs shape: (batch_size, num_steps, vocab_size)\n",
        "        # hidden_state shape: (num_layers, batch_size, num_hiddens)\n",
        "        return outputs, [enc_output, hidden_state]"
      ]
    },
    {
      "cell_type": "markdown",
      "id": "195041fa",
      "metadata": {
        "origin_pos": 21,
        "id": "195041fa"
      },
      "source": [
        "To illustrate the implemented decoder,\n",
        "below we instantiate it with the same hyperparameters from the aforementioned encoder.\n",
        "As we can see, the output shape of the decoder becomes `(batch size, number of time steps, vocabulary size)`,\n",
        "where the final dimension of the tensor stores the predicted token distribution.\n"
      ]
    },
    {
      "cell_type": "code",
      "execution_count": null,
      "id": "a51f8b17",
      "metadata": {
        "execution": {
          "iopub.execute_input": "2023-08-18T19:55:32.180880Z",
          "iopub.status.busy": "2023-08-18T19:55:32.179836Z",
          "iopub.status.idle": "2023-08-18T19:55:32.197802Z",
          "shell.execute_reply": "2023-08-18T19:55:32.196352Z"
        },
        "origin_pos": 22,
        "tab": [
          "pytorch"
        ],
        "id": "a51f8b17",
        "colab": {
          "base_uri": "https://localhost:8080/"
        },
        "outputId": "f355c462-622a-4a1e-94ea-9af61fda2d82"
      },
      "outputs": [
        {
          "output_type": "stream",
          "name": "stderr",
          "text": [
            "/usr/local/lib/python3.10/dist-packages/torch/nn/modules/lazy.py:180: UserWarning: Lazy modules are a new feature under heavy development so changes to the API or functionality can happen at any moment.\n",
            "  warnings.warn('Lazy modules are a new feature under heavy development '\n"
          ]
        }
      ],
      "source": [
        "decoder = Seq2SeqDecoder(vocab_size, embed_size, num_hiddens, num_layers)\n",
        "state = decoder.init_state(encoder(X))\n",
        "dec_outputs, state = decoder(X, state)\n",
        "d2l.check_shape(dec_outputs, (batch_size, num_steps, vocab_size))\n",
        "d2l.check_shape(state[1], (num_layers, batch_size, num_hiddens))"
      ]
    },
    {
      "cell_type": "markdown",
      "id": "8d462bf4",
      "metadata": {
        "origin_pos": 1,
        "id": "8d462bf4"
      },
      "source": [
        "#  Putting all together: seq2seq architectures for Machine Translation\n",
        "\n",
        "In this section,\n",
        "we will demonstrate the application\n",
        "of an encoder-decoder architecture,\n",
        "with an encoder RNN and decoder RNN\n",
        "to the task of machine translation.\n",
        "The architecture can be schematically represented by the following picture:\n",
        "\n",
        "![Layers in an RNN encoder--decoder model.](https://github.com/d2l-ai/d2l-pytorch-colab/blob/master/img/seq2seq-details.svg?raw=1)\n",
        "\n",
        "*Encoder*\n",
        "\n",
        "The encoder RNN will take a variable-length sequence as input\n",
        "and transform it into a fixed-shape hidden state.\n",
        "This is a different encoding structure than attention mechanisms, which allow us to access encoded inputs\n",
        "without having to compress the entire input\n",
        "into a single fixed-length representation.\n",
        "\n",
        "*Decoder*\n",
        "\n",
        "The decoder RNN,\n",
        "will predict each target token\n",
        "given both the input sequence\n",
        "and the preceding tokens in the output.\n",
        "\n",
        "\n",
        "\n",
        "![Sequence-to-sequence learning with an RNN encoder and an RNN decoder.](http://d2l.ai/_images/seq2seq.svg)\n",
        "\n",
        "Special \"&lt;eos&gt;\" token\n",
        "marks the end of the sequence.\n",
        "Our model can stop making predictions\n",
        "once this token is generated.\n",
        "At the initial time step of the RNN decoder,\n",
        "there are two special design decisions to be aware of:\n",
        "First, we begin every input with a special\n",
        "beginning-of-sequence \"&lt;bos&gt;\" token.\n",
        "Second, we may feed\n",
        "the final hidden state of the encoder\n",
        "into the decoder\n",
        "at every single decoding time step.\n",
        "In some other designs,\n",
        "such as that of\n",
        "the final hidden state of the RNN encoder\n",
        "is used\n",
        "to initiate the hidden state of the decoder\n",
        "only at the first decoding step.\n"
      ]
    },
    {
      "cell_type": "code",
      "execution_count": null,
      "id": "4e30d226",
      "metadata": {
        "execution": {
          "iopub.execute_input": "2023-08-18T19:55:32.207516Z",
          "iopub.status.busy": "2023-08-18T19:55:32.206334Z",
          "iopub.status.idle": "2023-08-18T19:55:32.219468Z",
          "shell.execute_reply": "2023-08-18T19:55:32.218248Z"
        },
        "origin_pos": 24,
        "tab": [
          "pytorch"
        ],
        "id": "4e30d226"
      },
      "outputs": [],
      "source": [
        "class Seq2Seq(d2l.EncoderDecoder):\n",
        "    \"\"\"The RNN encoder--decoder for sequence to sequence learning.\"\"\"\n",
        "    def __init__(self, encoder, decoder, tgt_pad, lr):\n",
        "        super().__init__(encoder, decoder)\n",
        "        self.save_hyperparameters()\n",
        "\n",
        "    def validation_step(self, batch):\n",
        "        Y_hat = self(*batch[:-1])\n",
        "        self.plot('loss', self.loss(Y_hat, batch[-1]), train=False)\n",
        "\n",
        "    def configure_optimizers(self):\n",
        "        # Adam optimizer is used here\n",
        "        return torch.optim.Adam(self.parameters(), lr=self.lr)\n",
        "\n",
        "    def loss(self, Y_hat, Y):\n",
        "      l = super(Seq2Seq, self).loss(Y_hat, Y, averaged=False)\n",
        "      mask = (Y.reshape(-1) != self.tgt_pad).type(torch.float32)\n",
        "      return (l * mask).sum() / mask.sum()\n",
        "\n",
        "    def predict_step(self, batch, device, num_steps,\n",
        "                 save_attention_weights=False):\n",
        "      batch = [a.to(device) for a in batch]\n",
        "      src, tgt, src_valid_len, _ = batch\n",
        "      enc_all_outputs = self.encoder(src, src_valid_len)\n",
        "      dec_state = self.decoder.init_state(enc_all_outputs, src_valid_len)\n",
        "      outputs, attention_weights = [tgt[:, (0)].unsqueeze(1), ], []\n",
        "      for _ in range(num_steps):\n",
        "          Y, dec_state = self.decoder(outputs[-1], dec_state)\n",
        "          outputs.append(Y.argmax(2))\n",
        "          # Save attention weights (to be covered later)\n",
        "          if save_attention_weights:\n",
        "              attention_weights.append(self.decoder.attention_weights)\n",
        "      return torch.cat(outputs[1:], 1), attention_weights"
      ]
    },
    {
      "cell_type": "markdown",
      "source": [
        "## Teacher forcing\n",
        "\n",
        "During training, the decoder will typically\n",
        "be conditioned upon the preceding tokens\n",
        "in the official \"ground truth\" label. This training paradigm is called *teacher forcing* and is used to guarantee faster convergence and stability.\n",
        "\n",
        "Note that, at test time, we will want to condition\n",
        "each output of the decoder on the tokens already predicted.\n"
      ],
      "metadata": {
        "id": "wCK5XLXI8O_R"
      },
      "id": "wCK5XLXI8O_R"
    },
    {
      "cell_type": "markdown",
      "id": "81fe6c0d",
      "metadata": {
        "origin_pos": 26,
        "id": "81fe6c0d"
      },
      "source": [
        "## Loss Function with Masking\n",
        "\n",
        "At each time step, the decoder predicts\n",
        "a probability distribution for the output tokens.\n",
        "As with language modeling,\n",
        "we can apply softmax\n",
        "to obtain the distribution\n",
        "and calculate the cross-entropy loss for optimization.\n",
        "Recall fromthat the special padding tokens\n",
        "are appended to the end of sequences\n",
        "and so sequences of varying lengths\n",
        "can be efficiently loaded\n",
        "in minibatches of the same shape.\n",
        "However, prediction of padding tokens\n",
        "should be excluded from loss calculations.\n",
        "To this end, we can\n",
        "mask irrelevant entries with zero values\n",
        "so that multiplication\n",
        "of any irrelevant prediction\n",
        "with zero equates to zero.\n"
      ]
    },
    {
      "cell_type": "markdown",
      "id": "876a6584",
      "metadata": {
        "origin_pos": 29,
        "id": "876a6584"
      },
      "source": [
        "## Training\n",
        "Now we can create and train an RNN encoder-decoder model\n",
        "for sequence-to-sequence learning on the machine translation dataset."
      ]
    },
    {
      "cell_type": "code",
      "execution_count": null,
      "id": "2e0ee6e7",
      "metadata": {
        "execution": {
          "iopub.execute_input": "2023-08-18T19:55:32.246700Z",
          "iopub.status.busy": "2023-08-18T19:55:32.246014Z",
          "iopub.status.idle": "2023-08-18T19:56:06.984975Z",
          "shell.execute_reply": "2023-08-18T19:56:06.983766Z"
        },
        "origin_pos": 30,
        "tab": [
          "pytorch"
        ],
        "id": "2e0ee6e7",
        "outputId": "d20d6396-cef5-4260-f36c-5dddc53e7c98",
        "colab": {
          "base_uri": "https://localhost:8080/",
          "height": 266
        }
      },
      "outputs": [
        {
          "output_type": "display_data",
          "data": {
            "text/plain": [
              "<Figure size 350x250 with 1 Axes>"
            ],
            "image/svg+xml": "<?xml version=\"1.0\" encoding=\"utf-8\" standalone=\"no\"?>\n<!DOCTYPE svg PUBLIC \"-//W3C//DTD SVG 1.1//EN\"\n  \"http://www.w3.org/Graphics/SVG/1.1/DTD/svg11.dtd\">\n<svg xmlns:xlink=\"http://www.w3.org/1999/xlink\" width=\"229.425pt\" height=\"183.35625pt\" viewBox=\"0 0 229.425 183.35625\" xmlns=\"http://www.w3.org/2000/svg\" version=\"1.1\">\n <metadata>\n  <rdf:RDF xmlns:dc=\"http://purl.org/dc/elements/1.1/\" xmlns:cc=\"http://creativecommons.org/ns#\" xmlns:rdf=\"http://www.w3.org/1999/02/22-rdf-syntax-ns#\">\n   <cc:Work>\n    <dc:type rdf:resource=\"http://purl.org/dc/dcmitype/StillImage\"/>\n    <dc:date>2023-11-19T14:10:13.348066</dc:date>\n    <dc:format>image/svg+xml</dc:format>\n    <dc:creator>\n     <cc:Agent>\n      <dc:title>Matplotlib v3.7.1, https://matplotlib.org/</dc:title>\n     </cc:Agent>\n    </dc:creator>\n   </cc:Work>\n  </rdf:RDF>\n </metadata>\n <defs>\n  <style type=\"text/css\">*{stroke-linejoin: round; stroke-linecap: butt}</style>\n </defs>\n <g id=\"figure_1\">\n  <g id=\"patch_1\">\n   <path d=\"M 0 183.35625 \nL 229.425 183.35625 \nL 229.425 0 \nL 0 0 \nz\n\" style=\"fill: #ffffff\"/>\n  </g>\n  <g id=\"axes_1\">\n   <g id=\"patch_2\">\n    <path d=\"M 20.5625 145.8 \nL 215.8625 145.8 \nL 215.8625 7.2 \nL 20.5625 7.2 \nz\n\" style=\"fill: #ffffff\"/>\n   </g>\n   <g id=\"matplotlib.axis_1\">\n    <g id=\"xtick_1\">\n     <g id=\"line2d_1\">\n      <defs>\n       <path id=\"m235e7baae9\" d=\"M 0 0 \nL 0 3.5 \n\" style=\"stroke: #000000; stroke-width: 0.8\"/>\n      </defs>\n      <g>\n       <use xlink:href=\"#m235e7baae9\" x=\"20.5625\" y=\"145.8\" style=\"stroke: #000000; stroke-width: 0.8\"/>\n      </g>\n     </g>\n     <g id=\"text_1\">\n      <!-- 0 -->\n      <g transform=\"translate(17.38125 160.398438) scale(0.1 -0.1)\">\n       <defs>\n        <path id=\"DejaVuSans-30\" d=\"M 2034 4250 \nQ 1547 4250 1301 3770 \nQ 1056 3291 1056 2328 \nQ 1056 1369 1301 889 \nQ 1547 409 2034 409 \nQ 2525 409 2770 889 \nQ 3016 1369 3016 2328 \nQ 3016 3291 2770 3770 \nQ 2525 4250 2034 4250 \nz\nM 2034 4750 \nQ 2819 4750 3233 4129 \nQ 3647 3509 3647 2328 \nQ 3647 1150 3233 529 \nQ 2819 -91 2034 -91 \nQ 1250 -91 836 529 \nQ 422 1150 422 2328 \nQ 422 3509 836 4129 \nQ 1250 4750 2034 4750 \nz\n\" transform=\"scale(0.015625)\"/>\n       </defs>\n       <use xlink:href=\"#DejaVuSans-30\"/>\n      </g>\n     </g>\n    </g>\n    <g id=\"xtick_2\">\n     <g id=\"line2d_2\">\n      <g>\n       <use xlink:href=\"#m235e7baae9\" x=\"53.1125\" y=\"145.8\" style=\"stroke: #000000; stroke-width: 0.8\"/>\n      </g>\n     </g>\n     <g id=\"text_2\">\n      <!-- 5 -->\n      <g transform=\"translate(49.93125 160.398438) scale(0.1 -0.1)\">\n       <defs>\n        <path id=\"DejaVuSans-35\" d=\"M 691 4666 \nL 3169 4666 \nL 3169 4134 \nL 1269 4134 \nL 1269 2991 \nQ 1406 3038 1543 3061 \nQ 1681 3084 1819 3084 \nQ 2600 3084 3056 2656 \nQ 3513 2228 3513 1497 \nQ 3513 744 3044 326 \nQ 2575 -91 1722 -91 \nQ 1428 -91 1123 -41 \nQ 819 9 494 109 \nL 494 744 \nQ 775 591 1075 516 \nQ 1375 441 1709 441 \nQ 2250 441 2565 725 \nQ 2881 1009 2881 1497 \nQ 2881 1984 2565 2268 \nQ 2250 2553 1709 2553 \nQ 1456 2553 1204 2497 \nQ 953 2441 691 2322 \nL 691 4666 \nz\n\" transform=\"scale(0.015625)\"/>\n       </defs>\n       <use xlink:href=\"#DejaVuSans-35\"/>\n      </g>\n     </g>\n    </g>\n    <g id=\"xtick_3\">\n     <g id=\"line2d_3\">\n      <g>\n       <use xlink:href=\"#m235e7baae9\" x=\"85.6625\" y=\"145.8\" style=\"stroke: #000000; stroke-width: 0.8\"/>\n      </g>\n     </g>\n     <g id=\"text_3\">\n      <!-- 10 -->\n      <g transform=\"translate(79.3 160.398438) scale(0.1 -0.1)\">\n       <defs>\n        <path id=\"DejaVuSans-31\" d=\"M 794 531 \nL 1825 531 \nL 1825 4091 \nL 703 3866 \nL 703 4441 \nL 1819 4666 \nL 2450 4666 \nL 2450 531 \nL 3481 531 \nL 3481 0 \nL 794 0 \nL 794 531 \nz\n\" transform=\"scale(0.015625)\"/>\n       </defs>\n       <use xlink:href=\"#DejaVuSans-31\"/>\n       <use xlink:href=\"#DejaVuSans-30\" x=\"63.623047\"/>\n      </g>\n     </g>\n    </g>\n    <g id=\"xtick_4\">\n     <g id=\"line2d_4\">\n      <g>\n       <use xlink:href=\"#m235e7baae9\" x=\"118.2125\" y=\"145.8\" style=\"stroke: #000000; stroke-width: 0.8\"/>\n      </g>\n     </g>\n     <g id=\"text_4\">\n      <!-- 15 -->\n      <g transform=\"translate(111.85 160.398438) scale(0.1 -0.1)\">\n       <use xlink:href=\"#DejaVuSans-31\"/>\n       <use xlink:href=\"#DejaVuSans-35\" x=\"63.623047\"/>\n      </g>\n     </g>\n    </g>\n    <g id=\"xtick_5\">\n     <g id=\"line2d_5\">\n      <g>\n       <use xlink:href=\"#m235e7baae9\" x=\"150.7625\" y=\"145.8\" style=\"stroke: #000000; stroke-width: 0.8\"/>\n      </g>\n     </g>\n     <g id=\"text_5\">\n      <!-- 20 -->\n      <g transform=\"translate(144.4 160.398438) scale(0.1 -0.1)\">\n       <defs>\n        <path id=\"DejaVuSans-32\" d=\"M 1228 531 \nL 3431 531 \nL 3431 0 \nL 469 0 \nL 469 531 \nQ 828 903 1448 1529 \nQ 2069 2156 2228 2338 \nQ 2531 2678 2651 2914 \nQ 2772 3150 2772 3378 \nQ 2772 3750 2511 3984 \nQ 2250 4219 1831 4219 \nQ 1534 4219 1204 4116 \nQ 875 4013 500 3803 \nL 500 4441 \nQ 881 4594 1212 4672 \nQ 1544 4750 1819 4750 \nQ 2544 4750 2975 4387 \nQ 3406 4025 3406 3419 \nQ 3406 3131 3298 2873 \nQ 3191 2616 2906 2266 \nQ 2828 2175 2409 1742 \nQ 1991 1309 1228 531 \nz\n\" transform=\"scale(0.015625)\"/>\n       </defs>\n       <use xlink:href=\"#DejaVuSans-32\"/>\n       <use xlink:href=\"#DejaVuSans-30\" x=\"63.623047\"/>\n      </g>\n     </g>\n    </g>\n    <g id=\"xtick_6\">\n     <g id=\"line2d_6\">\n      <g>\n       <use xlink:href=\"#m235e7baae9\" x=\"183.3125\" y=\"145.8\" style=\"stroke: #000000; stroke-width: 0.8\"/>\n      </g>\n     </g>\n     <g id=\"text_6\">\n      <!-- 25 -->\n      <g transform=\"translate(176.95 160.398438) scale(0.1 -0.1)\">\n       <use xlink:href=\"#DejaVuSans-32\"/>\n       <use xlink:href=\"#DejaVuSans-35\" x=\"63.623047\"/>\n      </g>\n     </g>\n    </g>\n    <g id=\"xtick_7\">\n     <g id=\"line2d_7\">\n      <g>\n       <use xlink:href=\"#m235e7baae9\" x=\"215.8625\" y=\"145.8\" style=\"stroke: #000000; stroke-width: 0.8\"/>\n      </g>\n     </g>\n     <g id=\"text_7\">\n      <!-- 30 -->\n      <g transform=\"translate(209.5 160.398438) scale(0.1 -0.1)\">\n       <defs>\n        <path id=\"DejaVuSans-33\" d=\"M 2597 2516 \nQ 3050 2419 3304 2112 \nQ 3559 1806 3559 1356 \nQ 3559 666 3084 287 \nQ 2609 -91 1734 -91 \nQ 1441 -91 1130 -33 \nQ 819 25 488 141 \nL 488 750 \nQ 750 597 1062 519 \nQ 1375 441 1716 441 \nQ 2309 441 2620 675 \nQ 2931 909 2931 1356 \nQ 2931 1769 2642 2001 \nQ 2353 2234 1838 2234 \nL 1294 2234 \nL 1294 2753 \nL 1863 2753 \nQ 2328 2753 2575 2939 \nQ 2822 3125 2822 3475 \nQ 2822 3834 2567 4026 \nQ 2313 4219 1838 4219 \nQ 1578 4219 1281 4162 \nQ 984 4106 628 3988 \nL 628 4550 \nQ 988 4650 1302 4700 \nQ 1616 4750 1894 4750 \nQ 2613 4750 3031 4423 \nQ 3450 4097 3450 3541 \nQ 3450 3153 3228 2886 \nQ 3006 2619 2597 2516 \nz\n\" transform=\"scale(0.015625)\"/>\n       </defs>\n       <use xlink:href=\"#DejaVuSans-33\"/>\n       <use xlink:href=\"#DejaVuSans-30\" x=\"63.623047\"/>\n      </g>\n     </g>\n    </g>\n    <g id=\"text_8\">\n     <!-- epoch -->\n     <g transform=\"translate(102.984375 174.076563) scale(0.1 -0.1)\">\n      <defs>\n       <path id=\"DejaVuSans-65\" d=\"M 3597 1894 \nL 3597 1613 \nL 953 1613 \nQ 991 1019 1311 708 \nQ 1631 397 2203 397 \nQ 2534 397 2845 478 \nQ 3156 559 3463 722 \nL 3463 178 \nQ 3153 47 2828 -22 \nQ 2503 -91 2169 -91 \nQ 1331 -91 842 396 \nQ 353 884 353 1716 \nQ 353 2575 817 3079 \nQ 1281 3584 2069 3584 \nQ 2775 3584 3186 3129 \nQ 3597 2675 3597 1894 \nz\nM 3022 2063 \nQ 3016 2534 2758 2815 \nQ 2500 3097 2075 3097 \nQ 1594 3097 1305 2825 \nQ 1016 2553 972 2059 \nL 3022 2063 \nz\n\" transform=\"scale(0.015625)\"/>\n       <path id=\"DejaVuSans-70\" d=\"M 1159 525 \nL 1159 -1331 \nL 581 -1331 \nL 581 3500 \nL 1159 3500 \nL 1159 2969 \nQ 1341 3281 1617 3432 \nQ 1894 3584 2278 3584 \nQ 2916 3584 3314 3078 \nQ 3713 2572 3713 1747 \nQ 3713 922 3314 415 \nQ 2916 -91 2278 -91 \nQ 1894 -91 1617 61 \nQ 1341 213 1159 525 \nz\nM 3116 1747 \nQ 3116 2381 2855 2742 \nQ 2594 3103 2138 3103 \nQ 1681 3103 1420 2742 \nQ 1159 2381 1159 1747 \nQ 1159 1113 1420 752 \nQ 1681 391 2138 391 \nQ 2594 391 2855 752 \nQ 3116 1113 3116 1747 \nz\n\" transform=\"scale(0.015625)\"/>\n       <path id=\"DejaVuSans-6f\" d=\"M 1959 3097 \nQ 1497 3097 1228 2736 \nQ 959 2375 959 1747 \nQ 959 1119 1226 758 \nQ 1494 397 1959 397 \nQ 2419 397 2687 759 \nQ 2956 1122 2956 1747 \nQ 2956 2369 2687 2733 \nQ 2419 3097 1959 3097 \nz\nM 1959 3584 \nQ 2709 3584 3137 3096 \nQ 3566 2609 3566 1747 \nQ 3566 888 3137 398 \nQ 2709 -91 1959 -91 \nQ 1206 -91 779 398 \nQ 353 888 353 1747 \nQ 353 2609 779 3096 \nQ 1206 3584 1959 3584 \nz\n\" transform=\"scale(0.015625)\"/>\n       <path id=\"DejaVuSans-63\" d=\"M 3122 3366 \nL 3122 2828 \nQ 2878 2963 2633 3030 \nQ 2388 3097 2138 3097 \nQ 1578 3097 1268 2742 \nQ 959 2388 959 1747 \nQ 959 1106 1268 751 \nQ 1578 397 2138 397 \nQ 2388 397 2633 464 \nQ 2878 531 3122 666 \nL 3122 134 \nQ 2881 22 2623 -34 \nQ 2366 -91 2075 -91 \nQ 1284 -91 818 406 \nQ 353 903 353 1747 \nQ 353 2603 823 3093 \nQ 1294 3584 2113 3584 \nQ 2378 3584 2631 3529 \nQ 2884 3475 3122 3366 \nz\n\" transform=\"scale(0.015625)\"/>\n       <path id=\"DejaVuSans-68\" d=\"M 3513 2113 \nL 3513 0 \nL 2938 0 \nL 2938 2094 \nQ 2938 2591 2744 2837 \nQ 2550 3084 2163 3084 \nQ 1697 3084 1428 2787 \nQ 1159 2491 1159 1978 \nL 1159 0 \nL 581 0 \nL 581 4863 \nL 1159 4863 \nL 1159 2956 \nQ 1366 3272 1645 3428 \nQ 1925 3584 2291 3584 \nQ 2894 3584 3203 3211 \nQ 3513 2838 3513 2113 \nz\n\" transform=\"scale(0.015625)\"/>\n      </defs>\n      <use xlink:href=\"#DejaVuSans-65\"/>\n      <use xlink:href=\"#DejaVuSans-70\" x=\"61.523438\"/>\n      <use xlink:href=\"#DejaVuSans-6f\" x=\"125\"/>\n      <use xlink:href=\"#DejaVuSans-63\" x=\"186.181641\"/>\n      <use xlink:href=\"#DejaVuSans-68\" x=\"241.162109\"/>\n     </g>\n    </g>\n   </g>\n   <g id=\"matplotlib.axis_2\">\n    <g id=\"ytick_1\">\n     <g id=\"line2d_8\">\n      <defs>\n       <path id=\"mda1fb467d3\" d=\"M 0 0 \nL -3.5 0 \n\" style=\"stroke: #000000; stroke-width: 0.8\"/>\n      </defs>\n      <g>\n       <use xlink:href=\"#mda1fb467d3\" x=\"20.5625\" y=\"145.373658\" style=\"stroke: #000000; stroke-width: 0.8\"/>\n      </g>\n     </g>\n     <g id=\"text_9\">\n      <!-- 0 -->\n      <g transform=\"translate(7.2 149.172877) scale(0.1 -0.1)\">\n       <use xlink:href=\"#DejaVuSans-30\"/>\n      </g>\n     </g>\n    </g>\n    <g id=\"ytick_2\">\n     <g id=\"line2d_9\">\n      <g>\n       <use xlink:href=\"#mda1fb467d3\" x=\"20.5625\" y=\"117.556118\" style=\"stroke: #000000; stroke-width: 0.8\"/>\n      </g>\n     </g>\n     <g id=\"text_10\">\n      <!-- 1 -->\n      <g transform=\"translate(7.2 121.355336) scale(0.1 -0.1)\">\n       <use xlink:href=\"#DejaVuSans-31\"/>\n      </g>\n     </g>\n    </g>\n    <g id=\"ytick_3\">\n     <g id=\"line2d_10\">\n      <g>\n       <use xlink:href=\"#mda1fb467d3\" x=\"20.5625\" y=\"89.738577\" style=\"stroke: #000000; stroke-width: 0.8\"/>\n      </g>\n     </g>\n     <g id=\"text_11\">\n      <!-- 2 -->\n      <g transform=\"translate(7.2 93.537796) scale(0.1 -0.1)\">\n       <use xlink:href=\"#DejaVuSans-32\"/>\n      </g>\n     </g>\n    </g>\n    <g id=\"ytick_4\">\n     <g id=\"line2d_11\">\n      <g>\n       <use xlink:href=\"#mda1fb467d3\" x=\"20.5625\" y=\"61.921037\" style=\"stroke: #000000; stroke-width: 0.8\"/>\n      </g>\n     </g>\n     <g id=\"text_12\">\n      <!-- 3 -->\n      <g transform=\"translate(7.2 65.720256) scale(0.1 -0.1)\">\n       <use xlink:href=\"#DejaVuSans-33\"/>\n      </g>\n     </g>\n    </g>\n    <g id=\"ytick_5\">\n     <g id=\"line2d_12\">\n      <g>\n       <use xlink:href=\"#mda1fb467d3\" x=\"20.5625\" y=\"34.103497\" style=\"stroke: #000000; stroke-width: 0.8\"/>\n      </g>\n     </g>\n     <g id=\"text_13\">\n      <!-- 4 -->\n      <g transform=\"translate(7.2 37.902716) scale(0.1 -0.1)\">\n       <defs>\n        <path id=\"DejaVuSans-34\" d=\"M 2419 4116 \nL 825 1625 \nL 2419 1625 \nL 2419 4116 \nz\nM 2253 4666 \nL 3047 4666 \nL 3047 1625 \nL 3713 1625 \nL 3713 1100 \nL 3047 1100 \nL 3047 0 \nL 2419 0 \nL 2419 1100 \nL 313 1100 \nL 313 1709 \nL 2253 4666 \nz\n\" transform=\"scale(0.015625)\"/>\n       </defs>\n       <use xlink:href=\"#DejaVuSans-34\"/>\n      </g>\n     </g>\n    </g>\n   </g>\n   <g id=\"line2d_13\">\n    <path d=\"M 21.37625 13.5 \n\" clip-path=\"url(#pd46c8240c2)\" style=\"fill: none; stroke: #1f77b4; stroke-width: 1.5; stroke-linecap: square\"/>\n   </g>\n   <g id=\"line2d_14\">\n    <path d=\"M 21.37625 13.5 \nL 24.63125 53.841205 \n\" clip-path=\"url(#pd46c8240c2)\" style=\"fill: none; stroke: #1f77b4; stroke-width: 1.5; stroke-linecap: square\"/>\n   </g>\n   <g id=\"line2d_15\">\n    <path d=\"M 21.37625 13.5 \nL 24.63125 53.841205 \n\" clip-path=\"url(#pd46c8240c2)\" style=\"fill: none; stroke: #1f77b4; stroke-width: 1.5; stroke-linecap: square\"/>\n   </g>\n   <g id=\"line2d_16\">\n    <path d=\"M 27.0725 48.830043 \n\" clip-path=\"url(#pd46c8240c2)\" style=\"fill: none; stroke-dasharray: 5.55,2.4; stroke-dashoffset: 0; stroke: #ff7f0e; stroke-width: 1.5\"/>\n   </g>\n   <g id=\"line2d_17\">\n    <path d=\"M 21.37625 13.5 \nL 24.63125 53.841205 \nL 27.88625 63.106311 \n\" clip-path=\"url(#pd46c8240c2)\" style=\"fill: none; stroke: #1f77b4; stroke-width: 1.5; stroke-linecap: square\"/>\n   </g>\n   <g id=\"line2d_18\">\n    <path d=\"M 27.0725 48.830043 \n\" clip-path=\"url(#pd46c8240c2)\" style=\"fill: none; stroke-dasharray: 5.55,2.4; stroke-dashoffset: 0; stroke: #ff7f0e; stroke-width: 1.5\"/>\n   </g>\n   <g id=\"line2d_19\">\n    <path d=\"M 21.37625 13.5 \nL 24.63125 53.841205 \nL 27.88625 63.106311 \nL 31.14125 65.264793 \n\" clip-path=\"url(#pd46c8240c2)\" style=\"fill: none; stroke: #1f77b4; stroke-width: 1.5; stroke-linecap: square\"/>\n   </g>\n   <g id=\"line2d_20\">\n    <path d=\"M 27.0725 48.830043 \n\" clip-path=\"url(#pd46c8240c2)\" style=\"fill: none; stroke-dasharray: 5.55,2.4; stroke-dashoffset: 0; stroke: #ff7f0e; stroke-width: 1.5\"/>\n   </g>\n   <g id=\"line2d_21\">\n    <path d=\"M 21.37625 13.5 \nL 24.63125 53.841205 \nL 27.88625 63.106311 \nL 31.14125 65.264793 \n\" clip-path=\"url(#pd46c8240c2)\" style=\"fill: none; stroke: #1f77b4; stroke-width: 1.5; stroke-linecap: square\"/>\n   </g>\n   <g id=\"line2d_22\">\n    <path d=\"M 27.0725 48.830043 \nL 33.5825 63.516245 \n\" clip-path=\"url(#pd46c8240c2)\" style=\"fill: none; stroke-dasharray: 5.55,2.4; stroke-dashoffset: 0; stroke: #ff7f0e; stroke-width: 1.5\"/>\n   </g>\n   <g id=\"line2d_23\">\n    <path d=\"M 21.37625 13.5 \nL 24.63125 53.841205 \nL 27.88625 63.106311 \nL 31.14125 65.264793 \nL 34.39625 77.287088 \n\" clip-path=\"url(#pd46c8240c2)\" style=\"fill: none; stroke: #1f77b4; stroke-width: 1.5; stroke-linecap: square\"/>\n   </g>\n   <g id=\"line2d_24\">\n    <path d=\"M 27.0725 48.830043 \nL 33.5825 63.516245 \n\" clip-path=\"url(#pd46c8240c2)\" style=\"fill: none; stroke-dasharray: 5.55,2.4; stroke-dashoffset: 0; stroke: #ff7f0e; stroke-width: 1.5\"/>\n   </g>\n   <g id=\"line2d_25\">\n    <path d=\"M 21.37625 13.5 \nL 24.63125 53.841205 \nL 27.88625 63.106311 \nL 31.14125 65.264793 \nL 34.39625 77.287088 \nL 37.65125 76.889321 \n\" clip-path=\"url(#pd46c8240c2)\" style=\"fill: none; stroke: #1f77b4; stroke-width: 1.5; stroke-linecap: square\"/>\n   </g>\n   <g id=\"line2d_26\">\n    <path d=\"M 27.0725 48.830043 \nL 33.5825 63.516245 \n\" clip-path=\"url(#pd46c8240c2)\" style=\"fill: none; stroke-dasharray: 5.55,2.4; stroke-dashoffset: 0; stroke: #ff7f0e; stroke-width: 1.5\"/>\n   </g>\n   <g id=\"line2d_27\">\n    <path d=\"M 21.37625 13.5 \nL 24.63125 53.841205 \nL 27.88625 63.106311 \nL 31.14125 65.264793 \nL 34.39625 77.287088 \nL 37.65125 76.889321 \n\" clip-path=\"url(#pd46c8240c2)\" style=\"fill: none; stroke: #1f77b4; stroke-width: 1.5; stroke-linecap: square\"/>\n   </g>\n   <g id=\"line2d_28\">\n    <path d=\"M 27.0725 48.830043 \nL 33.5825 63.516245 \nL 40.0925 64.547744 \n\" clip-path=\"url(#pd46c8240c2)\" style=\"fill: none; stroke-dasharray: 5.55,2.4; stroke-dashoffset: 0; stroke: #ff7f0e; stroke-width: 1.5\"/>\n   </g>\n   <g id=\"line2d_29\">\n    <path d=\"M 21.37625 13.5 \nL 24.63125 53.841205 \nL 27.88625 63.106311 \nL 31.14125 65.264793 \nL 34.39625 77.287088 \nL 37.65125 76.889321 \nL 40.90625 86.007587 \n\" clip-path=\"url(#pd46c8240c2)\" style=\"fill: none; stroke: #1f77b4; stroke-width: 1.5; stroke-linecap: square\"/>\n   </g>\n   <g id=\"line2d_30\">\n    <path d=\"M 27.0725 48.830043 \nL 33.5825 63.516245 \nL 40.0925 64.547744 \n\" clip-path=\"url(#pd46c8240c2)\" style=\"fill: none; stroke-dasharray: 5.55,2.4; stroke-dashoffset: 0; stroke: #ff7f0e; stroke-width: 1.5\"/>\n   </g>\n   <g id=\"line2d_31\">\n    <path d=\"M 21.37625 13.5 \nL 24.63125 53.841205 \nL 27.88625 63.106311 \nL 31.14125 65.264793 \nL 34.39625 77.287088 \nL 37.65125 76.889321 \nL 40.90625 86.007587 \nL 44.16125 86.258659 \n\" clip-path=\"url(#pd46c8240c2)\" style=\"fill: none; stroke: #1f77b4; stroke-width: 1.5; stroke-linecap: square\"/>\n   </g>\n   <g id=\"line2d_32\">\n    <path d=\"M 27.0725 48.830043 \nL 33.5825 63.516245 \nL 40.0925 64.547744 \n\" clip-path=\"url(#pd46c8240c2)\" style=\"fill: none; stroke-dasharray: 5.55,2.4; stroke-dashoffset: 0; stroke: #ff7f0e; stroke-width: 1.5\"/>\n   </g>\n   <g id=\"line2d_33\">\n    <path d=\"M 21.37625 13.5 \nL 24.63125 53.841205 \nL 27.88625 63.106311 \nL 31.14125 65.264793 \nL 34.39625 77.287088 \nL 37.65125 76.889321 \nL 40.90625 86.007587 \nL 44.16125 86.258659 \n\" clip-path=\"url(#pd46c8240c2)\" style=\"fill: none; stroke: #1f77b4; stroke-width: 1.5; stroke-linecap: square\"/>\n   </g>\n   <g id=\"line2d_34\">\n    <path d=\"M 27.0725 48.830043 \nL 33.5825 63.516245 \nL 40.0925 64.547744 \nL 46.6025 69.457463 \n\" clip-path=\"url(#pd46c8240c2)\" style=\"fill: none; stroke-dasharray: 5.55,2.4; stroke-dashoffset: 0; stroke: #ff7f0e; stroke-width: 1.5\"/>\n   </g>\n   <g id=\"line2d_35\">\n    <path d=\"M 21.37625 13.5 \nL 24.63125 53.841205 \nL 27.88625 63.106311 \nL 31.14125 65.264793 \nL 34.39625 77.287088 \nL 37.65125 76.889321 \nL 40.90625 86.007587 \nL 44.16125 86.258659 \nL 47.41625 94.466449 \n\" clip-path=\"url(#pd46c8240c2)\" style=\"fill: none; stroke: #1f77b4; stroke-width: 1.5; stroke-linecap: square\"/>\n   </g>\n   <g id=\"line2d_36\">\n    <path d=\"M 27.0725 48.830043 \nL 33.5825 63.516245 \nL 40.0925 64.547744 \nL 46.6025 69.457463 \n\" clip-path=\"url(#pd46c8240c2)\" style=\"fill: none; stroke-dasharray: 5.55,2.4; stroke-dashoffset: 0; stroke: #ff7f0e; stroke-width: 1.5\"/>\n   </g>\n   <g id=\"line2d_37\">\n    <path d=\"M 21.37625 13.5 \nL 24.63125 53.841205 \nL 27.88625 63.106311 \nL 31.14125 65.264793 \nL 34.39625 77.287088 \nL 37.65125 76.889321 \nL 40.90625 86.007587 \nL 44.16125 86.258659 \nL 47.41625 94.466449 \nL 50.67125 92.02757 \n\" clip-path=\"url(#pd46c8240c2)\" style=\"fill: none; stroke: #1f77b4; stroke-width: 1.5; stroke-linecap: square\"/>\n   </g>\n   <g id=\"line2d_38\">\n    <path d=\"M 27.0725 48.830043 \nL 33.5825 63.516245 \nL 40.0925 64.547744 \nL 46.6025 69.457463 \n\" clip-path=\"url(#pd46c8240c2)\" style=\"fill: none; stroke-dasharray: 5.55,2.4; stroke-dashoffset: 0; stroke: #ff7f0e; stroke-width: 1.5\"/>\n   </g>\n   <g id=\"line2d_39\">\n    <path d=\"M 21.37625 13.5 \nL 24.63125 53.841205 \nL 27.88625 63.106311 \nL 31.14125 65.264793 \nL 34.39625 77.287088 \nL 37.65125 76.889321 \nL 40.90625 86.007587 \nL 44.16125 86.258659 \nL 47.41625 94.466449 \nL 50.67125 92.02757 \n\" clip-path=\"url(#pd46c8240c2)\" style=\"fill: none; stroke: #1f77b4; stroke-width: 1.5; stroke-linecap: square\"/>\n   </g>\n   <g id=\"line2d_40\">\n    <path d=\"M 27.0725 48.830043 \nL 33.5825 63.516245 \nL 40.0925 64.547744 \nL 46.6025 69.457463 \nL 53.1125 69.900342 \n\" clip-path=\"url(#pd46c8240c2)\" style=\"fill: none; stroke-dasharray: 5.55,2.4; stroke-dashoffset: 0; stroke: #ff7f0e; stroke-width: 1.5\"/>\n   </g>\n   <g id=\"line2d_41\">\n    <path d=\"M 21.37625 13.5 \nL 24.63125 53.841205 \nL 27.88625 63.106311 \nL 31.14125 65.264793 \nL 34.39625 77.287088 \nL 37.65125 76.889321 \nL 40.90625 86.007587 \nL 44.16125 86.258659 \nL 47.41625 94.466449 \nL 50.67125 92.02757 \nL 53.92625 98.757076 \n\" clip-path=\"url(#pd46c8240c2)\" style=\"fill: none; stroke: #1f77b4; stroke-width: 1.5; stroke-linecap: square\"/>\n   </g>\n   <g id=\"line2d_42\">\n    <path d=\"M 27.0725 48.830043 \nL 33.5825 63.516245 \nL 40.0925 64.547744 \nL 46.6025 69.457463 \nL 53.1125 69.900342 \n\" clip-path=\"url(#pd46c8240c2)\" style=\"fill: none; stroke-dasharray: 5.55,2.4; stroke-dashoffset: 0; stroke: #ff7f0e; stroke-width: 1.5\"/>\n   </g>\n   <g id=\"line2d_43\">\n    <path d=\"M 21.37625 13.5 \nL 24.63125 53.841205 \nL 27.88625 63.106311 \nL 31.14125 65.264793 \nL 34.39625 77.287088 \nL 37.65125 76.889321 \nL 40.90625 86.007587 \nL 44.16125 86.258659 \nL 47.41625 94.466449 \nL 50.67125 92.02757 \nL 53.92625 98.757076 \nL 57.18125 101.139164 \n\" clip-path=\"url(#pd46c8240c2)\" style=\"fill: none; stroke: #1f77b4; stroke-width: 1.5; stroke-linecap: square\"/>\n   </g>\n   <g id=\"line2d_44\">\n    <path d=\"M 27.0725 48.830043 \nL 33.5825 63.516245 \nL 40.0925 64.547744 \nL 46.6025 69.457463 \nL 53.1125 69.900342 \n\" clip-path=\"url(#pd46c8240c2)\" style=\"fill: none; stroke-dasharray: 5.55,2.4; stroke-dashoffset: 0; stroke: #ff7f0e; stroke-width: 1.5\"/>\n   </g>\n   <g id=\"line2d_45\">\n    <path d=\"M 21.37625 13.5 \nL 24.63125 53.841205 \nL 27.88625 63.106311 \nL 31.14125 65.264793 \nL 34.39625 77.287088 \nL 37.65125 76.889321 \nL 40.90625 86.007587 \nL 44.16125 86.258659 \nL 47.41625 94.466449 \nL 50.67125 92.02757 \nL 53.92625 98.757076 \nL 57.18125 101.139164 \n\" clip-path=\"url(#pd46c8240c2)\" style=\"fill: none; stroke: #1f77b4; stroke-width: 1.5; stroke-linecap: square\"/>\n   </g>\n   <g id=\"line2d_46\">\n    <path d=\"M 27.0725 48.830043 \nL 33.5825 63.516245 \nL 40.0925 64.547744 \nL 46.6025 69.457463 \nL 53.1125 69.900342 \nL 59.6225 74.900329 \n\" clip-path=\"url(#pd46c8240c2)\" style=\"fill: none; stroke-dasharray: 5.55,2.4; stroke-dashoffset: 0; stroke: #ff7f0e; stroke-width: 1.5\"/>\n   </g>\n   <g id=\"line2d_47\">\n    <path d=\"M 21.37625 13.5 \nL 24.63125 53.841205 \nL 27.88625 63.106311 \nL 31.14125 65.264793 \nL 34.39625 77.287088 \nL 37.65125 76.889321 \nL 40.90625 86.007587 \nL 44.16125 86.258659 \nL 47.41625 94.466449 \nL 50.67125 92.02757 \nL 53.92625 98.757076 \nL 57.18125 101.139164 \nL 60.43625 105.433822 \n\" clip-path=\"url(#pd46c8240c2)\" style=\"fill: none; stroke: #1f77b4; stroke-width: 1.5; stroke-linecap: square\"/>\n   </g>\n   <g id=\"line2d_48\">\n    <path d=\"M 27.0725 48.830043 \nL 33.5825 63.516245 \nL 40.0925 64.547744 \nL 46.6025 69.457463 \nL 53.1125 69.900342 \nL 59.6225 74.900329 \n\" clip-path=\"url(#pd46c8240c2)\" style=\"fill: none; stroke-dasharray: 5.55,2.4; stroke-dashoffset: 0; stroke: #ff7f0e; stroke-width: 1.5\"/>\n   </g>\n   <g id=\"line2d_49\">\n    <path d=\"M 21.37625 13.5 \nL 24.63125 53.841205 \nL 27.88625 63.106311 \nL 31.14125 65.264793 \nL 34.39625 77.287088 \nL 37.65125 76.889321 \nL 40.90625 86.007587 \nL 44.16125 86.258659 \nL 47.41625 94.466449 \nL 50.67125 92.02757 \nL 53.92625 98.757076 \nL 57.18125 101.139164 \nL 60.43625 105.433822 \nL 63.69125 106.52091 \n\" clip-path=\"url(#pd46c8240c2)\" style=\"fill: none; stroke: #1f77b4; stroke-width: 1.5; stroke-linecap: square\"/>\n   </g>\n   <g id=\"line2d_50\">\n    <path d=\"M 27.0725 48.830043 \nL 33.5825 63.516245 \nL 40.0925 64.547744 \nL 46.6025 69.457463 \nL 53.1125 69.900342 \nL 59.6225 74.900329 \n\" clip-path=\"url(#pd46c8240c2)\" style=\"fill: none; stroke-dasharray: 5.55,2.4; stroke-dashoffset: 0; stroke: #ff7f0e; stroke-width: 1.5\"/>\n   </g>\n   <g id=\"line2d_51\">\n    <path d=\"M 21.37625 13.5 \nL 24.63125 53.841205 \nL 27.88625 63.106311 \nL 31.14125 65.264793 \nL 34.39625 77.287088 \nL 37.65125 76.889321 \nL 40.90625 86.007587 \nL 44.16125 86.258659 \nL 47.41625 94.466449 \nL 50.67125 92.02757 \nL 53.92625 98.757076 \nL 57.18125 101.139164 \nL 60.43625 105.433822 \nL 63.69125 106.52091 \n\" clip-path=\"url(#pd46c8240c2)\" style=\"fill: none; stroke: #1f77b4; stroke-width: 1.5; stroke-linecap: square\"/>\n   </g>\n   <g id=\"line2d_52\">\n    <path d=\"M 27.0725 48.830043 \nL 33.5825 63.516245 \nL 40.0925 64.547744 \nL 46.6025 69.457463 \nL 53.1125 69.900342 \nL 59.6225 74.900329 \nL 66.1325 70.895513 \n\" clip-path=\"url(#pd46c8240c2)\" style=\"fill: none; stroke-dasharray: 5.55,2.4; stroke-dashoffset: 0; stroke: #ff7f0e; stroke-width: 1.5\"/>\n   </g>\n   <g id=\"line2d_53\">\n    <path d=\"M 21.37625 13.5 \nL 24.63125 53.841205 \nL 27.88625 63.106311 \nL 31.14125 65.264793 \nL 34.39625 77.287088 \nL 37.65125 76.889321 \nL 40.90625 86.007587 \nL 44.16125 86.258659 \nL 47.41625 94.466449 \nL 50.67125 92.02757 \nL 53.92625 98.757076 \nL 57.18125 101.139164 \nL 60.43625 105.433822 \nL 63.69125 106.52091 \nL 66.94625 110.787494 \n\" clip-path=\"url(#pd46c8240c2)\" style=\"fill: none; stroke: #1f77b4; stroke-width: 1.5; stroke-linecap: square\"/>\n   </g>\n   <g id=\"line2d_54\">\n    <path d=\"M 27.0725 48.830043 \nL 33.5825 63.516245 \nL 40.0925 64.547744 \nL 46.6025 69.457463 \nL 53.1125 69.900342 \nL 59.6225 74.900329 \nL 66.1325 70.895513 \n\" clip-path=\"url(#pd46c8240c2)\" style=\"fill: none; stroke-dasharray: 5.55,2.4; stroke-dashoffset: 0; stroke: #ff7f0e; stroke-width: 1.5\"/>\n   </g>\n   <g id=\"line2d_55\">\n    <path d=\"M 21.37625 13.5 \nL 24.63125 53.841205 \nL 27.88625 63.106311 \nL 31.14125 65.264793 \nL 34.39625 77.287088 \nL 37.65125 76.889321 \nL 40.90625 86.007587 \nL 44.16125 86.258659 \nL 47.41625 94.466449 \nL 50.67125 92.02757 \nL 53.92625 98.757076 \nL 57.18125 101.139164 \nL 60.43625 105.433822 \nL 63.69125 106.52091 \nL 66.94625 110.787494 \nL 70.20125 111.296726 \n\" clip-path=\"url(#pd46c8240c2)\" style=\"fill: none; stroke: #1f77b4; stroke-width: 1.5; stroke-linecap: square\"/>\n   </g>\n   <g id=\"line2d_56\">\n    <path d=\"M 27.0725 48.830043 \nL 33.5825 63.516245 \nL 40.0925 64.547744 \nL 46.6025 69.457463 \nL 53.1125 69.900342 \nL 59.6225 74.900329 \nL 66.1325 70.895513 \n\" clip-path=\"url(#pd46c8240c2)\" style=\"fill: none; stroke-dasharray: 5.55,2.4; stroke-dashoffset: 0; stroke: #ff7f0e; stroke-width: 1.5\"/>\n   </g>\n   <g id=\"line2d_57\">\n    <path d=\"M 21.37625 13.5 \nL 24.63125 53.841205 \nL 27.88625 63.106311 \nL 31.14125 65.264793 \nL 34.39625 77.287088 \nL 37.65125 76.889321 \nL 40.90625 86.007587 \nL 44.16125 86.258659 \nL 47.41625 94.466449 \nL 50.67125 92.02757 \nL 53.92625 98.757076 \nL 57.18125 101.139164 \nL 60.43625 105.433822 \nL 63.69125 106.52091 \nL 66.94625 110.787494 \nL 70.20125 111.296726 \n\" clip-path=\"url(#pd46c8240c2)\" style=\"fill: none; stroke: #1f77b4; stroke-width: 1.5; stroke-linecap: square\"/>\n   </g>\n   <g id=\"line2d_58\">\n    <path d=\"M 27.0725 48.830043 \nL 33.5825 63.516245 \nL 40.0925 64.547744 \nL 46.6025 69.457463 \nL 53.1125 69.900342 \nL 59.6225 74.900329 \nL 66.1325 70.895513 \nL 72.6425 73.53371 \n\" clip-path=\"url(#pd46c8240c2)\" style=\"fill: none; stroke-dasharray: 5.55,2.4; stroke-dashoffset: 0; stroke: #ff7f0e; stroke-width: 1.5\"/>\n   </g>\n   <g id=\"line2d_59\">\n    <path d=\"M 21.37625 13.5 \nL 24.63125 53.841205 \nL 27.88625 63.106311 \nL 31.14125 65.264793 \nL 34.39625 77.287088 \nL 37.65125 76.889321 \nL 40.90625 86.007587 \nL 44.16125 86.258659 \nL 47.41625 94.466449 \nL 50.67125 92.02757 \nL 53.92625 98.757076 \nL 57.18125 101.139164 \nL 60.43625 105.433822 \nL 63.69125 106.52091 \nL 66.94625 110.787494 \nL 70.20125 111.296726 \nL 73.45625 115.120243 \n\" clip-path=\"url(#pd46c8240c2)\" style=\"fill: none; stroke: #1f77b4; stroke-width: 1.5; stroke-linecap: square\"/>\n   </g>\n   <g id=\"line2d_60\">\n    <path d=\"M 27.0725 48.830043 \nL 33.5825 63.516245 \nL 40.0925 64.547744 \nL 46.6025 69.457463 \nL 53.1125 69.900342 \nL 59.6225 74.900329 \nL 66.1325 70.895513 \nL 72.6425 73.53371 \n\" clip-path=\"url(#pd46c8240c2)\" style=\"fill: none; stroke-dasharray: 5.55,2.4; stroke-dashoffset: 0; stroke: #ff7f0e; stroke-width: 1.5\"/>\n   </g>\n   <g id=\"line2d_61\">\n    <path d=\"M 21.37625 13.5 \nL 24.63125 53.841205 \nL 27.88625 63.106311 \nL 31.14125 65.264793 \nL 34.39625 77.287088 \nL 37.65125 76.889321 \nL 40.90625 86.007587 \nL 44.16125 86.258659 \nL 47.41625 94.466449 \nL 50.67125 92.02757 \nL 53.92625 98.757076 \nL 57.18125 101.139164 \nL 60.43625 105.433822 \nL 63.69125 106.52091 \nL 66.94625 110.787494 \nL 70.20125 111.296726 \nL 73.45625 115.120243 \nL 76.71125 115.732067 \n\" clip-path=\"url(#pd46c8240c2)\" style=\"fill: none; stroke: #1f77b4; stroke-width: 1.5; stroke-linecap: square\"/>\n   </g>\n   <g id=\"line2d_62\">\n    <path d=\"M 27.0725 48.830043 \nL 33.5825 63.516245 \nL 40.0925 64.547744 \nL 46.6025 69.457463 \nL 53.1125 69.900342 \nL 59.6225 74.900329 \nL 66.1325 70.895513 \nL 72.6425 73.53371 \n\" clip-path=\"url(#pd46c8240c2)\" style=\"fill: none; stroke-dasharray: 5.55,2.4; stroke-dashoffset: 0; stroke: #ff7f0e; stroke-width: 1.5\"/>\n   </g>\n   <g id=\"line2d_63\">\n    <path d=\"M 21.37625 13.5 \nL 24.63125 53.841205 \nL 27.88625 63.106311 \nL 31.14125 65.264793 \nL 34.39625 77.287088 \nL 37.65125 76.889321 \nL 40.90625 86.007587 \nL 44.16125 86.258659 \nL 47.41625 94.466449 \nL 50.67125 92.02757 \nL 53.92625 98.757076 \nL 57.18125 101.139164 \nL 60.43625 105.433822 \nL 63.69125 106.52091 \nL 66.94625 110.787494 \nL 70.20125 111.296726 \nL 73.45625 115.120243 \nL 76.71125 115.732067 \n\" clip-path=\"url(#pd46c8240c2)\" style=\"fill: none; stroke: #1f77b4; stroke-width: 1.5; stroke-linecap: square\"/>\n   </g>\n   <g id=\"line2d_64\">\n    <path d=\"M 27.0725 48.830043 \nL 33.5825 63.516245 \nL 40.0925 64.547744 \nL 46.6025 69.457463 \nL 53.1125 69.900342 \nL 59.6225 74.900329 \nL 66.1325 70.895513 \nL 72.6425 73.53371 \nL 79.1525 73.585412 \n\" clip-path=\"url(#pd46c8240c2)\" style=\"fill: none; stroke-dasharray: 5.55,2.4; stroke-dashoffset: 0; stroke: #ff7f0e; stroke-width: 1.5\"/>\n   </g>\n   <g id=\"line2d_65\">\n    <path d=\"M 21.37625 13.5 \nL 24.63125 53.841205 \nL 27.88625 63.106311 \nL 31.14125 65.264793 \nL 34.39625 77.287088 \nL 37.65125 76.889321 \nL 40.90625 86.007587 \nL 44.16125 86.258659 \nL 47.41625 94.466449 \nL 50.67125 92.02757 \nL 53.92625 98.757076 \nL 57.18125 101.139164 \nL 60.43625 105.433822 \nL 63.69125 106.52091 \nL 66.94625 110.787494 \nL 70.20125 111.296726 \nL 73.45625 115.120243 \nL 76.71125 115.732067 \nL 79.96625 119.221022 \n\" clip-path=\"url(#pd46c8240c2)\" style=\"fill: none; stroke: #1f77b4; stroke-width: 1.5; stroke-linecap: square\"/>\n   </g>\n   <g id=\"line2d_66\">\n    <path d=\"M 27.0725 48.830043 \nL 33.5825 63.516245 \nL 40.0925 64.547744 \nL 46.6025 69.457463 \nL 53.1125 69.900342 \nL 59.6225 74.900329 \nL 66.1325 70.895513 \nL 72.6425 73.53371 \nL 79.1525 73.585412 \n\" clip-path=\"url(#pd46c8240c2)\" style=\"fill: none; stroke-dasharray: 5.55,2.4; stroke-dashoffset: 0; stroke: #ff7f0e; stroke-width: 1.5\"/>\n   </g>\n   <g id=\"line2d_67\">\n    <path d=\"M 21.37625 13.5 \nL 24.63125 53.841205 \nL 27.88625 63.106311 \nL 31.14125 65.264793 \nL 34.39625 77.287088 \nL 37.65125 76.889321 \nL 40.90625 86.007587 \nL 44.16125 86.258659 \nL 47.41625 94.466449 \nL 50.67125 92.02757 \nL 53.92625 98.757076 \nL 57.18125 101.139164 \nL 60.43625 105.433822 \nL 63.69125 106.52091 \nL 66.94625 110.787494 \nL 70.20125 111.296726 \nL 73.45625 115.120243 \nL 76.71125 115.732067 \nL 79.96625 119.221022 \nL 83.22125 118.786054 \n\" clip-path=\"url(#pd46c8240c2)\" style=\"fill: none; stroke: #1f77b4; stroke-width: 1.5; stroke-linecap: square\"/>\n   </g>\n   <g id=\"line2d_68\">\n    <path d=\"M 27.0725 48.830043 \nL 33.5825 63.516245 \nL 40.0925 64.547744 \nL 46.6025 69.457463 \nL 53.1125 69.900342 \nL 59.6225 74.900329 \nL 66.1325 70.895513 \nL 72.6425 73.53371 \nL 79.1525 73.585412 \n\" clip-path=\"url(#pd46c8240c2)\" style=\"fill: none; stroke-dasharray: 5.55,2.4; stroke-dashoffset: 0; stroke: #ff7f0e; stroke-width: 1.5\"/>\n   </g>\n   <g id=\"line2d_69\">\n    <path d=\"M 21.37625 13.5 \nL 24.63125 53.841205 \nL 27.88625 63.106311 \nL 31.14125 65.264793 \nL 34.39625 77.287088 \nL 37.65125 76.889321 \nL 40.90625 86.007587 \nL 44.16125 86.258659 \nL 47.41625 94.466449 \nL 50.67125 92.02757 \nL 53.92625 98.757076 \nL 57.18125 101.139164 \nL 60.43625 105.433822 \nL 63.69125 106.52091 \nL 66.94625 110.787494 \nL 70.20125 111.296726 \nL 73.45625 115.120243 \nL 76.71125 115.732067 \nL 79.96625 119.221022 \nL 83.22125 118.786054 \n\" clip-path=\"url(#pd46c8240c2)\" style=\"fill: none; stroke: #1f77b4; stroke-width: 1.5; stroke-linecap: square\"/>\n   </g>\n   <g id=\"line2d_70\">\n    <path d=\"M 27.0725 48.830043 \nL 33.5825 63.516245 \nL 40.0925 64.547744 \nL 46.6025 69.457463 \nL 53.1125 69.900342 \nL 59.6225 74.900329 \nL 66.1325 70.895513 \nL 72.6425 73.53371 \nL 79.1525 73.585412 \nL 85.6625 71.807248 \n\" clip-path=\"url(#pd46c8240c2)\" style=\"fill: none; stroke-dasharray: 5.55,2.4; stroke-dashoffset: 0; stroke: #ff7f0e; stroke-width: 1.5\"/>\n   </g>\n   <g id=\"line2d_71\">\n    <path d=\"M 21.37625 13.5 \nL 24.63125 53.841205 \nL 27.88625 63.106311 \nL 31.14125 65.264793 \nL 34.39625 77.287088 \nL 37.65125 76.889321 \nL 40.90625 86.007587 \nL 44.16125 86.258659 \nL 47.41625 94.466449 \nL 50.67125 92.02757 \nL 53.92625 98.757076 \nL 57.18125 101.139164 \nL 60.43625 105.433822 \nL 63.69125 106.52091 \nL 66.94625 110.787494 \nL 70.20125 111.296726 \nL 73.45625 115.120243 \nL 76.71125 115.732067 \nL 79.96625 119.221022 \nL 83.22125 118.786054 \nL 86.47625 122.125753 \n\" clip-path=\"url(#pd46c8240c2)\" style=\"fill: none; stroke: #1f77b4; stroke-width: 1.5; stroke-linecap: square\"/>\n   </g>\n   <g id=\"line2d_72\">\n    <path d=\"M 27.0725 48.830043 \nL 33.5825 63.516245 \nL 40.0925 64.547744 \nL 46.6025 69.457463 \nL 53.1125 69.900342 \nL 59.6225 74.900329 \nL 66.1325 70.895513 \nL 72.6425 73.53371 \nL 79.1525 73.585412 \nL 85.6625 71.807248 \n\" clip-path=\"url(#pd46c8240c2)\" style=\"fill: none; stroke-dasharray: 5.55,2.4; stroke-dashoffset: 0; stroke: #ff7f0e; stroke-width: 1.5\"/>\n   </g>\n   <g id=\"line2d_73\">\n    <path d=\"M 21.37625 13.5 \nL 24.63125 53.841205 \nL 27.88625 63.106311 \nL 31.14125 65.264793 \nL 34.39625 77.287088 \nL 37.65125 76.889321 \nL 40.90625 86.007587 \nL 44.16125 86.258659 \nL 47.41625 94.466449 \nL 50.67125 92.02757 \nL 53.92625 98.757076 \nL 57.18125 101.139164 \nL 60.43625 105.433822 \nL 63.69125 106.52091 \nL 66.94625 110.787494 \nL 70.20125 111.296726 \nL 73.45625 115.120243 \nL 76.71125 115.732067 \nL 79.96625 119.221022 \nL 83.22125 118.786054 \nL 86.47625 122.125753 \nL 89.73125 122.17155 \n\" clip-path=\"url(#pd46c8240c2)\" style=\"fill: none; stroke: #1f77b4; stroke-width: 1.5; stroke-linecap: square\"/>\n   </g>\n   <g id=\"line2d_74\">\n    <path d=\"M 27.0725 48.830043 \nL 33.5825 63.516245 \nL 40.0925 64.547744 \nL 46.6025 69.457463 \nL 53.1125 69.900342 \nL 59.6225 74.900329 \nL 66.1325 70.895513 \nL 72.6425 73.53371 \nL 79.1525 73.585412 \nL 85.6625 71.807248 \n\" clip-path=\"url(#pd46c8240c2)\" style=\"fill: none; stroke-dasharray: 5.55,2.4; stroke-dashoffset: 0; stroke: #ff7f0e; stroke-width: 1.5\"/>\n   </g>\n   <g id=\"line2d_75\">\n    <path d=\"M 21.37625 13.5 \nL 24.63125 53.841205 \nL 27.88625 63.106311 \nL 31.14125 65.264793 \nL 34.39625 77.287088 \nL 37.65125 76.889321 \nL 40.90625 86.007587 \nL 44.16125 86.258659 \nL 47.41625 94.466449 \nL 50.67125 92.02757 \nL 53.92625 98.757076 \nL 57.18125 101.139164 \nL 60.43625 105.433822 \nL 63.69125 106.52091 \nL 66.94625 110.787494 \nL 70.20125 111.296726 \nL 73.45625 115.120243 \nL 76.71125 115.732067 \nL 79.96625 119.221022 \nL 83.22125 118.786054 \nL 86.47625 122.125753 \nL 89.73125 122.17155 \n\" clip-path=\"url(#pd46c8240c2)\" style=\"fill: none; stroke: #1f77b4; stroke-width: 1.5; stroke-linecap: square\"/>\n   </g>\n   <g id=\"line2d_76\">\n    <path d=\"M 27.0725 48.830043 \nL 33.5825 63.516245 \nL 40.0925 64.547744 \nL 46.6025 69.457463 \nL 53.1125 69.900342 \nL 59.6225 74.900329 \nL 66.1325 70.895513 \nL 72.6425 73.53371 \nL 79.1525 73.585412 \nL 85.6625 71.807248 \nL 92.1725 69.344599 \n\" clip-path=\"url(#pd46c8240c2)\" style=\"fill: none; stroke-dasharray: 5.55,2.4; stroke-dashoffset: 0; stroke: #ff7f0e; stroke-width: 1.5\"/>\n   </g>\n   <g id=\"line2d_77\">\n    <path d=\"M 21.37625 13.5 \nL 24.63125 53.841205 \nL 27.88625 63.106311 \nL 31.14125 65.264793 \nL 34.39625 77.287088 \nL 37.65125 76.889321 \nL 40.90625 86.007587 \nL 44.16125 86.258659 \nL 47.41625 94.466449 \nL 50.67125 92.02757 \nL 53.92625 98.757076 \nL 57.18125 101.139164 \nL 60.43625 105.433822 \nL 63.69125 106.52091 \nL 66.94625 110.787494 \nL 70.20125 111.296726 \nL 73.45625 115.120243 \nL 76.71125 115.732067 \nL 79.96625 119.221022 \nL 83.22125 118.786054 \nL 86.47625 122.125753 \nL 89.73125 122.17155 \nL 92.98625 125.921311 \n\" clip-path=\"url(#pd46c8240c2)\" style=\"fill: none; stroke: #1f77b4; stroke-width: 1.5; stroke-linecap: square\"/>\n   </g>\n   <g id=\"line2d_78\">\n    <path d=\"M 27.0725 48.830043 \nL 33.5825 63.516245 \nL 40.0925 64.547744 \nL 46.6025 69.457463 \nL 53.1125 69.900342 \nL 59.6225 74.900329 \nL 66.1325 70.895513 \nL 72.6425 73.53371 \nL 79.1525 73.585412 \nL 85.6625 71.807248 \nL 92.1725 69.344599 \n\" clip-path=\"url(#pd46c8240c2)\" style=\"fill: none; stroke-dasharray: 5.55,2.4; stroke-dashoffset: 0; stroke: #ff7f0e; stroke-width: 1.5\"/>\n   </g>\n   <g id=\"line2d_79\">\n    <path d=\"M 21.37625 13.5 \nL 24.63125 53.841205 \nL 27.88625 63.106311 \nL 31.14125 65.264793 \nL 34.39625 77.287088 \nL 37.65125 76.889321 \nL 40.90625 86.007587 \nL 44.16125 86.258659 \nL 47.41625 94.466449 \nL 50.67125 92.02757 \nL 53.92625 98.757076 \nL 57.18125 101.139164 \nL 60.43625 105.433822 \nL 63.69125 106.52091 \nL 66.94625 110.787494 \nL 70.20125 111.296726 \nL 73.45625 115.120243 \nL 76.71125 115.732067 \nL 79.96625 119.221022 \nL 83.22125 118.786054 \nL 86.47625 122.125753 \nL 89.73125 122.17155 \nL 92.98625 125.921311 \nL 96.24125 124.548402 \n\" clip-path=\"url(#pd46c8240c2)\" style=\"fill: none; stroke: #1f77b4; stroke-width: 1.5; stroke-linecap: square\"/>\n   </g>\n   <g id=\"line2d_80\">\n    <path d=\"M 27.0725 48.830043 \nL 33.5825 63.516245 \nL 40.0925 64.547744 \nL 46.6025 69.457463 \nL 53.1125 69.900342 \nL 59.6225 74.900329 \nL 66.1325 70.895513 \nL 72.6425 73.53371 \nL 79.1525 73.585412 \nL 85.6625 71.807248 \nL 92.1725 69.344599 \n\" clip-path=\"url(#pd46c8240c2)\" style=\"fill: none; stroke-dasharray: 5.55,2.4; stroke-dashoffset: 0; stroke: #ff7f0e; stroke-width: 1.5\"/>\n   </g>\n   <g id=\"line2d_81\">\n    <path d=\"M 21.37625 13.5 \nL 24.63125 53.841205 \nL 27.88625 63.106311 \nL 31.14125 65.264793 \nL 34.39625 77.287088 \nL 37.65125 76.889321 \nL 40.90625 86.007587 \nL 44.16125 86.258659 \nL 47.41625 94.466449 \nL 50.67125 92.02757 \nL 53.92625 98.757076 \nL 57.18125 101.139164 \nL 60.43625 105.433822 \nL 63.69125 106.52091 \nL 66.94625 110.787494 \nL 70.20125 111.296726 \nL 73.45625 115.120243 \nL 76.71125 115.732067 \nL 79.96625 119.221022 \nL 83.22125 118.786054 \nL 86.47625 122.125753 \nL 89.73125 122.17155 \nL 92.98625 125.921311 \nL 96.24125 124.548402 \n\" clip-path=\"url(#pd46c8240c2)\" style=\"fill: none; stroke: #1f77b4; stroke-width: 1.5; stroke-linecap: square\"/>\n   </g>\n   <g id=\"line2d_82\">\n    <path d=\"M 27.0725 48.830043 \nL 33.5825 63.516245 \nL 40.0925 64.547744 \nL 46.6025 69.457463 \nL 53.1125 69.900342 \nL 59.6225 74.900329 \nL 66.1325 70.895513 \nL 72.6425 73.53371 \nL 79.1525 73.585412 \nL 85.6625 71.807248 \nL 92.1725 69.344599 \nL 98.6825 71.691943 \n\" clip-path=\"url(#pd46c8240c2)\" style=\"fill: none; stroke-dasharray: 5.55,2.4; stroke-dashoffset: 0; stroke: #ff7f0e; stroke-width: 1.5\"/>\n   </g>\n   <g id=\"line2d_83\">\n    <path d=\"M 21.37625 13.5 \nL 24.63125 53.841205 \nL 27.88625 63.106311 \nL 31.14125 65.264793 \nL 34.39625 77.287088 \nL 37.65125 76.889321 \nL 40.90625 86.007587 \nL 44.16125 86.258659 \nL 47.41625 94.466449 \nL 50.67125 92.02757 \nL 53.92625 98.757076 \nL 57.18125 101.139164 \nL 60.43625 105.433822 \nL 63.69125 106.52091 \nL 66.94625 110.787494 \nL 70.20125 111.296726 \nL 73.45625 115.120243 \nL 76.71125 115.732067 \nL 79.96625 119.221022 \nL 83.22125 118.786054 \nL 86.47625 122.125753 \nL 89.73125 122.17155 \nL 92.98625 125.921311 \nL 96.24125 124.548402 \nL 99.49625 128.26156 \n\" clip-path=\"url(#pd46c8240c2)\" style=\"fill: none; stroke: #1f77b4; stroke-width: 1.5; stroke-linecap: square\"/>\n   </g>\n   <g id=\"line2d_84\">\n    <path d=\"M 27.0725 48.830043 \nL 33.5825 63.516245 \nL 40.0925 64.547744 \nL 46.6025 69.457463 \nL 53.1125 69.900342 \nL 59.6225 74.900329 \nL 66.1325 70.895513 \nL 72.6425 73.53371 \nL 79.1525 73.585412 \nL 85.6625 71.807248 \nL 92.1725 69.344599 \nL 98.6825 71.691943 \n\" clip-path=\"url(#pd46c8240c2)\" style=\"fill: none; stroke-dasharray: 5.55,2.4; stroke-dashoffset: 0; stroke: #ff7f0e; stroke-width: 1.5\"/>\n   </g>\n   <g id=\"line2d_85\">\n    <path d=\"M 21.37625 13.5 \nL 24.63125 53.841205 \nL 27.88625 63.106311 \nL 31.14125 65.264793 \nL 34.39625 77.287088 \nL 37.65125 76.889321 \nL 40.90625 86.007587 \nL 44.16125 86.258659 \nL 47.41625 94.466449 \nL 50.67125 92.02757 \nL 53.92625 98.757076 \nL 57.18125 101.139164 \nL 60.43625 105.433822 \nL 63.69125 106.52091 \nL 66.94625 110.787494 \nL 70.20125 111.296726 \nL 73.45625 115.120243 \nL 76.71125 115.732067 \nL 79.96625 119.221022 \nL 83.22125 118.786054 \nL 86.47625 122.125753 \nL 89.73125 122.17155 \nL 92.98625 125.921311 \nL 96.24125 124.548402 \nL 99.49625 128.26156 \nL 102.75125 127.009557 \n\" clip-path=\"url(#pd46c8240c2)\" style=\"fill: none; stroke: #1f77b4; stroke-width: 1.5; stroke-linecap: square\"/>\n   </g>\n   <g id=\"line2d_86\">\n    <path d=\"M 27.0725 48.830043 \nL 33.5825 63.516245 \nL 40.0925 64.547744 \nL 46.6025 69.457463 \nL 53.1125 69.900342 \nL 59.6225 74.900329 \nL 66.1325 70.895513 \nL 72.6425 73.53371 \nL 79.1525 73.585412 \nL 85.6625 71.807248 \nL 92.1725 69.344599 \nL 98.6825 71.691943 \n\" clip-path=\"url(#pd46c8240c2)\" style=\"fill: none; stroke-dasharray: 5.55,2.4; stroke-dashoffset: 0; stroke: #ff7f0e; stroke-width: 1.5\"/>\n   </g>\n   <g id=\"line2d_87\">\n    <path d=\"M 21.37625 13.5 \nL 24.63125 53.841205 \nL 27.88625 63.106311 \nL 31.14125 65.264793 \nL 34.39625 77.287088 \nL 37.65125 76.889321 \nL 40.90625 86.007587 \nL 44.16125 86.258659 \nL 47.41625 94.466449 \nL 50.67125 92.02757 \nL 53.92625 98.757076 \nL 57.18125 101.139164 \nL 60.43625 105.433822 \nL 63.69125 106.52091 \nL 66.94625 110.787494 \nL 70.20125 111.296726 \nL 73.45625 115.120243 \nL 76.71125 115.732067 \nL 79.96625 119.221022 \nL 83.22125 118.786054 \nL 86.47625 122.125753 \nL 89.73125 122.17155 \nL 92.98625 125.921311 \nL 96.24125 124.548402 \nL 99.49625 128.26156 \nL 102.75125 127.009557 \n\" clip-path=\"url(#pd46c8240c2)\" style=\"fill: none; stroke: #1f77b4; stroke-width: 1.5; stroke-linecap: square\"/>\n   </g>\n   <g id=\"line2d_88\">\n    <path d=\"M 27.0725 48.830043 \nL 33.5825 63.516245 \nL 40.0925 64.547744 \nL 46.6025 69.457463 \nL 53.1125 69.900342 \nL 59.6225 74.900329 \nL 66.1325 70.895513 \nL 72.6425 73.53371 \nL 79.1525 73.585412 \nL 85.6625 71.807248 \nL 92.1725 69.344599 \nL 98.6825 71.691943 \nL 105.1925 71.251617 \n\" clip-path=\"url(#pd46c8240c2)\" style=\"fill: none; stroke-dasharray: 5.55,2.4; stroke-dashoffset: 0; stroke: #ff7f0e; stroke-width: 1.5\"/>\n   </g>\n   <g id=\"line2d_89\">\n    <path d=\"M 21.37625 13.5 \nL 24.63125 53.841205 \nL 27.88625 63.106311 \nL 31.14125 65.264793 \nL 34.39625 77.287088 \nL 37.65125 76.889321 \nL 40.90625 86.007587 \nL 44.16125 86.258659 \nL 47.41625 94.466449 \nL 50.67125 92.02757 \nL 53.92625 98.757076 \nL 57.18125 101.139164 \nL 60.43625 105.433822 \nL 63.69125 106.52091 \nL 66.94625 110.787494 \nL 70.20125 111.296726 \nL 73.45625 115.120243 \nL 76.71125 115.732067 \nL 79.96625 119.221022 \nL 83.22125 118.786054 \nL 86.47625 122.125753 \nL 89.73125 122.17155 \nL 92.98625 125.921311 \nL 96.24125 124.548402 \nL 99.49625 128.26156 \nL 102.75125 127.009557 \nL 106.00625 130.187393 \n\" clip-path=\"url(#pd46c8240c2)\" style=\"fill: none; stroke: #1f77b4; stroke-width: 1.5; stroke-linecap: square\"/>\n   </g>\n   <g id=\"line2d_90\">\n    <path d=\"M 27.0725 48.830043 \nL 33.5825 63.516245 \nL 40.0925 64.547744 \nL 46.6025 69.457463 \nL 53.1125 69.900342 \nL 59.6225 74.900329 \nL 66.1325 70.895513 \nL 72.6425 73.53371 \nL 79.1525 73.585412 \nL 85.6625 71.807248 \nL 92.1725 69.344599 \nL 98.6825 71.691943 \nL 105.1925 71.251617 \n\" clip-path=\"url(#pd46c8240c2)\" style=\"fill: none; stroke-dasharray: 5.55,2.4; stroke-dashoffset: 0; stroke: #ff7f0e; stroke-width: 1.5\"/>\n   </g>\n   <g id=\"line2d_91\">\n    <path d=\"M 21.37625 13.5 \nL 24.63125 53.841205 \nL 27.88625 63.106311 \nL 31.14125 65.264793 \nL 34.39625 77.287088 \nL 37.65125 76.889321 \nL 40.90625 86.007587 \nL 44.16125 86.258659 \nL 47.41625 94.466449 \nL 50.67125 92.02757 \nL 53.92625 98.757076 \nL 57.18125 101.139164 \nL 60.43625 105.433822 \nL 63.69125 106.52091 \nL 66.94625 110.787494 \nL 70.20125 111.296726 \nL 73.45625 115.120243 \nL 76.71125 115.732067 \nL 79.96625 119.221022 \nL 83.22125 118.786054 \nL 86.47625 122.125753 \nL 89.73125 122.17155 \nL 92.98625 125.921311 \nL 96.24125 124.548402 \nL 99.49625 128.26156 \nL 102.75125 127.009557 \nL 106.00625 130.187393 \nL 109.26125 129.740948 \n\" clip-path=\"url(#pd46c8240c2)\" style=\"fill: none; stroke: #1f77b4; stroke-width: 1.5; stroke-linecap: square\"/>\n   </g>\n   <g id=\"line2d_92\">\n    <path d=\"M 27.0725 48.830043 \nL 33.5825 63.516245 \nL 40.0925 64.547744 \nL 46.6025 69.457463 \nL 53.1125 69.900342 \nL 59.6225 74.900329 \nL 66.1325 70.895513 \nL 72.6425 73.53371 \nL 79.1525 73.585412 \nL 85.6625 71.807248 \nL 92.1725 69.344599 \nL 98.6825 71.691943 \nL 105.1925 71.251617 \n\" clip-path=\"url(#pd46c8240c2)\" style=\"fill: none; stroke-dasharray: 5.55,2.4; stroke-dashoffset: 0; stroke: #ff7f0e; stroke-width: 1.5\"/>\n   </g>\n   <g id=\"line2d_93\">\n    <path d=\"M 21.37625 13.5 \nL 24.63125 53.841205 \nL 27.88625 63.106311 \nL 31.14125 65.264793 \nL 34.39625 77.287088 \nL 37.65125 76.889321 \nL 40.90625 86.007587 \nL 44.16125 86.258659 \nL 47.41625 94.466449 \nL 50.67125 92.02757 \nL 53.92625 98.757076 \nL 57.18125 101.139164 \nL 60.43625 105.433822 \nL 63.69125 106.52091 \nL 66.94625 110.787494 \nL 70.20125 111.296726 \nL 73.45625 115.120243 \nL 76.71125 115.732067 \nL 79.96625 119.221022 \nL 83.22125 118.786054 \nL 86.47625 122.125753 \nL 89.73125 122.17155 \nL 92.98625 125.921311 \nL 96.24125 124.548402 \nL 99.49625 128.26156 \nL 102.75125 127.009557 \nL 106.00625 130.187393 \nL 109.26125 129.740948 \n\" clip-path=\"url(#pd46c8240c2)\" style=\"fill: none; stroke: #1f77b4; stroke-width: 1.5; stroke-linecap: square\"/>\n   </g>\n   <g id=\"line2d_94\">\n    <path d=\"M 27.0725 48.830043 \nL 33.5825 63.516245 \nL 40.0925 64.547744 \nL 46.6025 69.457463 \nL 53.1125 69.900342 \nL 59.6225 74.900329 \nL 66.1325 70.895513 \nL 72.6425 73.53371 \nL 79.1525 73.585412 \nL 85.6625 71.807248 \nL 92.1725 69.344599 \nL 98.6825 71.691943 \nL 105.1925 71.251617 \nL 111.7025 67.861416 \n\" clip-path=\"url(#pd46c8240c2)\" style=\"fill: none; stroke-dasharray: 5.55,2.4; stroke-dashoffset: 0; stroke: #ff7f0e; stroke-width: 1.5\"/>\n   </g>\n   <g id=\"line2d_95\">\n    <path d=\"M 21.37625 13.5 \nL 24.63125 53.841205 \nL 27.88625 63.106311 \nL 31.14125 65.264793 \nL 34.39625 77.287088 \nL 37.65125 76.889321 \nL 40.90625 86.007587 \nL 44.16125 86.258659 \nL 47.41625 94.466449 \nL 50.67125 92.02757 \nL 53.92625 98.757076 \nL 57.18125 101.139164 \nL 60.43625 105.433822 \nL 63.69125 106.52091 \nL 66.94625 110.787494 \nL 70.20125 111.296726 \nL 73.45625 115.120243 \nL 76.71125 115.732067 \nL 79.96625 119.221022 \nL 83.22125 118.786054 \nL 86.47625 122.125753 \nL 89.73125 122.17155 \nL 92.98625 125.921311 \nL 96.24125 124.548402 \nL 99.49625 128.26156 \nL 102.75125 127.009557 \nL 106.00625 130.187393 \nL 109.26125 129.740948 \nL 112.51625 131.231786 \n\" clip-path=\"url(#pd46c8240c2)\" style=\"fill: none; stroke: #1f77b4; stroke-width: 1.5; stroke-linecap: square\"/>\n   </g>\n   <g id=\"line2d_96\">\n    <path d=\"M 27.0725 48.830043 \nL 33.5825 63.516245 \nL 40.0925 64.547744 \nL 46.6025 69.457463 \nL 53.1125 69.900342 \nL 59.6225 74.900329 \nL 66.1325 70.895513 \nL 72.6425 73.53371 \nL 79.1525 73.585412 \nL 85.6625 71.807248 \nL 92.1725 69.344599 \nL 98.6825 71.691943 \nL 105.1925 71.251617 \nL 111.7025 67.861416 \n\" clip-path=\"url(#pd46c8240c2)\" style=\"fill: none; stroke-dasharray: 5.55,2.4; stroke-dashoffset: 0; stroke: #ff7f0e; stroke-width: 1.5\"/>\n   </g>\n   <g id=\"line2d_97\">\n    <path d=\"M 21.37625 13.5 \nL 24.63125 53.841205 \nL 27.88625 63.106311 \nL 31.14125 65.264793 \nL 34.39625 77.287088 \nL 37.65125 76.889321 \nL 40.90625 86.007587 \nL 44.16125 86.258659 \nL 47.41625 94.466449 \nL 50.67125 92.02757 \nL 53.92625 98.757076 \nL 57.18125 101.139164 \nL 60.43625 105.433822 \nL 63.69125 106.52091 \nL 66.94625 110.787494 \nL 70.20125 111.296726 \nL 73.45625 115.120243 \nL 76.71125 115.732067 \nL 79.96625 119.221022 \nL 83.22125 118.786054 \nL 86.47625 122.125753 \nL 89.73125 122.17155 \nL 92.98625 125.921311 \nL 96.24125 124.548402 \nL 99.49625 128.26156 \nL 102.75125 127.009557 \nL 106.00625 130.187393 \nL 109.26125 129.740948 \nL 112.51625 131.231786 \nL 115.77125 131.857853 \n\" clip-path=\"url(#pd46c8240c2)\" style=\"fill: none; stroke: #1f77b4; stroke-width: 1.5; stroke-linecap: square\"/>\n   </g>\n   <g id=\"line2d_98\">\n    <path d=\"M 27.0725 48.830043 \nL 33.5825 63.516245 \nL 40.0925 64.547744 \nL 46.6025 69.457463 \nL 53.1125 69.900342 \nL 59.6225 74.900329 \nL 66.1325 70.895513 \nL 72.6425 73.53371 \nL 79.1525 73.585412 \nL 85.6625 71.807248 \nL 92.1725 69.344599 \nL 98.6825 71.691943 \nL 105.1925 71.251617 \nL 111.7025 67.861416 \n\" clip-path=\"url(#pd46c8240c2)\" style=\"fill: none; stroke-dasharray: 5.55,2.4; stroke-dashoffset: 0; stroke: #ff7f0e; stroke-width: 1.5\"/>\n   </g>\n   <g id=\"line2d_99\">\n    <path d=\"M 21.37625 13.5 \nL 24.63125 53.841205 \nL 27.88625 63.106311 \nL 31.14125 65.264793 \nL 34.39625 77.287088 \nL 37.65125 76.889321 \nL 40.90625 86.007587 \nL 44.16125 86.258659 \nL 47.41625 94.466449 \nL 50.67125 92.02757 \nL 53.92625 98.757076 \nL 57.18125 101.139164 \nL 60.43625 105.433822 \nL 63.69125 106.52091 \nL 66.94625 110.787494 \nL 70.20125 111.296726 \nL 73.45625 115.120243 \nL 76.71125 115.732067 \nL 79.96625 119.221022 \nL 83.22125 118.786054 \nL 86.47625 122.125753 \nL 89.73125 122.17155 \nL 92.98625 125.921311 \nL 96.24125 124.548402 \nL 99.49625 128.26156 \nL 102.75125 127.009557 \nL 106.00625 130.187393 \nL 109.26125 129.740948 \nL 112.51625 131.231786 \nL 115.77125 131.857853 \n\" clip-path=\"url(#pd46c8240c2)\" style=\"fill: none; stroke: #1f77b4; stroke-width: 1.5; stroke-linecap: square\"/>\n   </g>\n   <g id=\"line2d_100\">\n    <path d=\"M 27.0725 48.830043 \nL 33.5825 63.516245 \nL 40.0925 64.547744 \nL 46.6025 69.457463 \nL 53.1125 69.900342 \nL 59.6225 74.900329 \nL 66.1325 70.895513 \nL 72.6425 73.53371 \nL 79.1525 73.585412 \nL 85.6625 71.807248 \nL 92.1725 69.344599 \nL 98.6825 71.691943 \nL 105.1925 71.251617 \nL 111.7025 67.861416 \nL 118.2125 68.572038 \n\" clip-path=\"url(#pd46c8240c2)\" style=\"fill: none; stroke-dasharray: 5.55,2.4; stroke-dashoffset: 0; stroke: #ff7f0e; stroke-width: 1.5\"/>\n   </g>\n   <g id=\"line2d_101\">\n    <path d=\"M 21.37625 13.5 \nL 24.63125 53.841205 \nL 27.88625 63.106311 \nL 31.14125 65.264793 \nL 34.39625 77.287088 \nL 37.65125 76.889321 \nL 40.90625 86.007587 \nL 44.16125 86.258659 \nL 47.41625 94.466449 \nL 50.67125 92.02757 \nL 53.92625 98.757076 \nL 57.18125 101.139164 \nL 60.43625 105.433822 \nL 63.69125 106.52091 \nL 66.94625 110.787494 \nL 70.20125 111.296726 \nL 73.45625 115.120243 \nL 76.71125 115.732067 \nL 79.96625 119.221022 \nL 83.22125 118.786054 \nL 86.47625 122.125753 \nL 89.73125 122.17155 \nL 92.98625 125.921311 \nL 96.24125 124.548402 \nL 99.49625 128.26156 \nL 102.75125 127.009557 \nL 106.00625 130.187393 \nL 109.26125 129.740948 \nL 112.51625 131.231786 \nL 115.77125 131.857853 \nL 119.02625 133.197141 \n\" clip-path=\"url(#pd46c8240c2)\" style=\"fill: none; stroke: #1f77b4; stroke-width: 1.5; stroke-linecap: square\"/>\n   </g>\n   <g id=\"line2d_102\">\n    <path d=\"M 27.0725 48.830043 \nL 33.5825 63.516245 \nL 40.0925 64.547744 \nL 46.6025 69.457463 \nL 53.1125 69.900342 \nL 59.6225 74.900329 \nL 66.1325 70.895513 \nL 72.6425 73.53371 \nL 79.1525 73.585412 \nL 85.6625 71.807248 \nL 92.1725 69.344599 \nL 98.6825 71.691943 \nL 105.1925 71.251617 \nL 111.7025 67.861416 \nL 118.2125 68.572038 \n\" clip-path=\"url(#pd46c8240c2)\" style=\"fill: none; stroke-dasharray: 5.55,2.4; stroke-dashoffset: 0; stroke: #ff7f0e; stroke-width: 1.5\"/>\n   </g>\n   <g id=\"line2d_103\">\n    <path d=\"M 21.37625 13.5 \nL 24.63125 53.841205 \nL 27.88625 63.106311 \nL 31.14125 65.264793 \nL 34.39625 77.287088 \nL 37.65125 76.889321 \nL 40.90625 86.007587 \nL 44.16125 86.258659 \nL 47.41625 94.466449 \nL 50.67125 92.02757 \nL 53.92625 98.757076 \nL 57.18125 101.139164 \nL 60.43625 105.433822 \nL 63.69125 106.52091 \nL 66.94625 110.787494 \nL 70.20125 111.296726 \nL 73.45625 115.120243 \nL 76.71125 115.732067 \nL 79.96625 119.221022 \nL 83.22125 118.786054 \nL 86.47625 122.125753 \nL 89.73125 122.17155 \nL 92.98625 125.921311 \nL 96.24125 124.548402 \nL 99.49625 128.26156 \nL 102.75125 127.009557 \nL 106.00625 130.187393 \nL 109.26125 129.740948 \nL 112.51625 131.231786 \nL 115.77125 131.857853 \nL 119.02625 133.197141 \nL 122.28125 133.2956 \n\" clip-path=\"url(#pd46c8240c2)\" style=\"fill: none; stroke: #1f77b4; stroke-width: 1.5; stroke-linecap: square\"/>\n   </g>\n   <g id=\"line2d_104\">\n    <path d=\"M 27.0725 48.830043 \nL 33.5825 63.516245 \nL 40.0925 64.547744 \nL 46.6025 69.457463 \nL 53.1125 69.900342 \nL 59.6225 74.900329 \nL 66.1325 70.895513 \nL 72.6425 73.53371 \nL 79.1525 73.585412 \nL 85.6625 71.807248 \nL 92.1725 69.344599 \nL 98.6825 71.691943 \nL 105.1925 71.251617 \nL 111.7025 67.861416 \nL 118.2125 68.572038 \n\" clip-path=\"url(#pd46c8240c2)\" style=\"fill: none; stroke-dasharray: 5.55,2.4; stroke-dashoffset: 0; stroke: #ff7f0e; stroke-width: 1.5\"/>\n   </g>\n   <g id=\"line2d_105\">\n    <path d=\"M 21.37625 13.5 \nL 24.63125 53.841205 \nL 27.88625 63.106311 \nL 31.14125 65.264793 \nL 34.39625 77.287088 \nL 37.65125 76.889321 \nL 40.90625 86.007587 \nL 44.16125 86.258659 \nL 47.41625 94.466449 \nL 50.67125 92.02757 \nL 53.92625 98.757076 \nL 57.18125 101.139164 \nL 60.43625 105.433822 \nL 63.69125 106.52091 \nL 66.94625 110.787494 \nL 70.20125 111.296726 \nL 73.45625 115.120243 \nL 76.71125 115.732067 \nL 79.96625 119.221022 \nL 83.22125 118.786054 \nL 86.47625 122.125753 \nL 89.73125 122.17155 \nL 92.98625 125.921311 \nL 96.24125 124.548402 \nL 99.49625 128.26156 \nL 102.75125 127.009557 \nL 106.00625 130.187393 \nL 109.26125 129.740948 \nL 112.51625 131.231786 \nL 115.77125 131.857853 \nL 119.02625 133.197141 \nL 122.28125 133.2956 \n\" clip-path=\"url(#pd46c8240c2)\" style=\"fill: none; stroke: #1f77b4; stroke-width: 1.5; stroke-linecap: square\"/>\n   </g>\n   <g id=\"line2d_106\">\n    <path d=\"M 27.0725 48.830043 \nL 33.5825 63.516245 \nL 40.0925 64.547744 \nL 46.6025 69.457463 \nL 53.1125 69.900342 \nL 59.6225 74.900329 \nL 66.1325 70.895513 \nL 72.6425 73.53371 \nL 79.1525 73.585412 \nL 85.6625 71.807248 \nL 92.1725 69.344599 \nL 98.6825 71.691943 \nL 105.1925 71.251617 \nL 111.7025 67.861416 \nL 118.2125 68.572038 \nL 124.7225 69.124641 \n\" clip-path=\"url(#pd46c8240c2)\" style=\"fill: none; stroke-dasharray: 5.55,2.4; stroke-dashoffset: 0; stroke: #ff7f0e; stroke-width: 1.5\"/>\n   </g>\n   <g id=\"line2d_107\">\n    <path d=\"M 21.37625 13.5 \nL 24.63125 53.841205 \nL 27.88625 63.106311 \nL 31.14125 65.264793 \nL 34.39625 77.287088 \nL 37.65125 76.889321 \nL 40.90625 86.007587 \nL 44.16125 86.258659 \nL 47.41625 94.466449 \nL 50.67125 92.02757 \nL 53.92625 98.757076 \nL 57.18125 101.139164 \nL 60.43625 105.433822 \nL 63.69125 106.52091 \nL 66.94625 110.787494 \nL 70.20125 111.296726 \nL 73.45625 115.120243 \nL 76.71125 115.732067 \nL 79.96625 119.221022 \nL 83.22125 118.786054 \nL 86.47625 122.125753 \nL 89.73125 122.17155 \nL 92.98625 125.921311 \nL 96.24125 124.548402 \nL 99.49625 128.26156 \nL 102.75125 127.009557 \nL 106.00625 130.187393 \nL 109.26125 129.740948 \nL 112.51625 131.231786 \nL 115.77125 131.857853 \nL 119.02625 133.197141 \nL 122.28125 133.2956 \nL 125.53625 134.234936 \n\" clip-path=\"url(#pd46c8240c2)\" style=\"fill: none; stroke: #1f77b4; stroke-width: 1.5; stroke-linecap: square\"/>\n   </g>\n   <g id=\"line2d_108\">\n    <path d=\"M 27.0725 48.830043 \nL 33.5825 63.516245 \nL 40.0925 64.547744 \nL 46.6025 69.457463 \nL 53.1125 69.900342 \nL 59.6225 74.900329 \nL 66.1325 70.895513 \nL 72.6425 73.53371 \nL 79.1525 73.585412 \nL 85.6625 71.807248 \nL 92.1725 69.344599 \nL 98.6825 71.691943 \nL 105.1925 71.251617 \nL 111.7025 67.861416 \nL 118.2125 68.572038 \nL 124.7225 69.124641 \n\" clip-path=\"url(#pd46c8240c2)\" style=\"fill: none; stroke-dasharray: 5.55,2.4; stroke-dashoffset: 0; stroke: #ff7f0e; stroke-width: 1.5\"/>\n   </g>\n   <g id=\"line2d_109\">\n    <path d=\"M 21.37625 13.5 \nL 24.63125 53.841205 \nL 27.88625 63.106311 \nL 31.14125 65.264793 \nL 34.39625 77.287088 \nL 37.65125 76.889321 \nL 40.90625 86.007587 \nL 44.16125 86.258659 \nL 47.41625 94.466449 \nL 50.67125 92.02757 \nL 53.92625 98.757076 \nL 57.18125 101.139164 \nL 60.43625 105.433822 \nL 63.69125 106.52091 \nL 66.94625 110.787494 \nL 70.20125 111.296726 \nL 73.45625 115.120243 \nL 76.71125 115.732067 \nL 79.96625 119.221022 \nL 83.22125 118.786054 \nL 86.47625 122.125753 \nL 89.73125 122.17155 \nL 92.98625 125.921311 \nL 96.24125 124.548402 \nL 99.49625 128.26156 \nL 102.75125 127.009557 \nL 106.00625 130.187393 \nL 109.26125 129.740948 \nL 112.51625 131.231786 \nL 115.77125 131.857853 \nL 119.02625 133.197141 \nL 122.28125 133.2956 \nL 125.53625 134.234936 \nL 128.79125 134.501475 \n\" clip-path=\"url(#pd46c8240c2)\" style=\"fill: none; stroke: #1f77b4; stroke-width: 1.5; stroke-linecap: square\"/>\n   </g>\n   <g id=\"line2d_110\">\n    <path d=\"M 27.0725 48.830043 \nL 33.5825 63.516245 \nL 40.0925 64.547744 \nL 46.6025 69.457463 \nL 53.1125 69.900342 \nL 59.6225 74.900329 \nL 66.1325 70.895513 \nL 72.6425 73.53371 \nL 79.1525 73.585412 \nL 85.6625 71.807248 \nL 92.1725 69.344599 \nL 98.6825 71.691943 \nL 105.1925 71.251617 \nL 111.7025 67.861416 \nL 118.2125 68.572038 \nL 124.7225 69.124641 \n\" clip-path=\"url(#pd46c8240c2)\" style=\"fill: none; stroke-dasharray: 5.55,2.4; stroke-dashoffset: 0; stroke: #ff7f0e; stroke-width: 1.5\"/>\n   </g>\n   <g id=\"line2d_111\">\n    <path d=\"M 21.37625 13.5 \nL 24.63125 53.841205 \nL 27.88625 63.106311 \nL 31.14125 65.264793 \nL 34.39625 77.287088 \nL 37.65125 76.889321 \nL 40.90625 86.007587 \nL 44.16125 86.258659 \nL 47.41625 94.466449 \nL 50.67125 92.02757 \nL 53.92625 98.757076 \nL 57.18125 101.139164 \nL 60.43625 105.433822 \nL 63.69125 106.52091 \nL 66.94625 110.787494 \nL 70.20125 111.296726 \nL 73.45625 115.120243 \nL 76.71125 115.732067 \nL 79.96625 119.221022 \nL 83.22125 118.786054 \nL 86.47625 122.125753 \nL 89.73125 122.17155 \nL 92.98625 125.921311 \nL 96.24125 124.548402 \nL 99.49625 128.26156 \nL 102.75125 127.009557 \nL 106.00625 130.187393 \nL 109.26125 129.740948 \nL 112.51625 131.231786 \nL 115.77125 131.857853 \nL 119.02625 133.197141 \nL 122.28125 133.2956 \nL 125.53625 134.234936 \nL 128.79125 134.501475 \n\" clip-path=\"url(#pd46c8240c2)\" style=\"fill: none; stroke: #1f77b4; stroke-width: 1.5; stroke-linecap: square\"/>\n   </g>\n   <g id=\"line2d_112\">\n    <path d=\"M 27.0725 48.830043 \nL 33.5825 63.516245 \nL 40.0925 64.547744 \nL 46.6025 69.457463 \nL 53.1125 69.900342 \nL 59.6225 74.900329 \nL 66.1325 70.895513 \nL 72.6425 73.53371 \nL 79.1525 73.585412 \nL 85.6625 71.807248 \nL 92.1725 69.344599 \nL 98.6825 71.691943 \nL 105.1925 71.251617 \nL 111.7025 67.861416 \nL 118.2125 68.572038 \nL 124.7225 69.124641 \nL 131.2325 66.739798 \n\" clip-path=\"url(#pd46c8240c2)\" style=\"fill: none; stroke-dasharray: 5.55,2.4; stroke-dashoffset: 0; stroke: #ff7f0e; stroke-width: 1.5\"/>\n   </g>\n   <g id=\"line2d_113\">\n    <path d=\"M 21.37625 13.5 \nL 24.63125 53.841205 \nL 27.88625 63.106311 \nL 31.14125 65.264793 \nL 34.39625 77.287088 \nL 37.65125 76.889321 \nL 40.90625 86.007587 \nL 44.16125 86.258659 \nL 47.41625 94.466449 \nL 50.67125 92.02757 \nL 53.92625 98.757076 \nL 57.18125 101.139164 \nL 60.43625 105.433822 \nL 63.69125 106.52091 \nL 66.94625 110.787494 \nL 70.20125 111.296726 \nL 73.45625 115.120243 \nL 76.71125 115.732067 \nL 79.96625 119.221022 \nL 83.22125 118.786054 \nL 86.47625 122.125753 \nL 89.73125 122.17155 \nL 92.98625 125.921311 \nL 96.24125 124.548402 \nL 99.49625 128.26156 \nL 102.75125 127.009557 \nL 106.00625 130.187393 \nL 109.26125 129.740948 \nL 112.51625 131.231786 \nL 115.77125 131.857853 \nL 119.02625 133.197141 \nL 122.28125 133.2956 \nL 125.53625 134.234936 \nL 128.79125 134.501475 \nL 132.04625 134.874876 \n\" clip-path=\"url(#pd46c8240c2)\" style=\"fill: none; stroke: #1f77b4; stroke-width: 1.5; stroke-linecap: square\"/>\n   </g>\n   <g id=\"line2d_114\">\n    <path d=\"M 27.0725 48.830043 \nL 33.5825 63.516245 \nL 40.0925 64.547744 \nL 46.6025 69.457463 \nL 53.1125 69.900342 \nL 59.6225 74.900329 \nL 66.1325 70.895513 \nL 72.6425 73.53371 \nL 79.1525 73.585412 \nL 85.6625 71.807248 \nL 92.1725 69.344599 \nL 98.6825 71.691943 \nL 105.1925 71.251617 \nL 111.7025 67.861416 \nL 118.2125 68.572038 \nL 124.7225 69.124641 \nL 131.2325 66.739798 \n\" clip-path=\"url(#pd46c8240c2)\" style=\"fill: none; stroke-dasharray: 5.55,2.4; stroke-dashoffset: 0; stroke: #ff7f0e; stroke-width: 1.5\"/>\n   </g>\n   <g id=\"line2d_115\">\n    <path d=\"M 21.37625 13.5 \nL 24.63125 53.841205 \nL 27.88625 63.106311 \nL 31.14125 65.264793 \nL 34.39625 77.287088 \nL 37.65125 76.889321 \nL 40.90625 86.007587 \nL 44.16125 86.258659 \nL 47.41625 94.466449 \nL 50.67125 92.02757 \nL 53.92625 98.757076 \nL 57.18125 101.139164 \nL 60.43625 105.433822 \nL 63.69125 106.52091 \nL 66.94625 110.787494 \nL 70.20125 111.296726 \nL 73.45625 115.120243 \nL 76.71125 115.732067 \nL 79.96625 119.221022 \nL 83.22125 118.786054 \nL 86.47625 122.125753 \nL 89.73125 122.17155 \nL 92.98625 125.921311 \nL 96.24125 124.548402 \nL 99.49625 128.26156 \nL 102.75125 127.009557 \nL 106.00625 130.187393 \nL 109.26125 129.740948 \nL 112.51625 131.231786 \nL 115.77125 131.857853 \nL 119.02625 133.197141 \nL 122.28125 133.2956 \nL 125.53625 134.234936 \nL 128.79125 134.501475 \nL 132.04625 134.874876 \nL 135.30125 135.608914 \n\" clip-path=\"url(#pd46c8240c2)\" style=\"fill: none; stroke: #1f77b4; stroke-width: 1.5; stroke-linecap: square\"/>\n   </g>\n   <g id=\"line2d_116\">\n    <path d=\"M 27.0725 48.830043 \nL 33.5825 63.516245 \nL 40.0925 64.547744 \nL 46.6025 69.457463 \nL 53.1125 69.900342 \nL 59.6225 74.900329 \nL 66.1325 70.895513 \nL 72.6425 73.53371 \nL 79.1525 73.585412 \nL 85.6625 71.807248 \nL 92.1725 69.344599 \nL 98.6825 71.691943 \nL 105.1925 71.251617 \nL 111.7025 67.861416 \nL 118.2125 68.572038 \nL 124.7225 69.124641 \nL 131.2325 66.739798 \n\" clip-path=\"url(#pd46c8240c2)\" style=\"fill: none; stroke-dasharray: 5.55,2.4; stroke-dashoffset: 0; stroke: #ff7f0e; stroke-width: 1.5\"/>\n   </g>\n   <g id=\"line2d_117\">\n    <path d=\"M 21.37625 13.5 \nL 24.63125 53.841205 \nL 27.88625 63.106311 \nL 31.14125 65.264793 \nL 34.39625 77.287088 \nL 37.65125 76.889321 \nL 40.90625 86.007587 \nL 44.16125 86.258659 \nL 47.41625 94.466449 \nL 50.67125 92.02757 \nL 53.92625 98.757076 \nL 57.18125 101.139164 \nL 60.43625 105.433822 \nL 63.69125 106.52091 \nL 66.94625 110.787494 \nL 70.20125 111.296726 \nL 73.45625 115.120243 \nL 76.71125 115.732067 \nL 79.96625 119.221022 \nL 83.22125 118.786054 \nL 86.47625 122.125753 \nL 89.73125 122.17155 \nL 92.98625 125.921311 \nL 96.24125 124.548402 \nL 99.49625 128.26156 \nL 102.75125 127.009557 \nL 106.00625 130.187393 \nL 109.26125 129.740948 \nL 112.51625 131.231786 \nL 115.77125 131.857853 \nL 119.02625 133.197141 \nL 122.28125 133.2956 \nL 125.53625 134.234936 \nL 128.79125 134.501475 \nL 132.04625 134.874876 \nL 135.30125 135.608914 \n\" clip-path=\"url(#pd46c8240c2)\" style=\"fill: none; stroke: #1f77b4; stroke-width: 1.5; stroke-linecap: square\"/>\n   </g>\n   <g id=\"line2d_118\">\n    <path d=\"M 27.0725 48.830043 \nL 33.5825 63.516245 \nL 40.0925 64.547744 \nL 46.6025 69.457463 \nL 53.1125 69.900342 \nL 59.6225 74.900329 \nL 66.1325 70.895513 \nL 72.6425 73.53371 \nL 79.1525 73.585412 \nL 85.6625 71.807248 \nL 92.1725 69.344599 \nL 98.6825 71.691943 \nL 105.1925 71.251617 \nL 111.7025 67.861416 \nL 118.2125 68.572038 \nL 124.7225 69.124641 \nL 131.2325 66.739798 \nL 137.7425 67.369471 \n\" clip-path=\"url(#pd46c8240c2)\" style=\"fill: none; stroke-dasharray: 5.55,2.4; stroke-dashoffset: 0; stroke: #ff7f0e; stroke-width: 1.5\"/>\n   </g>\n   <g id=\"line2d_119\">\n    <path d=\"M 21.37625 13.5 \nL 24.63125 53.841205 \nL 27.88625 63.106311 \nL 31.14125 65.264793 \nL 34.39625 77.287088 \nL 37.65125 76.889321 \nL 40.90625 86.007587 \nL 44.16125 86.258659 \nL 47.41625 94.466449 \nL 50.67125 92.02757 \nL 53.92625 98.757076 \nL 57.18125 101.139164 \nL 60.43625 105.433822 \nL 63.69125 106.52091 \nL 66.94625 110.787494 \nL 70.20125 111.296726 \nL 73.45625 115.120243 \nL 76.71125 115.732067 \nL 79.96625 119.221022 \nL 83.22125 118.786054 \nL 86.47625 122.125753 \nL 89.73125 122.17155 \nL 92.98625 125.921311 \nL 96.24125 124.548402 \nL 99.49625 128.26156 \nL 102.75125 127.009557 \nL 106.00625 130.187393 \nL 109.26125 129.740948 \nL 112.51625 131.231786 \nL 115.77125 131.857853 \nL 119.02625 133.197141 \nL 122.28125 133.2956 \nL 125.53625 134.234936 \nL 128.79125 134.501475 \nL 132.04625 134.874876 \nL 135.30125 135.608914 \nL 138.55625 136.597466 \n\" clip-path=\"url(#pd46c8240c2)\" style=\"fill: none; stroke: #1f77b4; stroke-width: 1.5; stroke-linecap: square\"/>\n   </g>\n   <g id=\"line2d_120\">\n    <path d=\"M 27.0725 48.830043 \nL 33.5825 63.516245 \nL 40.0925 64.547744 \nL 46.6025 69.457463 \nL 53.1125 69.900342 \nL 59.6225 74.900329 \nL 66.1325 70.895513 \nL 72.6425 73.53371 \nL 79.1525 73.585412 \nL 85.6625 71.807248 \nL 92.1725 69.344599 \nL 98.6825 71.691943 \nL 105.1925 71.251617 \nL 111.7025 67.861416 \nL 118.2125 68.572038 \nL 124.7225 69.124641 \nL 131.2325 66.739798 \nL 137.7425 67.369471 \n\" clip-path=\"url(#pd46c8240c2)\" style=\"fill: none; stroke-dasharray: 5.55,2.4; stroke-dashoffset: 0; stroke: #ff7f0e; stroke-width: 1.5\"/>\n   </g>\n   <g id=\"line2d_121\">\n    <path d=\"M 21.37625 13.5 \nL 24.63125 53.841205 \nL 27.88625 63.106311 \nL 31.14125 65.264793 \nL 34.39625 77.287088 \nL 37.65125 76.889321 \nL 40.90625 86.007587 \nL 44.16125 86.258659 \nL 47.41625 94.466449 \nL 50.67125 92.02757 \nL 53.92625 98.757076 \nL 57.18125 101.139164 \nL 60.43625 105.433822 \nL 63.69125 106.52091 \nL 66.94625 110.787494 \nL 70.20125 111.296726 \nL 73.45625 115.120243 \nL 76.71125 115.732067 \nL 79.96625 119.221022 \nL 83.22125 118.786054 \nL 86.47625 122.125753 \nL 89.73125 122.17155 \nL 92.98625 125.921311 \nL 96.24125 124.548402 \nL 99.49625 128.26156 \nL 102.75125 127.009557 \nL 106.00625 130.187393 \nL 109.26125 129.740948 \nL 112.51625 131.231786 \nL 115.77125 131.857853 \nL 119.02625 133.197141 \nL 122.28125 133.2956 \nL 125.53625 134.234936 \nL 128.79125 134.501475 \nL 132.04625 134.874876 \nL 135.30125 135.608914 \nL 138.55625 136.597466 \nL 141.81125 135.597845 \n\" clip-path=\"url(#pd46c8240c2)\" style=\"fill: none; stroke: #1f77b4; stroke-width: 1.5; stroke-linecap: square\"/>\n   </g>\n   <g id=\"line2d_122\">\n    <path d=\"M 27.0725 48.830043 \nL 33.5825 63.516245 \nL 40.0925 64.547744 \nL 46.6025 69.457463 \nL 53.1125 69.900342 \nL 59.6225 74.900329 \nL 66.1325 70.895513 \nL 72.6425 73.53371 \nL 79.1525 73.585412 \nL 85.6625 71.807248 \nL 92.1725 69.344599 \nL 98.6825 71.691943 \nL 105.1925 71.251617 \nL 111.7025 67.861416 \nL 118.2125 68.572038 \nL 124.7225 69.124641 \nL 131.2325 66.739798 \nL 137.7425 67.369471 \n\" clip-path=\"url(#pd46c8240c2)\" style=\"fill: none; stroke-dasharray: 5.55,2.4; stroke-dashoffset: 0; stroke: #ff7f0e; stroke-width: 1.5\"/>\n   </g>\n   <g id=\"line2d_123\">\n    <path d=\"M 21.37625 13.5 \nL 24.63125 53.841205 \nL 27.88625 63.106311 \nL 31.14125 65.264793 \nL 34.39625 77.287088 \nL 37.65125 76.889321 \nL 40.90625 86.007587 \nL 44.16125 86.258659 \nL 47.41625 94.466449 \nL 50.67125 92.02757 \nL 53.92625 98.757076 \nL 57.18125 101.139164 \nL 60.43625 105.433822 \nL 63.69125 106.52091 \nL 66.94625 110.787494 \nL 70.20125 111.296726 \nL 73.45625 115.120243 \nL 76.71125 115.732067 \nL 79.96625 119.221022 \nL 83.22125 118.786054 \nL 86.47625 122.125753 \nL 89.73125 122.17155 \nL 92.98625 125.921311 \nL 96.24125 124.548402 \nL 99.49625 128.26156 \nL 102.75125 127.009557 \nL 106.00625 130.187393 \nL 109.26125 129.740948 \nL 112.51625 131.231786 \nL 115.77125 131.857853 \nL 119.02625 133.197141 \nL 122.28125 133.2956 \nL 125.53625 134.234936 \nL 128.79125 134.501475 \nL 132.04625 134.874876 \nL 135.30125 135.608914 \nL 138.55625 136.597466 \nL 141.81125 135.597845 \n\" clip-path=\"url(#pd46c8240c2)\" style=\"fill: none; stroke: #1f77b4; stroke-width: 1.5; stroke-linecap: square\"/>\n   </g>\n   <g id=\"line2d_124\">\n    <path d=\"M 27.0725 48.830043 \nL 33.5825 63.516245 \nL 40.0925 64.547744 \nL 46.6025 69.457463 \nL 53.1125 69.900342 \nL 59.6225 74.900329 \nL 66.1325 70.895513 \nL 72.6425 73.53371 \nL 79.1525 73.585412 \nL 85.6625 71.807248 \nL 92.1725 69.344599 \nL 98.6825 71.691943 \nL 105.1925 71.251617 \nL 111.7025 67.861416 \nL 118.2125 68.572038 \nL 124.7225 69.124641 \nL 131.2325 66.739798 \nL 137.7425 67.369471 \nL 144.2525 65.079744 \n\" clip-path=\"url(#pd46c8240c2)\" style=\"fill: none; stroke-dasharray: 5.55,2.4; stroke-dashoffset: 0; stroke: #ff7f0e; stroke-width: 1.5\"/>\n   </g>\n   <g id=\"line2d_125\">\n    <path d=\"M 21.37625 13.5 \nL 24.63125 53.841205 \nL 27.88625 63.106311 \nL 31.14125 65.264793 \nL 34.39625 77.287088 \nL 37.65125 76.889321 \nL 40.90625 86.007587 \nL 44.16125 86.258659 \nL 47.41625 94.466449 \nL 50.67125 92.02757 \nL 53.92625 98.757076 \nL 57.18125 101.139164 \nL 60.43625 105.433822 \nL 63.69125 106.52091 \nL 66.94625 110.787494 \nL 70.20125 111.296726 \nL 73.45625 115.120243 \nL 76.71125 115.732067 \nL 79.96625 119.221022 \nL 83.22125 118.786054 \nL 86.47625 122.125753 \nL 89.73125 122.17155 \nL 92.98625 125.921311 \nL 96.24125 124.548402 \nL 99.49625 128.26156 \nL 102.75125 127.009557 \nL 106.00625 130.187393 \nL 109.26125 129.740948 \nL 112.51625 131.231786 \nL 115.77125 131.857853 \nL 119.02625 133.197141 \nL 122.28125 133.2956 \nL 125.53625 134.234936 \nL 128.79125 134.501475 \nL 132.04625 134.874876 \nL 135.30125 135.608914 \nL 138.55625 136.597466 \nL 141.81125 135.597845 \nL 145.06625 137.239234 \n\" clip-path=\"url(#pd46c8240c2)\" style=\"fill: none; stroke: #1f77b4; stroke-width: 1.5; stroke-linecap: square\"/>\n   </g>\n   <g id=\"line2d_126\">\n    <path d=\"M 27.0725 48.830043 \nL 33.5825 63.516245 \nL 40.0925 64.547744 \nL 46.6025 69.457463 \nL 53.1125 69.900342 \nL 59.6225 74.900329 \nL 66.1325 70.895513 \nL 72.6425 73.53371 \nL 79.1525 73.585412 \nL 85.6625 71.807248 \nL 92.1725 69.344599 \nL 98.6825 71.691943 \nL 105.1925 71.251617 \nL 111.7025 67.861416 \nL 118.2125 68.572038 \nL 124.7225 69.124641 \nL 131.2325 66.739798 \nL 137.7425 67.369471 \nL 144.2525 65.079744 \n\" clip-path=\"url(#pd46c8240c2)\" style=\"fill: none; stroke-dasharray: 5.55,2.4; stroke-dashoffset: 0; stroke: #ff7f0e; stroke-width: 1.5\"/>\n   </g>\n   <g id=\"line2d_127\">\n    <path d=\"M 21.37625 13.5 \nL 24.63125 53.841205 \nL 27.88625 63.106311 \nL 31.14125 65.264793 \nL 34.39625 77.287088 \nL 37.65125 76.889321 \nL 40.90625 86.007587 \nL 44.16125 86.258659 \nL 47.41625 94.466449 \nL 50.67125 92.02757 \nL 53.92625 98.757076 \nL 57.18125 101.139164 \nL 60.43625 105.433822 \nL 63.69125 106.52091 \nL 66.94625 110.787494 \nL 70.20125 111.296726 \nL 73.45625 115.120243 \nL 76.71125 115.732067 \nL 79.96625 119.221022 \nL 83.22125 118.786054 \nL 86.47625 122.125753 \nL 89.73125 122.17155 \nL 92.98625 125.921311 \nL 96.24125 124.548402 \nL 99.49625 128.26156 \nL 102.75125 127.009557 \nL 106.00625 130.187393 \nL 109.26125 129.740948 \nL 112.51625 131.231786 \nL 115.77125 131.857853 \nL 119.02625 133.197141 \nL 122.28125 133.2956 \nL 125.53625 134.234936 \nL 128.79125 134.501475 \nL 132.04625 134.874876 \nL 135.30125 135.608914 \nL 138.55625 136.597466 \nL 141.81125 135.597845 \nL 145.06625 137.239234 \nL 148.32125 136.446845 \n\" clip-path=\"url(#pd46c8240c2)\" style=\"fill: none; stroke: #1f77b4; stroke-width: 1.5; stroke-linecap: square\"/>\n   </g>\n   <g id=\"line2d_128\">\n    <path d=\"M 27.0725 48.830043 \nL 33.5825 63.516245 \nL 40.0925 64.547744 \nL 46.6025 69.457463 \nL 53.1125 69.900342 \nL 59.6225 74.900329 \nL 66.1325 70.895513 \nL 72.6425 73.53371 \nL 79.1525 73.585412 \nL 85.6625 71.807248 \nL 92.1725 69.344599 \nL 98.6825 71.691943 \nL 105.1925 71.251617 \nL 111.7025 67.861416 \nL 118.2125 68.572038 \nL 124.7225 69.124641 \nL 131.2325 66.739798 \nL 137.7425 67.369471 \nL 144.2525 65.079744 \n\" clip-path=\"url(#pd46c8240c2)\" style=\"fill: none; stroke-dasharray: 5.55,2.4; stroke-dashoffset: 0; stroke: #ff7f0e; stroke-width: 1.5\"/>\n   </g>\n   <g id=\"line2d_129\">\n    <path d=\"M 21.37625 13.5 \nL 24.63125 53.841205 \nL 27.88625 63.106311 \nL 31.14125 65.264793 \nL 34.39625 77.287088 \nL 37.65125 76.889321 \nL 40.90625 86.007587 \nL 44.16125 86.258659 \nL 47.41625 94.466449 \nL 50.67125 92.02757 \nL 53.92625 98.757076 \nL 57.18125 101.139164 \nL 60.43625 105.433822 \nL 63.69125 106.52091 \nL 66.94625 110.787494 \nL 70.20125 111.296726 \nL 73.45625 115.120243 \nL 76.71125 115.732067 \nL 79.96625 119.221022 \nL 83.22125 118.786054 \nL 86.47625 122.125753 \nL 89.73125 122.17155 \nL 92.98625 125.921311 \nL 96.24125 124.548402 \nL 99.49625 128.26156 \nL 102.75125 127.009557 \nL 106.00625 130.187393 \nL 109.26125 129.740948 \nL 112.51625 131.231786 \nL 115.77125 131.857853 \nL 119.02625 133.197141 \nL 122.28125 133.2956 \nL 125.53625 134.234936 \nL 128.79125 134.501475 \nL 132.04625 134.874876 \nL 135.30125 135.608914 \nL 138.55625 136.597466 \nL 141.81125 135.597845 \nL 145.06625 137.239234 \nL 148.32125 136.446845 \n\" clip-path=\"url(#pd46c8240c2)\" style=\"fill: none; stroke: #1f77b4; stroke-width: 1.5; stroke-linecap: square\"/>\n   </g>\n   <g id=\"line2d_130\">\n    <path d=\"M 27.0725 48.830043 \nL 33.5825 63.516245 \nL 40.0925 64.547744 \nL 46.6025 69.457463 \nL 53.1125 69.900342 \nL 59.6225 74.900329 \nL 66.1325 70.895513 \nL 72.6425 73.53371 \nL 79.1525 73.585412 \nL 85.6625 71.807248 \nL 92.1725 69.344599 \nL 98.6825 71.691943 \nL 105.1925 71.251617 \nL 111.7025 67.861416 \nL 118.2125 68.572038 \nL 124.7225 69.124641 \nL 131.2325 66.739798 \nL 137.7425 67.369471 \nL 144.2525 65.079744 \nL 150.7625 67.258527 \n\" clip-path=\"url(#pd46c8240c2)\" style=\"fill: none; stroke-dasharray: 5.55,2.4; stroke-dashoffset: 0; stroke: #ff7f0e; stroke-width: 1.5\"/>\n   </g>\n   <g id=\"line2d_131\">\n    <path d=\"M 21.37625 13.5 \nL 24.63125 53.841205 \nL 27.88625 63.106311 \nL 31.14125 65.264793 \nL 34.39625 77.287088 \nL 37.65125 76.889321 \nL 40.90625 86.007587 \nL 44.16125 86.258659 \nL 47.41625 94.466449 \nL 50.67125 92.02757 \nL 53.92625 98.757076 \nL 57.18125 101.139164 \nL 60.43625 105.433822 \nL 63.69125 106.52091 \nL 66.94625 110.787494 \nL 70.20125 111.296726 \nL 73.45625 115.120243 \nL 76.71125 115.732067 \nL 79.96625 119.221022 \nL 83.22125 118.786054 \nL 86.47625 122.125753 \nL 89.73125 122.17155 \nL 92.98625 125.921311 \nL 96.24125 124.548402 \nL 99.49625 128.26156 \nL 102.75125 127.009557 \nL 106.00625 130.187393 \nL 109.26125 129.740948 \nL 112.51625 131.231786 \nL 115.77125 131.857853 \nL 119.02625 133.197141 \nL 122.28125 133.2956 \nL 125.53625 134.234936 \nL 128.79125 134.501475 \nL 132.04625 134.874876 \nL 135.30125 135.608914 \nL 138.55625 136.597466 \nL 141.81125 135.597845 \nL 145.06625 137.239234 \nL 148.32125 136.446845 \nL 151.57625 137.613972 \n\" clip-path=\"url(#pd46c8240c2)\" style=\"fill: none; stroke: #1f77b4; stroke-width: 1.5; stroke-linecap: square\"/>\n   </g>\n   <g id=\"line2d_132\">\n    <path d=\"M 27.0725 48.830043 \nL 33.5825 63.516245 \nL 40.0925 64.547744 \nL 46.6025 69.457463 \nL 53.1125 69.900342 \nL 59.6225 74.900329 \nL 66.1325 70.895513 \nL 72.6425 73.53371 \nL 79.1525 73.585412 \nL 85.6625 71.807248 \nL 92.1725 69.344599 \nL 98.6825 71.691943 \nL 105.1925 71.251617 \nL 111.7025 67.861416 \nL 118.2125 68.572038 \nL 124.7225 69.124641 \nL 131.2325 66.739798 \nL 137.7425 67.369471 \nL 144.2525 65.079744 \nL 150.7625 67.258527 \n\" clip-path=\"url(#pd46c8240c2)\" style=\"fill: none; stroke-dasharray: 5.55,2.4; stroke-dashoffset: 0; stroke: #ff7f0e; stroke-width: 1.5\"/>\n   </g>\n   <g id=\"line2d_133\">\n    <path d=\"M 21.37625 13.5 \nL 24.63125 53.841205 \nL 27.88625 63.106311 \nL 31.14125 65.264793 \nL 34.39625 77.287088 \nL 37.65125 76.889321 \nL 40.90625 86.007587 \nL 44.16125 86.258659 \nL 47.41625 94.466449 \nL 50.67125 92.02757 \nL 53.92625 98.757076 \nL 57.18125 101.139164 \nL 60.43625 105.433822 \nL 63.69125 106.52091 \nL 66.94625 110.787494 \nL 70.20125 111.296726 \nL 73.45625 115.120243 \nL 76.71125 115.732067 \nL 79.96625 119.221022 \nL 83.22125 118.786054 \nL 86.47625 122.125753 \nL 89.73125 122.17155 \nL 92.98625 125.921311 \nL 96.24125 124.548402 \nL 99.49625 128.26156 \nL 102.75125 127.009557 \nL 106.00625 130.187393 \nL 109.26125 129.740948 \nL 112.51625 131.231786 \nL 115.77125 131.857853 \nL 119.02625 133.197141 \nL 122.28125 133.2956 \nL 125.53625 134.234936 \nL 128.79125 134.501475 \nL 132.04625 134.874876 \nL 135.30125 135.608914 \nL 138.55625 136.597466 \nL 141.81125 135.597845 \nL 145.06625 137.239234 \nL 148.32125 136.446845 \nL 151.57625 137.613972 \nL 154.83125 137.4075 \n\" clip-path=\"url(#pd46c8240c2)\" style=\"fill: none; stroke: #1f77b4; stroke-width: 1.5; stroke-linecap: square\"/>\n   </g>\n   <g id=\"line2d_134\">\n    <path d=\"M 27.0725 48.830043 \nL 33.5825 63.516245 \nL 40.0925 64.547744 \nL 46.6025 69.457463 \nL 53.1125 69.900342 \nL 59.6225 74.900329 \nL 66.1325 70.895513 \nL 72.6425 73.53371 \nL 79.1525 73.585412 \nL 85.6625 71.807248 \nL 92.1725 69.344599 \nL 98.6825 71.691943 \nL 105.1925 71.251617 \nL 111.7025 67.861416 \nL 118.2125 68.572038 \nL 124.7225 69.124641 \nL 131.2325 66.739798 \nL 137.7425 67.369471 \nL 144.2525 65.079744 \nL 150.7625 67.258527 \n\" clip-path=\"url(#pd46c8240c2)\" style=\"fill: none; stroke-dasharray: 5.55,2.4; stroke-dashoffset: 0; stroke: #ff7f0e; stroke-width: 1.5\"/>\n   </g>\n   <g id=\"line2d_135\">\n    <path d=\"M 21.37625 13.5 \nL 24.63125 53.841205 \nL 27.88625 63.106311 \nL 31.14125 65.264793 \nL 34.39625 77.287088 \nL 37.65125 76.889321 \nL 40.90625 86.007587 \nL 44.16125 86.258659 \nL 47.41625 94.466449 \nL 50.67125 92.02757 \nL 53.92625 98.757076 \nL 57.18125 101.139164 \nL 60.43625 105.433822 \nL 63.69125 106.52091 \nL 66.94625 110.787494 \nL 70.20125 111.296726 \nL 73.45625 115.120243 \nL 76.71125 115.732067 \nL 79.96625 119.221022 \nL 83.22125 118.786054 \nL 86.47625 122.125753 \nL 89.73125 122.17155 \nL 92.98625 125.921311 \nL 96.24125 124.548402 \nL 99.49625 128.26156 \nL 102.75125 127.009557 \nL 106.00625 130.187393 \nL 109.26125 129.740948 \nL 112.51625 131.231786 \nL 115.77125 131.857853 \nL 119.02625 133.197141 \nL 122.28125 133.2956 \nL 125.53625 134.234936 \nL 128.79125 134.501475 \nL 132.04625 134.874876 \nL 135.30125 135.608914 \nL 138.55625 136.597466 \nL 141.81125 135.597845 \nL 145.06625 137.239234 \nL 148.32125 136.446845 \nL 151.57625 137.613972 \nL 154.83125 137.4075 \n\" clip-path=\"url(#pd46c8240c2)\" style=\"fill: none; stroke: #1f77b4; stroke-width: 1.5; stroke-linecap: square\"/>\n   </g>\n   <g id=\"line2d_136\">\n    <path d=\"M 27.0725 48.830043 \nL 33.5825 63.516245 \nL 40.0925 64.547744 \nL 46.6025 69.457463 \nL 53.1125 69.900342 \nL 59.6225 74.900329 \nL 66.1325 70.895513 \nL 72.6425 73.53371 \nL 79.1525 73.585412 \nL 85.6625 71.807248 \nL 92.1725 69.344599 \nL 98.6825 71.691943 \nL 105.1925 71.251617 \nL 111.7025 67.861416 \nL 118.2125 68.572038 \nL 124.7225 69.124641 \nL 131.2325 66.739798 \nL 137.7425 67.369471 \nL 144.2525 65.079744 \nL 150.7625 67.258527 \nL 157.2725 67.715378 \n\" clip-path=\"url(#pd46c8240c2)\" style=\"fill: none; stroke-dasharray: 5.55,2.4; stroke-dashoffset: 0; stroke: #ff7f0e; stroke-width: 1.5\"/>\n   </g>\n   <g id=\"line2d_137\">\n    <path d=\"M 21.37625 13.5 \nL 24.63125 53.841205 \nL 27.88625 63.106311 \nL 31.14125 65.264793 \nL 34.39625 77.287088 \nL 37.65125 76.889321 \nL 40.90625 86.007587 \nL 44.16125 86.258659 \nL 47.41625 94.466449 \nL 50.67125 92.02757 \nL 53.92625 98.757076 \nL 57.18125 101.139164 \nL 60.43625 105.433822 \nL 63.69125 106.52091 \nL 66.94625 110.787494 \nL 70.20125 111.296726 \nL 73.45625 115.120243 \nL 76.71125 115.732067 \nL 79.96625 119.221022 \nL 83.22125 118.786054 \nL 86.47625 122.125753 \nL 89.73125 122.17155 \nL 92.98625 125.921311 \nL 96.24125 124.548402 \nL 99.49625 128.26156 \nL 102.75125 127.009557 \nL 106.00625 130.187393 \nL 109.26125 129.740948 \nL 112.51625 131.231786 \nL 115.77125 131.857853 \nL 119.02625 133.197141 \nL 122.28125 133.2956 \nL 125.53625 134.234936 \nL 128.79125 134.501475 \nL 132.04625 134.874876 \nL 135.30125 135.608914 \nL 138.55625 136.597466 \nL 141.81125 135.597845 \nL 145.06625 137.239234 \nL 148.32125 136.446845 \nL 151.57625 137.613972 \nL 154.83125 137.4075 \nL 158.08625 138.019382 \n\" clip-path=\"url(#pd46c8240c2)\" style=\"fill: none; stroke: #1f77b4; stroke-width: 1.5; stroke-linecap: square\"/>\n   </g>\n   <g id=\"line2d_138\">\n    <path d=\"M 27.0725 48.830043 \nL 33.5825 63.516245 \nL 40.0925 64.547744 \nL 46.6025 69.457463 \nL 53.1125 69.900342 \nL 59.6225 74.900329 \nL 66.1325 70.895513 \nL 72.6425 73.53371 \nL 79.1525 73.585412 \nL 85.6625 71.807248 \nL 92.1725 69.344599 \nL 98.6825 71.691943 \nL 105.1925 71.251617 \nL 111.7025 67.861416 \nL 118.2125 68.572038 \nL 124.7225 69.124641 \nL 131.2325 66.739798 \nL 137.7425 67.369471 \nL 144.2525 65.079744 \nL 150.7625 67.258527 \nL 157.2725 67.715378 \n\" clip-path=\"url(#pd46c8240c2)\" style=\"fill: none; stroke-dasharray: 5.55,2.4; stroke-dashoffset: 0; stroke: #ff7f0e; stroke-width: 1.5\"/>\n   </g>\n   <g id=\"line2d_139\">\n    <path d=\"M 21.37625 13.5 \nL 24.63125 53.841205 \nL 27.88625 63.106311 \nL 31.14125 65.264793 \nL 34.39625 77.287088 \nL 37.65125 76.889321 \nL 40.90625 86.007587 \nL 44.16125 86.258659 \nL 47.41625 94.466449 \nL 50.67125 92.02757 \nL 53.92625 98.757076 \nL 57.18125 101.139164 \nL 60.43625 105.433822 \nL 63.69125 106.52091 \nL 66.94625 110.787494 \nL 70.20125 111.296726 \nL 73.45625 115.120243 \nL 76.71125 115.732067 \nL 79.96625 119.221022 \nL 83.22125 118.786054 \nL 86.47625 122.125753 \nL 89.73125 122.17155 \nL 92.98625 125.921311 \nL 96.24125 124.548402 \nL 99.49625 128.26156 \nL 102.75125 127.009557 \nL 106.00625 130.187393 \nL 109.26125 129.740948 \nL 112.51625 131.231786 \nL 115.77125 131.857853 \nL 119.02625 133.197141 \nL 122.28125 133.2956 \nL 125.53625 134.234936 \nL 128.79125 134.501475 \nL 132.04625 134.874876 \nL 135.30125 135.608914 \nL 138.55625 136.597466 \nL 141.81125 135.597845 \nL 145.06625 137.239234 \nL 148.32125 136.446845 \nL 151.57625 137.613972 \nL 154.83125 137.4075 \nL 158.08625 138.019382 \nL 161.34125 137.670738 \n\" clip-path=\"url(#pd46c8240c2)\" style=\"fill: none; stroke: #1f77b4; stroke-width: 1.5; stroke-linecap: square\"/>\n   </g>\n   <g id=\"line2d_140\">\n    <path d=\"M 27.0725 48.830043 \nL 33.5825 63.516245 \nL 40.0925 64.547744 \nL 46.6025 69.457463 \nL 53.1125 69.900342 \nL 59.6225 74.900329 \nL 66.1325 70.895513 \nL 72.6425 73.53371 \nL 79.1525 73.585412 \nL 85.6625 71.807248 \nL 92.1725 69.344599 \nL 98.6825 71.691943 \nL 105.1925 71.251617 \nL 111.7025 67.861416 \nL 118.2125 68.572038 \nL 124.7225 69.124641 \nL 131.2325 66.739798 \nL 137.7425 67.369471 \nL 144.2525 65.079744 \nL 150.7625 67.258527 \nL 157.2725 67.715378 \n\" clip-path=\"url(#pd46c8240c2)\" style=\"fill: none; stroke-dasharray: 5.55,2.4; stroke-dashoffset: 0; stroke: #ff7f0e; stroke-width: 1.5\"/>\n   </g>\n   <g id=\"line2d_141\">\n    <path d=\"M 21.37625 13.5 \nL 24.63125 53.841205 \nL 27.88625 63.106311 \nL 31.14125 65.264793 \nL 34.39625 77.287088 \nL 37.65125 76.889321 \nL 40.90625 86.007587 \nL 44.16125 86.258659 \nL 47.41625 94.466449 \nL 50.67125 92.02757 \nL 53.92625 98.757076 \nL 57.18125 101.139164 \nL 60.43625 105.433822 \nL 63.69125 106.52091 \nL 66.94625 110.787494 \nL 70.20125 111.296726 \nL 73.45625 115.120243 \nL 76.71125 115.732067 \nL 79.96625 119.221022 \nL 83.22125 118.786054 \nL 86.47625 122.125753 \nL 89.73125 122.17155 \nL 92.98625 125.921311 \nL 96.24125 124.548402 \nL 99.49625 128.26156 \nL 102.75125 127.009557 \nL 106.00625 130.187393 \nL 109.26125 129.740948 \nL 112.51625 131.231786 \nL 115.77125 131.857853 \nL 119.02625 133.197141 \nL 122.28125 133.2956 \nL 125.53625 134.234936 \nL 128.79125 134.501475 \nL 132.04625 134.874876 \nL 135.30125 135.608914 \nL 138.55625 136.597466 \nL 141.81125 135.597845 \nL 145.06625 137.239234 \nL 148.32125 136.446845 \nL 151.57625 137.613972 \nL 154.83125 137.4075 \nL 158.08625 138.019382 \nL 161.34125 137.670738 \n\" clip-path=\"url(#pd46c8240c2)\" style=\"fill: none; stroke: #1f77b4; stroke-width: 1.5; stroke-linecap: square\"/>\n   </g>\n   <g id=\"line2d_142\">\n    <path d=\"M 27.0725 48.830043 \nL 33.5825 63.516245 \nL 40.0925 64.547744 \nL 46.6025 69.457463 \nL 53.1125 69.900342 \nL 59.6225 74.900329 \nL 66.1325 70.895513 \nL 72.6425 73.53371 \nL 79.1525 73.585412 \nL 85.6625 71.807248 \nL 92.1725 69.344599 \nL 98.6825 71.691943 \nL 105.1925 71.251617 \nL 111.7025 67.861416 \nL 118.2125 68.572038 \nL 124.7225 69.124641 \nL 131.2325 66.739798 \nL 137.7425 67.369471 \nL 144.2525 65.079744 \nL 150.7625 67.258527 \nL 157.2725 67.715378 \nL 163.7825 61.196912 \n\" clip-path=\"url(#pd46c8240c2)\" style=\"fill: none; stroke-dasharray: 5.55,2.4; stroke-dashoffset: 0; stroke: #ff7f0e; stroke-width: 1.5\"/>\n   </g>\n   <g id=\"line2d_143\">\n    <path d=\"M 21.37625 13.5 \nL 24.63125 53.841205 \nL 27.88625 63.106311 \nL 31.14125 65.264793 \nL 34.39625 77.287088 \nL 37.65125 76.889321 \nL 40.90625 86.007587 \nL 44.16125 86.258659 \nL 47.41625 94.466449 \nL 50.67125 92.02757 \nL 53.92625 98.757076 \nL 57.18125 101.139164 \nL 60.43625 105.433822 \nL 63.69125 106.52091 \nL 66.94625 110.787494 \nL 70.20125 111.296726 \nL 73.45625 115.120243 \nL 76.71125 115.732067 \nL 79.96625 119.221022 \nL 83.22125 118.786054 \nL 86.47625 122.125753 \nL 89.73125 122.17155 \nL 92.98625 125.921311 \nL 96.24125 124.548402 \nL 99.49625 128.26156 \nL 102.75125 127.009557 \nL 106.00625 130.187393 \nL 109.26125 129.740948 \nL 112.51625 131.231786 \nL 115.77125 131.857853 \nL 119.02625 133.197141 \nL 122.28125 133.2956 \nL 125.53625 134.234936 \nL 128.79125 134.501475 \nL 132.04625 134.874876 \nL 135.30125 135.608914 \nL 138.55625 136.597466 \nL 141.81125 135.597845 \nL 145.06625 137.239234 \nL 148.32125 136.446845 \nL 151.57625 137.613972 \nL 154.83125 137.4075 \nL 158.08625 138.019382 \nL 161.34125 137.670738 \nL 164.59625 138.764658 \n\" clip-path=\"url(#pd46c8240c2)\" style=\"fill: none; stroke: #1f77b4; stroke-width: 1.5; stroke-linecap: square\"/>\n   </g>\n   <g id=\"line2d_144\">\n    <path d=\"M 27.0725 48.830043 \nL 33.5825 63.516245 \nL 40.0925 64.547744 \nL 46.6025 69.457463 \nL 53.1125 69.900342 \nL 59.6225 74.900329 \nL 66.1325 70.895513 \nL 72.6425 73.53371 \nL 79.1525 73.585412 \nL 85.6625 71.807248 \nL 92.1725 69.344599 \nL 98.6825 71.691943 \nL 105.1925 71.251617 \nL 111.7025 67.861416 \nL 118.2125 68.572038 \nL 124.7225 69.124641 \nL 131.2325 66.739798 \nL 137.7425 67.369471 \nL 144.2525 65.079744 \nL 150.7625 67.258527 \nL 157.2725 67.715378 \nL 163.7825 61.196912 \n\" clip-path=\"url(#pd46c8240c2)\" style=\"fill: none; stroke-dasharray: 5.55,2.4; stroke-dashoffset: 0; stroke: #ff7f0e; stroke-width: 1.5\"/>\n   </g>\n   <g id=\"line2d_145\">\n    <path d=\"M 21.37625 13.5 \nL 24.63125 53.841205 \nL 27.88625 63.106311 \nL 31.14125 65.264793 \nL 34.39625 77.287088 \nL 37.65125 76.889321 \nL 40.90625 86.007587 \nL 44.16125 86.258659 \nL 47.41625 94.466449 \nL 50.67125 92.02757 \nL 53.92625 98.757076 \nL 57.18125 101.139164 \nL 60.43625 105.433822 \nL 63.69125 106.52091 \nL 66.94625 110.787494 \nL 70.20125 111.296726 \nL 73.45625 115.120243 \nL 76.71125 115.732067 \nL 79.96625 119.221022 \nL 83.22125 118.786054 \nL 86.47625 122.125753 \nL 89.73125 122.17155 \nL 92.98625 125.921311 \nL 96.24125 124.548402 \nL 99.49625 128.26156 \nL 102.75125 127.009557 \nL 106.00625 130.187393 \nL 109.26125 129.740948 \nL 112.51625 131.231786 \nL 115.77125 131.857853 \nL 119.02625 133.197141 \nL 122.28125 133.2956 \nL 125.53625 134.234936 \nL 128.79125 134.501475 \nL 132.04625 134.874876 \nL 135.30125 135.608914 \nL 138.55625 136.597466 \nL 141.81125 135.597845 \nL 145.06625 137.239234 \nL 148.32125 136.446845 \nL 151.57625 137.613972 \nL 154.83125 137.4075 \nL 158.08625 138.019382 \nL 161.34125 137.670738 \nL 164.59625 138.764658 \nL 167.85125 137.544336 \n\" clip-path=\"url(#pd46c8240c2)\" style=\"fill: none; stroke: #1f77b4; stroke-width: 1.5; stroke-linecap: square\"/>\n   </g>\n   <g id=\"line2d_146\">\n    <path d=\"M 27.0725 48.830043 \nL 33.5825 63.516245 \nL 40.0925 64.547744 \nL 46.6025 69.457463 \nL 53.1125 69.900342 \nL 59.6225 74.900329 \nL 66.1325 70.895513 \nL 72.6425 73.53371 \nL 79.1525 73.585412 \nL 85.6625 71.807248 \nL 92.1725 69.344599 \nL 98.6825 71.691943 \nL 105.1925 71.251617 \nL 111.7025 67.861416 \nL 118.2125 68.572038 \nL 124.7225 69.124641 \nL 131.2325 66.739798 \nL 137.7425 67.369471 \nL 144.2525 65.079744 \nL 150.7625 67.258527 \nL 157.2725 67.715378 \nL 163.7825 61.196912 \n\" clip-path=\"url(#pd46c8240c2)\" style=\"fill: none; stroke-dasharray: 5.55,2.4; stroke-dashoffset: 0; stroke: #ff7f0e; stroke-width: 1.5\"/>\n   </g>\n   <g id=\"line2d_147\">\n    <path d=\"M 21.37625 13.5 \nL 24.63125 53.841205 \nL 27.88625 63.106311 \nL 31.14125 65.264793 \nL 34.39625 77.287088 \nL 37.65125 76.889321 \nL 40.90625 86.007587 \nL 44.16125 86.258659 \nL 47.41625 94.466449 \nL 50.67125 92.02757 \nL 53.92625 98.757076 \nL 57.18125 101.139164 \nL 60.43625 105.433822 \nL 63.69125 106.52091 \nL 66.94625 110.787494 \nL 70.20125 111.296726 \nL 73.45625 115.120243 \nL 76.71125 115.732067 \nL 79.96625 119.221022 \nL 83.22125 118.786054 \nL 86.47625 122.125753 \nL 89.73125 122.17155 \nL 92.98625 125.921311 \nL 96.24125 124.548402 \nL 99.49625 128.26156 \nL 102.75125 127.009557 \nL 106.00625 130.187393 \nL 109.26125 129.740948 \nL 112.51625 131.231786 \nL 115.77125 131.857853 \nL 119.02625 133.197141 \nL 122.28125 133.2956 \nL 125.53625 134.234936 \nL 128.79125 134.501475 \nL 132.04625 134.874876 \nL 135.30125 135.608914 \nL 138.55625 136.597466 \nL 141.81125 135.597845 \nL 145.06625 137.239234 \nL 148.32125 136.446845 \nL 151.57625 137.613972 \nL 154.83125 137.4075 \nL 158.08625 138.019382 \nL 161.34125 137.670738 \nL 164.59625 138.764658 \nL 167.85125 137.544336 \n\" clip-path=\"url(#pd46c8240c2)\" style=\"fill: none; stroke: #1f77b4; stroke-width: 1.5; stroke-linecap: square\"/>\n   </g>\n   <g id=\"line2d_148\">\n    <path d=\"M 27.0725 48.830043 \nL 33.5825 63.516245 \nL 40.0925 64.547744 \nL 46.6025 69.457463 \nL 53.1125 69.900342 \nL 59.6225 74.900329 \nL 66.1325 70.895513 \nL 72.6425 73.53371 \nL 79.1525 73.585412 \nL 85.6625 71.807248 \nL 92.1725 69.344599 \nL 98.6825 71.691943 \nL 105.1925 71.251617 \nL 111.7025 67.861416 \nL 118.2125 68.572038 \nL 124.7225 69.124641 \nL 131.2325 66.739798 \nL 137.7425 67.369471 \nL 144.2525 65.079744 \nL 150.7625 67.258527 \nL 157.2725 67.715378 \nL 163.7825 61.196912 \nL 170.2925 64.645327 \n\" clip-path=\"url(#pd46c8240c2)\" style=\"fill: none; stroke-dasharray: 5.55,2.4; stroke-dashoffset: 0; stroke: #ff7f0e; stroke-width: 1.5\"/>\n   </g>\n   <g id=\"line2d_149\">\n    <path d=\"M 21.37625 13.5 \nL 24.63125 53.841205 \nL 27.88625 63.106311 \nL 31.14125 65.264793 \nL 34.39625 77.287088 \nL 37.65125 76.889321 \nL 40.90625 86.007587 \nL 44.16125 86.258659 \nL 47.41625 94.466449 \nL 50.67125 92.02757 \nL 53.92625 98.757076 \nL 57.18125 101.139164 \nL 60.43625 105.433822 \nL 63.69125 106.52091 \nL 66.94625 110.787494 \nL 70.20125 111.296726 \nL 73.45625 115.120243 \nL 76.71125 115.732067 \nL 79.96625 119.221022 \nL 83.22125 118.786054 \nL 86.47625 122.125753 \nL 89.73125 122.17155 \nL 92.98625 125.921311 \nL 96.24125 124.548402 \nL 99.49625 128.26156 \nL 102.75125 127.009557 \nL 106.00625 130.187393 \nL 109.26125 129.740948 \nL 112.51625 131.231786 \nL 115.77125 131.857853 \nL 119.02625 133.197141 \nL 122.28125 133.2956 \nL 125.53625 134.234936 \nL 128.79125 134.501475 \nL 132.04625 134.874876 \nL 135.30125 135.608914 \nL 138.55625 136.597466 \nL 141.81125 135.597845 \nL 145.06625 137.239234 \nL 148.32125 136.446845 \nL 151.57625 137.613972 \nL 154.83125 137.4075 \nL 158.08625 138.019382 \nL 161.34125 137.670738 \nL 164.59625 138.764658 \nL 167.85125 137.544336 \nL 171.10625 138.488754 \n\" clip-path=\"url(#pd46c8240c2)\" style=\"fill: none; stroke: #1f77b4; stroke-width: 1.5; stroke-linecap: square\"/>\n   </g>\n   <g id=\"line2d_150\">\n    <path d=\"M 27.0725 48.830043 \nL 33.5825 63.516245 \nL 40.0925 64.547744 \nL 46.6025 69.457463 \nL 53.1125 69.900342 \nL 59.6225 74.900329 \nL 66.1325 70.895513 \nL 72.6425 73.53371 \nL 79.1525 73.585412 \nL 85.6625 71.807248 \nL 92.1725 69.344599 \nL 98.6825 71.691943 \nL 105.1925 71.251617 \nL 111.7025 67.861416 \nL 118.2125 68.572038 \nL 124.7225 69.124641 \nL 131.2325 66.739798 \nL 137.7425 67.369471 \nL 144.2525 65.079744 \nL 150.7625 67.258527 \nL 157.2725 67.715378 \nL 163.7825 61.196912 \nL 170.2925 64.645327 \n\" clip-path=\"url(#pd46c8240c2)\" style=\"fill: none; stroke-dasharray: 5.55,2.4; stroke-dashoffset: 0; stroke: #ff7f0e; stroke-width: 1.5\"/>\n   </g>\n   <g id=\"line2d_151\">\n    <path d=\"M 21.37625 13.5 \nL 24.63125 53.841205 \nL 27.88625 63.106311 \nL 31.14125 65.264793 \nL 34.39625 77.287088 \nL 37.65125 76.889321 \nL 40.90625 86.007587 \nL 44.16125 86.258659 \nL 47.41625 94.466449 \nL 50.67125 92.02757 \nL 53.92625 98.757076 \nL 57.18125 101.139164 \nL 60.43625 105.433822 \nL 63.69125 106.52091 \nL 66.94625 110.787494 \nL 70.20125 111.296726 \nL 73.45625 115.120243 \nL 76.71125 115.732067 \nL 79.96625 119.221022 \nL 83.22125 118.786054 \nL 86.47625 122.125753 \nL 89.73125 122.17155 \nL 92.98625 125.921311 \nL 96.24125 124.548402 \nL 99.49625 128.26156 \nL 102.75125 127.009557 \nL 106.00625 130.187393 \nL 109.26125 129.740948 \nL 112.51625 131.231786 \nL 115.77125 131.857853 \nL 119.02625 133.197141 \nL 122.28125 133.2956 \nL 125.53625 134.234936 \nL 128.79125 134.501475 \nL 132.04625 134.874876 \nL 135.30125 135.608914 \nL 138.55625 136.597466 \nL 141.81125 135.597845 \nL 145.06625 137.239234 \nL 148.32125 136.446845 \nL 151.57625 137.613972 \nL 154.83125 137.4075 \nL 158.08625 138.019382 \nL 161.34125 137.670738 \nL 164.59625 138.764658 \nL 167.85125 137.544336 \nL 171.10625 138.488754 \nL 174.36125 137.952297 \n\" clip-path=\"url(#pd46c8240c2)\" style=\"fill: none; stroke: #1f77b4; stroke-width: 1.5; stroke-linecap: square\"/>\n   </g>\n   <g id=\"line2d_152\">\n    <path d=\"M 27.0725 48.830043 \nL 33.5825 63.516245 \nL 40.0925 64.547744 \nL 46.6025 69.457463 \nL 53.1125 69.900342 \nL 59.6225 74.900329 \nL 66.1325 70.895513 \nL 72.6425 73.53371 \nL 79.1525 73.585412 \nL 85.6625 71.807248 \nL 92.1725 69.344599 \nL 98.6825 71.691943 \nL 105.1925 71.251617 \nL 111.7025 67.861416 \nL 118.2125 68.572038 \nL 124.7225 69.124641 \nL 131.2325 66.739798 \nL 137.7425 67.369471 \nL 144.2525 65.079744 \nL 150.7625 67.258527 \nL 157.2725 67.715378 \nL 163.7825 61.196912 \nL 170.2925 64.645327 \n\" clip-path=\"url(#pd46c8240c2)\" style=\"fill: none; stroke-dasharray: 5.55,2.4; stroke-dashoffset: 0; stroke: #ff7f0e; stroke-width: 1.5\"/>\n   </g>\n   <g id=\"line2d_153\">\n    <path d=\"M 21.37625 13.5 \nL 24.63125 53.841205 \nL 27.88625 63.106311 \nL 31.14125 65.264793 \nL 34.39625 77.287088 \nL 37.65125 76.889321 \nL 40.90625 86.007587 \nL 44.16125 86.258659 \nL 47.41625 94.466449 \nL 50.67125 92.02757 \nL 53.92625 98.757076 \nL 57.18125 101.139164 \nL 60.43625 105.433822 \nL 63.69125 106.52091 \nL 66.94625 110.787494 \nL 70.20125 111.296726 \nL 73.45625 115.120243 \nL 76.71125 115.732067 \nL 79.96625 119.221022 \nL 83.22125 118.786054 \nL 86.47625 122.125753 \nL 89.73125 122.17155 \nL 92.98625 125.921311 \nL 96.24125 124.548402 \nL 99.49625 128.26156 \nL 102.75125 127.009557 \nL 106.00625 130.187393 \nL 109.26125 129.740948 \nL 112.51625 131.231786 \nL 115.77125 131.857853 \nL 119.02625 133.197141 \nL 122.28125 133.2956 \nL 125.53625 134.234936 \nL 128.79125 134.501475 \nL 132.04625 134.874876 \nL 135.30125 135.608914 \nL 138.55625 136.597466 \nL 141.81125 135.597845 \nL 145.06625 137.239234 \nL 148.32125 136.446845 \nL 151.57625 137.613972 \nL 154.83125 137.4075 \nL 158.08625 138.019382 \nL 161.34125 137.670738 \nL 164.59625 138.764658 \nL 167.85125 137.544336 \nL 171.10625 138.488754 \nL 174.36125 137.952297 \n\" clip-path=\"url(#pd46c8240c2)\" style=\"fill: none; stroke: #1f77b4; stroke-width: 1.5; stroke-linecap: square\"/>\n   </g>\n   <g id=\"line2d_154\">\n    <path d=\"M 27.0725 48.830043 \nL 33.5825 63.516245 \nL 40.0925 64.547744 \nL 46.6025 69.457463 \nL 53.1125 69.900342 \nL 59.6225 74.900329 \nL 66.1325 70.895513 \nL 72.6425 73.53371 \nL 79.1525 73.585412 \nL 85.6625 71.807248 \nL 92.1725 69.344599 \nL 98.6825 71.691943 \nL 105.1925 71.251617 \nL 111.7025 67.861416 \nL 118.2125 68.572038 \nL 124.7225 69.124641 \nL 131.2325 66.739798 \nL 137.7425 67.369471 \nL 144.2525 65.079744 \nL 150.7625 67.258527 \nL 157.2725 67.715378 \nL 163.7825 61.196912 \nL 170.2925 64.645327 \nL 176.8025 61.924877 \n\" clip-path=\"url(#pd46c8240c2)\" style=\"fill: none; stroke-dasharray: 5.55,2.4; stroke-dashoffset: 0; stroke: #ff7f0e; stroke-width: 1.5\"/>\n   </g>\n   <g id=\"line2d_155\">\n    <path d=\"M 21.37625 13.5 \nL 24.63125 53.841205 \nL 27.88625 63.106311 \nL 31.14125 65.264793 \nL 34.39625 77.287088 \nL 37.65125 76.889321 \nL 40.90625 86.007587 \nL 44.16125 86.258659 \nL 47.41625 94.466449 \nL 50.67125 92.02757 \nL 53.92625 98.757076 \nL 57.18125 101.139164 \nL 60.43625 105.433822 \nL 63.69125 106.52091 \nL 66.94625 110.787494 \nL 70.20125 111.296726 \nL 73.45625 115.120243 \nL 76.71125 115.732067 \nL 79.96625 119.221022 \nL 83.22125 118.786054 \nL 86.47625 122.125753 \nL 89.73125 122.17155 \nL 92.98625 125.921311 \nL 96.24125 124.548402 \nL 99.49625 128.26156 \nL 102.75125 127.009557 \nL 106.00625 130.187393 \nL 109.26125 129.740948 \nL 112.51625 131.231786 \nL 115.77125 131.857853 \nL 119.02625 133.197141 \nL 122.28125 133.2956 \nL 125.53625 134.234936 \nL 128.79125 134.501475 \nL 132.04625 134.874876 \nL 135.30125 135.608914 \nL 138.55625 136.597466 \nL 141.81125 135.597845 \nL 145.06625 137.239234 \nL 148.32125 136.446845 \nL 151.57625 137.613972 \nL 154.83125 137.4075 \nL 158.08625 138.019382 \nL 161.34125 137.670738 \nL 164.59625 138.764658 \nL 167.85125 137.544336 \nL 171.10625 138.488754 \nL 174.36125 137.952297 \nL 177.61625 139.150174 \n\" clip-path=\"url(#pd46c8240c2)\" style=\"fill: none; stroke: #1f77b4; stroke-width: 1.5; stroke-linecap: square\"/>\n   </g>\n   <g id=\"line2d_156\">\n    <path d=\"M 27.0725 48.830043 \nL 33.5825 63.516245 \nL 40.0925 64.547744 \nL 46.6025 69.457463 \nL 53.1125 69.900342 \nL 59.6225 74.900329 \nL 66.1325 70.895513 \nL 72.6425 73.53371 \nL 79.1525 73.585412 \nL 85.6625 71.807248 \nL 92.1725 69.344599 \nL 98.6825 71.691943 \nL 105.1925 71.251617 \nL 111.7025 67.861416 \nL 118.2125 68.572038 \nL 124.7225 69.124641 \nL 131.2325 66.739798 \nL 137.7425 67.369471 \nL 144.2525 65.079744 \nL 150.7625 67.258527 \nL 157.2725 67.715378 \nL 163.7825 61.196912 \nL 170.2925 64.645327 \nL 176.8025 61.924877 \n\" clip-path=\"url(#pd46c8240c2)\" style=\"fill: none; stroke-dasharray: 5.55,2.4; stroke-dashoffset: 0; stroke: #ff7f0e; stroke-width: 1.5\"/>\n   </g>\n   <g id=\"line2d_157\">\n    <path d=\"M 21.37625 13.5 \nL 24.63125 53.841205 \nL 27.88625 63.106311 \nL 31.14125 65.264793 \nL 34.39625 77.287088 \nL 37.65125 76.889321 \nL 40.90625 86.007587 \nL 44.16125 86.258659 \nL 47.41625 94.466449 \nL 50.67125 92.02757 \nL 53.92625 98.757076 \nL 57.18125 101.139164 \nL 60.43625 105.433822 \nL 63.69125 106.52091 \nL 66.94625 110.787494 \nL 70.20125 111.296726 \nL 73.45625 115.120243 \nL 76.71125 115.732067 \nL 79.96625 119.221022 \nL 83.22125 118.786054 \nL 86.47625 122.125753 \nL 89.73125 122.17155 \nL 92.98625 125.921311 \nL 96.24125 124.548402 \nL 99.49625 128.26156 \nL 102.75125 127.009557 \nL 106.00625 130.187393 \nL 109.26125 129.740948 \nL 112.51625 131.231786 \nL 115.77125 131.857853 \nL 119.02625 133.197141 \nL 122.28125 133.2956 \nL 125.53625 134.234936 \nL 128.79125 134.501475 \nL 132.04625 134.874876 \nL 135.30125 135.608914 \nL 138.55625 136.597466 \nL 141.81125 135.597845 \nL 145.06625 137.239234 \nL 148.32125 136.446845 \nL 151.57625 137.613972 \nL 154.83125 137.4075 \nL 158.08625 138.019382 \nL 161.34125 137.670738 \nL 164.59625 138.764658 \nL 167.85125 137.544336 \nL 171.10625 138.488754 \nL 174.36125 137.952297 \nL 177.61625 139.150174 \nL 180.87125 138.005539 \n\" clip-path=\"url(#pd46c8240c2)\" style=\"fill: none; stroke: #1f77b4; stroke-width: 1.5; stroke-linecap: square\"/>\n   </g>\n   <g id=\"line2d_158\">\n    <path d=\"M 27.0725 48.830043 \nL 33.5825 63.516245 \nL 40.0925 64.547744 \nL 46.6025 69.457463 \nL 53.1125 69.900342 \nL 59.6225 74.900329 \nL 66.1325 70.895513 \nL 72.6425 73.53371 \nL 79.1525 73.585412 \nL 85.6625 71.807248 \nL 92.1725 69.344599 \nL 98.6825 71.691943 \nL 105.1925 71.251617 \nL 111.7025 67.861416 \nL 118.2125 68.572038 \nL 124.7225 69.124641 \nL 131.2325 66.739798 \nL 137.7425 67.369471 \nL 144.2525 65.079744 \nL 150.7625 67.258527 \nL 157.2725 67.715378 \nL 163.7825 61.196912 \nL 170.2925 64.645327 \nL 176.8025 61.924877 \n\" clip-path=\"url(#pd46c8240c2)\" style=\"fill: none; stroke-dasharray: 5.55,2.4; stroke-dashoffset: 0; stroke: #ff7f0e; stroke-width: 1.5\"/>\n   </g>\n   <g id=\"line2d_159\">\n    <path d=\"M 21.37625 13.5 \nL 24.63125 53.841205 \nL 27.88625 63.106311 \nL 31.14125 65.264793 \nL 34.39625 77.287088 \nL 37.65125 76.889321 \nL 40.90625 86.007587 \nL 44.16125 86.258659 \nL 47.41625 94.466449 \nL 50.67125 92.02757 \nL 53.92625 98.757076 \nL 57.18125 101.139164 \nL 60.43625 105.433822 \nL 63.69125 106.52091 \nL 66.94625 110.787494 \nL 70.20125 111.296726 \nL 73.45625 115.120243 \nL 76.71125 115.732067 \nL 79.96625 119.221022 \nL 83.22125 118.786054 \nL 86.47625 122.125753 \nL 89.73125 122.17155 \nL 92.98625 125.921311 \nL 96.24125 124.548402 \nL 99.49625 128.26156 \nL 102.75125 127.009557 \nL 106.00625 130.187393 \nL 109.26125 129.740948 \nL 112.51625 131.231786 \nL 115.77125 131.857853 \nL 119.02625 133.197141 \nL 122.28125 133.2956 \nL 125.53625 134.234936 \nL 128.79125 134.501475 \nL 132.04625 134.874876 \nL 135.30125 135.608914 \nL 138.55625 136.597466 \nL 141.81125 135.597845 \nL 145.06625 137.239234 \nL 148.32125 136.446845 \nL 151.57625 137.613972 \nL 154.83125 137.4075 \nL 158.08625 138.019382 \nL 161.34125 137.670738 \nL 164.59625 138.764658 \nL 167.85125 137.544336 \nL 171.10625 138.488754 \nL 174.36125 137.952297 \nL 177.61625 139.150174 \nL 180.87125 138.005539 \n\" clip-path=\"url(#pd46c8240c2)\" style=\"fill: none; stroke: #1f77b4; stroke-width: 1.5; stroke-linecap: square\"/>\n   </g>\n   <g id=\"line2d_160\">\n    <path d=\"M 27.0725 48.830043 \nL 33.5825 63.516245 \nL 40.0925 64.547744 \nL 46.6025 69.457463 \nL 53.1125 69.900342 \nL 59.6225 74.900329 \nL 66.1325 70.895513 \nL 72.6425 73.53371 \nL 79.1525 73.585412 \nL 85.6625 71.807248 \nL 92.1725 69.344599 \nL 98.6825 71.691943 \nL 105.1925 71.251617 \nL 111.7025 67.861416 \nL 118.2125 68.572038 \nL 124.7225 69.124641 \nL 131.2325 66.739798 \nL 137.7425 67.369471 \nL 144.2525 65.079744 \nL 150.7625 67.258527 \nL 157.2725 67.715378 \nL 163.7825 61.196912 \nL 170.2925 64.645327 \nL 176.8025 61.924877 \nL 183.3125 53.463835 \n\" clip-path=\"url(#pd46c8240c2)\" style=\"fill: none; stroke-dasharray: 5.55,2.4; stroke-dashoffset: 0; stroke: #ff7f0e; stroke-width: 1.5\"/>\n   </g>\n   <g id=\"line2d_161\">\n    <path d=\"M 21.37625 13.5 \nL 24.63125 53.841205 \nL 27.88625 63.106311 \nL 31.14125 65.264793 \nL 34.39625 77.287088 \nL 37.65125 76.889321 \nL 40.90625 86.007587 \nL 44.16125 86.258659 \nL 47.41625 94.466449 \nL 50.67125 92.02757 \nL 53.92625 98.757076 \nL 57.18125 101.139164 \nL 60.43625 105.433822 \nL 63.69125 106.52091 \nL 66.94625 110.787494 \nL 70.20125 111.296726 \nL 73.45625 115.120243 \nL 76.71125 115.732067 \nL 79.96625 119.221022 \nL 83.22125 118.786054 \nL 86.47625 122.125753 \nL 89.73125 122.17155 \nL 92.98625 125.921311 \nL 96.24125 124.548402 \nL 99.49625 128.26156 \nL 102.75125 127.009557 \nL 106.00625 130.187393 \nL 109.26125 129.740948 \nL 112.51625 131.231786 \nL 115.77125 131.857853 \nL 119.02625 133.197141 \nL 122.28125 133.2956 \nL 125.53625 134.234936 \nL 128.79125 134.501475 \nL 132.04625 134.874876 \nL 135.30125 135.608914 \nL 138.55625 136.597466 \nL 141.81125 135.597845 \nL 145.06625 137.239234 \nL 148.32125 136.446845 \nL 151.57625 137.613972 \nL 154.83125 137.4075 \nL 158.08625 138.019382 \nL 161.34125 137.670738 \nL 164.59625 138.764658 \nL 167.85125 137.544336 \nL 171.10625 138.488754 \nL 174.36125 137.952297 \nL 177.61625 139.150174 \nL 180.87125 138.005539 \nL 184.12625 139.039499 \n\" clip-path=\"url(#pd46c8240c2)\" style=\"fill: none; stroke: #1f77b4; stroke-width: 1.5; stroke-linecap: square\"/>\n   </g>\n   <g id=\"line2d_162\">\n    <path d=\"M 27.0725 48.830043 \nL 33.5825 63.516245 \nL 40.0925 64.547744 \nL 46.6025 69.457463 \nL 53.1125 69.900342 \nL 59.6225 74.900329 \nL 66.1325 70.895513 \nL 72.6425 73.53371 \nL 79.1525 73.585412 \nL 85.6625 71.807248 \nL 92.1725 69.344599 \nL 98.6825 71.691943 \nL 105.1925 71.251617 \nL 111.7025 67.861416 \nL 118.2125 68.572038 \nL 124.7225 69.124641 \nL 131.2325 66.739798 \nL 137.7425 67.369471 \nL 144.2525 65.079744 \nL 150.7625 67.258527 \nL 157.2725 67.715378 \nL 163.7825 61.196912 \nL 170.2925 64.645327 \nL 176.8025 61.924877 \nL 183.3125 53.463835 \n\" clip-path=\"url(#pd46c8240c2)\" style=\"fill: none; stroke-dasharray: 5.55,2.4; stroke-dashoffset: 0; stroke: #ff7f0e; stroke-width: 1.5\"/>\n   </g>\n   <g id=\"line2d_163\">\n    <path d=\"M 21.37625 13.5 \nL 24.63125 53.841205 \nL 27.88625 63.106311 \nL 31.14125 65.264793 \nL 34.39625 77.287088 \nL 37.65125 76.889321 \nL 40.90625 86.007587 \nL 44.16125 86.258659 \nL 47.41625 94.466449 \nL 50.67125 92.02757 \nL 53.92625 98.757076 \nL 57.18125 101.139164 \nL 60.43625 105.433822 \nL 63.69125 106.52091 \nL 66.94625 110.787494 \nL 70.20125 111.296726 \nL 73.45625 115.120243 \nL 76.71125 115.732067 \nL 79.96625 119.221022 \nL 83.22125 118.786054 \nL 86.47625 122.125753 \nL 89.73125 122.17155 \nL 92.98625 125.921311 \nL 96.24125 124.548402 \nL 99.49625 128.26156 \nL 102.75125 127.009557 \nL 106.00625 130.187393 \nL 109.26125 129.740948 \nL 112.51625 131.231786 \nL 115.77125 131.857853 \nL 119.02625 133.197141 \nL 122.28125 133.2956 \nL 125.53625 134.234936 \nL 128.79125 134.501475 \nL 132.04625 134.874876 \nL 135.30125 135.608914 \nL 138.55625 136.597466 \nL 141.81125 135.597845 \nL 145.06625 137.239234 \nL 148.32125 136.446845 \nL 151.57625 137.613972 \nL 154.83125 137.4075 \nL 158.08625 138.019382 \nL 161.34125 137.670738 \nL 164.59625 138.764658 \nL 167.85125 137.544336 \nL 171.10625 138.488754 \nL 174.36125 137.952297 \nL 177.61625 139.150174 \nL 180.87125 138.005539 \nL 184.12625 139.039499 \nL 187.38125 138.596466 \n\" clip-path=\"url(#pd46c8240c2)\" style=\"fill: none; stroke: #1f77b4; stroke-width: 1.5; stroke-linecap: square\"/>\n   </g>\n   <g id=\"line2d_164\">\n    <path d=\"M 27.0725 48.830043 \nL 33.5825 63.516245 \nL 40.0925 64.547744 \nL 46.6025 69.457463 \nL 53.1125 69.900342 \nL 59.6225 74.900329 \nL 66.1325 70.895513 \nL 72.6425 73.53371 \nL 79.1525 73.585412 \nL 85.6625 71.807248 \nL 92.1725 69.344599 \nL 98.6825 71.691943 \nL 105.1925 71.251617 \nL 111.7025 67.861416 \nL 118.2125 68.572038 \nL 124.7225 69.124641 \nL 131.2325 66.739798 \nL 137.7425 67.369471 \nL 144.2525 65.079744 \nL 150.7625 67.258527 \nL 157.2725 67.715378 \nL 163.7825 61.196912 \nL 170.2925 64.645327 \nL 176.8025 61.924877 \nL 183.3125 53.463835 \n\" clip-path=\"url(#pd46c8240c2)\" style=\"fill: none; stroke-dasharray: 5.55,2.4; stroke-dashoffset: 0; stroke: #ff7f0e; stroke-width: 1.5\"/>\n   </g>\n   <g id=\"line2d_165\">\n    <path d=\"M 21.37625 13.5 \nL 24.63125 53.841205 \nL 27.88625 63.106311 \nL 31.14125 65.264793 \nL 34.39625 77.287088 \nL 37.65125 76.889321 \nL 40.90625 86.007587 \nL 44.16125 86.258659 \nL 47.41625 94.466449 \nL 50.67125 92.02757 \nL 53.92625 98.757076 \nL 57.18125 101.139164 \nL 60.43625 105.433822 \nL 63.69125 106.52091 \nL 66.94625 110.787494 \nL 70.20125 111.296726 \nL 73.45625 115.120243 \nL 76.71125 115.732067 \nL 79.96625 119.221022 \nL 83.22125 118.786054 \nL 86.47625 122.125753 \nL 89.73125 122.17155 \nL 92.98625 125.921311 \nL 96.24125 124.548402 \nL 99.49625 128.26156 \nL 102.75125 127.009557 \nL 106.00625 130.187393 \nL 109.26125 129.740948 \nL 112.51625 131.231786 \nL 115.77125 131.857853 \nL 119.02625 133.197141 \nL 122.28125 133.2956 \nL 125.53625 134.234936 \nL 128.79125 134.501475 \nL 132.04625 134.874876 \nL 135.30125 135.608914 \nL 138.55625 136.597466 \nL 141.81125 135.597845 \nL 145.06625 137.239234 \nL 148.32125 136.446845 \nL 151.57625 137.613972 \nL 154.83125 137.4075 \nL 158.08625 138.019382 \nL 161.34125 137.670738 \nL 164.59625 138.764658 \nL 167.85125 137.544336 \nL 171.10625 138.488754 \nL 174.36125 137.952297 \nL 177.61625 139.150174 \nL 180.87125 138.005539 \nL 184.12625 139.039499 \nL 187.38125 138.596466 \n\" clip-path=\"url(#pd46c8240c2)\" style=\"fill: none; stroke: #1f77b4; stroke-width: 1.5; stroke-linecap: square\"/>\n   </g>\n   <g id=\"line2d_166\">\n    <path d=\"M 27.0725 48.830043 \nL 33.5825 63.516245 \nL 40.0925 64.547744 \nL 46.6025 69.457463 \nL 53.1125 69.900342 \nL 59.6225 74.900329 \nL 66.1325 70.895513 \nL 72.6425 73.53371 \nL 79.1525 73.585412 \nL 85.6625 71.807248 \nL 92.1725 69.344599 \nL 98.6825 71.691943 \nL 105.1925 71.251617 \nL 111.7025 67.861416 \nL 118.2125 68.572038 \nL 124.7225 69.124641 \nL 131.2325 66.739798 \nL 137.7425 67.369471 \nL 144.2525 65.079744 \nL 150.7625 67.258527 \nL 157.2725 67.715378 \nL 163.7825 61.196912 \nL 170.2925 64.645327 \nL 176.8025 61.924877 \nL 183.3125 53.463835 \nL 189.8225 59.463857 \n\" clip-path=\"url(#pd46c8240c2)\" style=\"fill: none; stroke-dasharray: 5.55,2.4; stroke-dashoffset: 0; stroke: #ff7f0e; stroke-width: 1.5\"/>\n   </g>\n   <g id=\"line2d_167\">\n    <path d=\"M 21.37625 13.5 \nL 24.63125 53.841205 \nL 27.88625 63.106311 \nL 31.14125 65.264793 \nL 34.39625 77.287088 \nL 37.65125 76.889321 \nL 40.90625 86.007587 \nL 44.16125 86.258659 \nL 47.41625 94.466449 \nL 50.67125 92.02757 \nL 53.92625 98.757076 \nL 57.18125 101.139164 \nL 60.43625 105.433822 \nL 63.69125 106.52091 \nL 66.94625 110.787494 \nL 70.20125 111.296726 \nL 73.45625 115.120243 \nL 76.71125 115.732067 \nL 79.96625 119.221022 \nL 83.22125 118.786054 \nL 86.47625 122.125753 \nL 89.73125 122.17155 \nL 92.98625 125.921311 \nL 96.24125 124.548402 \nL 99.49625 128.26156 \nL 102.75125 127.009557 \nL 106.00625 130.187393 \nL 109.26125 129.740948 \nL 112.51625 131.231786 \nL 115.77125 131.857853 \nL 119.02625 133.197141 \nL 122.28125 133.2956 \nL 125.53625 134.234936 \nL 128.79125 134.501475 \nL 132.04625 134.874876 \nL 135.30125 135.608914 \nL 138.55625 136.597466 \nL 141.81125 135.597845 \nL 145.06625 137.239234 \nL 148.32125 136.446845 \nL 151.57625 137.613972 \nL 154.83125 137.4075 \nL 158.08625 138.019382 \nL 161.34125 137.670738 \nL 164.59625 138.764658 \nL 167.85125 137.544336 \nL 171.10625 138.488754 \nL 174.36125 137.952297 \nL 177.61625 139.150174 \nL 180.87125 138.005539 \nL 184.12625 139.039499 \nL 187.38125 138.596466 \nL 190.63625 139.266393 \n\" clip-path=\"url(#pd46c8240c2)\" style=\"fill: none; stroke: #1f77b4; stroke-width: 1.5; stroke-linecap: square\"/>\n   </g>\n   <g id=\"line2d_168\">\n    <path d=\"M 27.0725 48.830043 \nL 33.5825 63.516245 \nL 40.0925 64.547744 \nL 46.6025 69.457463 \nL 53.1125 69.900342 \nL 59.6225 74.900329 \nL 66.1325 70.895513 \nL 72.6425 73.53371 \nL 79.1525 73.585412 \nL 85.6625 71.807248 \nL 92.1725 69.344599 \nL 98.6825 71.691943 \nL 105.1925 71.251617 \nL 111.7025 67.861416 \nL 118.2125 68.572038 \nL 124.7225 69.124641 \nL 131.2325 66.739798 \nL 137.7425 67.369471 \nL 144.2525 65.079744 \nL 150.7625 67.258527 \nL 157.2725 67.715378 \nL 163.7825 61.196912 \nL 170.2925 64.645327 \nL 176.8025 61.924877 \nL 183.3125 53.463835 \nL 189.8225 59.463857 \n\" clip-path=\"url(#pd46c8240c2)\" style=\"fill: none; stroke-dasharray: 5.55,2.4; stroke-dashoffset: 0; stroke: #ff7f0e; stroke-width: 1.5\"/>\n   </g>\n   <g id=\"line2d_169\">\n    <path d=\"M 21.37625 13.5 \nL 24.63125 53.841205 \nL 27.88625 63.106311 \nL 31.14125 65.264793 \nL 34.39625 77.287088 \nL 37.65125 76.889321 \nL 40.90625 86.007587 \nL 44.16125 86.258659 \nL 47.41625 94.466449 \nL 50.67125 92.02757 \nL 53.92625 98.757076 \nL 57.18125 101.139164 \nL 60.43625 105.433822 \nL 63.69125 106.52091 \nL 66.94625 110.787494 \nL 70.20125 111.296726 \nL 73.45625 115.120243 \nL 76.71125 115.732067 \nL 79.96625 119.221022 \nL 83.22125 118.786054 \nL 86.47625 122.125753 \nL 89.73125 122.17155 \nL 92.98625 125.921311 \nL 96.24125 124.548402 \nL 99.49625 128.26156 \nL 102.75125 127.009557 \nL 106.00625 130.187393 \nL 109.26125 129.740948 \nL 112.51625 131.231786 \nL 115.77125 131.857853 \nL 119.02625 133.197141 \nL 122.28125 133.2956 \nL 125.53625 134.234936 \nL 128.79125 134.501475 \nL 132.04625 134.874876 \nL 135.30125 135.608914 \nL 138.55625 136.597466 \nL 141.81125 135.597845 \nL 145.06625 137.239234 \nL 148.32125 136.446845 \nL 151.57625 137.613972 \nL 154.83125 137.4075 \nL 158.08625 138.019382 \nL 161.34125 137.670738 \nL 164.59625 138.764658 \nL 167.85125 137.544336 \nL 171.10625 138.488754 \nL 174.36125 137.952297 \nL 177.61625 139.150174 \nL 180.87125 138.005539 \nL 184.12625 139.039499 \nL 187.38125 138.596466 \nL 190.63625 139.266393 \nL 193.89125 138.627883 \n\" clip-path=\"url(#pd46c8240c2)\" style=\"fill: none; stroke: #1f77b4; stroke-width: 1.5; stroke-linecap: square\"/>\n   </g>\n   <g id=\"line2d_170\">\n    <path d=\"M 27.0725 48.830043 \nL 33.5825 63.516245 \nL 40.0925 64.547744 \nL 46.6025 69.457463 \nL 53.1125 69.900342 \nL 59.6225 74.900329 \nL 66.1325 70.895513 \nL 72.6425 73.53371 \nL 79.1525 73.585412 \nL 85.6625 71.807248 \nL 92.1725 69.344599 \nL 98.6825 71.691943 \nL 105.1925 71.251617 \nL 111.7025 67.861416 \nL 118.2125 68.572038 \nL 124.7225 69.124641 \nL 131.2325 66.739798 \nL 137.7425 67.369471 \nL 144.2525 65.079744 \nL 150.7625 67.258527 \nL 157.2725 67.715378 \nL 163.7825 61.196912 \nL 170.2925 64.645327 \nL 176.8025 61.924877 \nL 183.3125 53.463835 \nL 189.8225 59.463857 \n\" clip-path=\"url(#pd46c8240c2)\" style=\"fill: none; stroke-dasharray: 5.55,2.4; stroke-dashoffset: 0; stroke: #ff7f0e; stroke-width: 1.5\"/>\n   </g>\n   <g id=\"line2d_171\">\n    <path d=\"M 21.37625 13.5 \nL 24.63125 53.841205 \nL 27.88625 63.106311 \nL 31.14125 65.264793 \nL 34.39625 77.287088 \nL 37.65125 76.889321 \nL 40.90625 86.007587 \nL 44.16125 86.258659 \nL 47.41625 94.466449 \nL 50.67125 92.02757 \nL 53.92625 98.757076 \nL 57.18125 101.139164 \nL 60.43625 105.433822 \nL 63.69125 106.52091 \nL 66.94625 110.787494 \nL 70.20125 111.296726 \nL 73.45625 115.120243 \nL 76.71125 115.732067 \nL 79.96625 119.221022 \nL 83.22125 118.786054 \nL 86.47625 122.125753 \nL 89.73125 122.17155 \nL 92.98625 125.921311 \nL 96.24125 124.548402 \nL 99.49625 128.26156 \nL 102.75125 127.009557 \nL 106.00625 130.187393 \nL 109.26125 129.740948 \nL 112.51625 131.231786 \nL 115.77125 131.857853 \nL 119.02625 133.197141 \nL 122.28125 133.2956 \nL 125.53625 134.234936 \nL 128.79125 134.501475 \nL 132.04625 134.874876 \nL 135.30125 135.608914 \nL 138.55625 136.597466 \nL 141.81125 135.597845 \nL 145.06625 137.239234 \nL 148.32125 136.446845 \nL 151.57625 137.613972 \nL 154.83125 137.4075 \nL 158.08625 138.019382 \nL 161.34125 137.670738 \nL 164.59625 138.764658 \nL 167.85125 137.544336 \nL 171.10625 138.488754 \nL 174.36125 137.952297 \nL 177.61625 139.150174 \nL 180.87125 138.005539 \nL 184.12625 139.039499 \nL 187.38125 138.596466 \nL 190.63625 139.266393 \nL 193.89125 138.627883 \n\" clip-path=\"url(#pd46c8240c2)\" style=\"fill: none; stroke: #1f77b4; stroke-width: 1.5; stroke-linecap: square\"/>\n   </g>\n   <g id=\"line2d_172\">\n    <path d=\"M 27.0725 48.830043 \nL 33.5825 63.516245 \nL 40.0925 64.547744 \nL 46.6025 69.457463 \nL 53.1125 69.900342 \nL 59.6225 74.900329 \nL 66.1325 70.895513 \nL 72.6425 73.53371 \nL 79.1525 73.585412 \nL 85.6625 71.807248 \nL 92.1725 69.344599 \nL 98.6825 71.691943 \nL 105.1925 71.251617 \nL 111.7025 67.861416 \nL 118.2125 68.572038 \nL 124.7225 69.124641 \nL 131.2325 66.739798 \nL 137.7425 67.369471 \nL 144.2525 65.079744 \nL 150.7625 67.258527 \nL 157.2725 67.715378 \nL 163.7825 61.196912 \nL 170.2925 64.645327 \nL 176.8025 61.924877 \nL 183.3125 53.463835 \nL 189.8225 59.463857 \nL 196.3325 53.191957 \n\" clip-path=\"url(#pd46c8240c2)\" style=\"fill: none; stroke-dasharray: 5.55,2.4; stroke-dashoffset: 0; stroke: #ff7f0e; stroke-width: 1.5\"/>\n   </g>\n   <g id=\"line2d_173\">\n    <path d=\"M 21.37625 13.5 \nL 24.63125 53.841205 \nL 27.88625 63.106311 \nL 31.14125 65.264793 \nL 34.39625 77.287088 \nL 37.65125 76.889321 \nL 40.90625 86.007587 \nL 44.16125 86.258659 \nL 47.41625 94.466449 \nL 50.67125 92.02757 \nL 53.92625 98.757076 \nL 57.18125 101.139164 \nL 60.43625 105.433822 \nL 63.69125 106.52091 \nL 66.94625 110.787494 \nL 70.20125 111.296726 \nL 73.45625 115.120243 \nL 76.71125 115.732067 \nL 79.96625 119.221022 \nL 83.22125 118.786054 \nL 86.47625 122.125753 \nL 89.73125 122.17155 \nL 92.98625 125.921311 \nL 96.24125 124.548402 \nL 99.49625 128.26156 \nL 102.75125 127.009557 \nL 106.00625 130.187393 \nL 109.26125 129.740948 \nL 112.51625 131.231786 \nL 115.77125 131.857853 \nL 119.02625 133.197141 \nL 122.28125 133.2956 \nL 125.53625 134.234936 \nL 128.79125 134.501475 \nL 132.04625 134.874876 \nL 135.30125 135.608914 \nL 138.55625 136.597466 \nL 141.81125 135.597845 \nL 145.06625 137.239234 \nL 148.32125 136.446845 \nL 151.57625 137.613972 \nL 154.83125 137.4075 \nL 158.08625 138.019382 \nL 161.34125 137.670738 \nL 164.59625 138.764658 \nL 167.85125 137.544336 \nL 171.10625 138.488754 \nL 174.36125 137.952297 \nL 177.61625 139.150174 \nL 180.87125 138.005539 \nL 184.12625 139.039499 \nL 187.38125 138.596466 \nL 190.63625 139.266393 \nL 193.89125 138.627883 \nL 197.14625 139.217277 \n\" clip-path=\"url(#pd46c8240c2)\" style=\"fill: none; stroke: #1f77b4; stroke-width: 1.5; stroke-linecap: square\"/>\n   </g>\n   <g id=\"line2d_174\">\n    <path d=\"M 27.0725 48.830043 \nL 33.5825 63.516245 \nL 40.0925 64.547744 \nL 46.6025 69.457463 \nL 53.1125 69.900342 \nL 59.6225 74.900329 \nL 66.1325 70.895513 \nL 72.6425 73.53371 \nL 79.1525 73.585412 \nL 85.6625 71.807248 \nL 92.1725 69.344599 \nL 98.6825 71.691943 \nL 105.1925 71.251617 \nL 111.7025 67.861416 \nL 118.2125 68.572038 \nL 124.7225 69.124641 \nL 131.2325 66.739798 \nL 137.7425 67.369471 \nL 144.2525 65.079744 \nL 150.7625 67.258527 \nL 157.2725 67.715378 \nL 163.7825 61.196912 \nL 170.2925 64.645327 \nL 176.8025 61.924877 \nL 183.3125 53.463835 \nL 189.8225 59.463857 \nL 196.3325 53.191957 \n\" clip-path=\"url(#pd46c8240c2)\" style=\"fill: none; stroke-dasharray: 5.55,2.4; stroke-dashoffset: 0; stroke: #ff7f0e; stroke-width: 1.5\"/>\n   </g>\n   <g id=\"line2d_175\">\n    <path d=\"M 21.37625 13.5 \nL 24.63125 53.841205 \nL 27.88625 63.106311 \nL 31.14125 65.264793 \nL 34.39625 77.287088 \nL 37.65125 76.889321 \nL 40.90625 86.007587 \nL 44.16125 86.258659 \nL 47.41625 94.466449 \nL 50.67125 92.02757 \nL 53.92625 98.757076 \nL 57.18125 101.139164 \nL 60.43625 105.433822 \nL 63.69125 106.52091 \nL 66.94625 110.787494 \nL 70.20125 111.296726 \nL 73.45625 115.120243 \nL 76.71125 115.732067 \nL 79.96625 119.221022 \nL 83.22125 118.786054 \nL 86.47625 122.125753 \nL 89.73125 122.17155 \nL 92.98625 125.921311 \nL 96.24125 124.548402 \nL 99.49625 128.26156 \nL 102.75125 127.009557 \nL 106.00625 130.187393 \nL 109.26125 129.740948 \nL 112.51625 131.231786 \nL 115.77125 131.857853 \nL 119.02625 133.197141 \nL 122.28125 133.2956 \nL 125.53625 134.234936 \nL 128.79125 134.501475 \nL 132.04625 134.874876 \nL 135.30125 135.608914 \nL 138.55625 136.597466 \nL 141.81125 135.597845 \nL 145.06625 137.239234 \nL 148.32125 136.446845 \nL 151.57625 137.613972 \nL 154.83125 137.4075 \nL 158.08625 138.019382 \nL 161.34125 137.670738 \nL 164.59625 138.764658 \nL 167.85125 137.544336 \nL 171.10625 138.488754 \nL 174.36125 137.952297 \nL 177.61625 139.150174 \nL 180.87125 138.005539 \nL 184.12625 139.039499 \nL 187.38125 138.596466 \nL 190.63625 139.266393 \nL 193.89125 138.627883 \nL 197.14625 139.217277 \nL 200.40125 138.90515 \n\" clip-path=\"url(#pd46c8240c2)\" style=\"fill: none; stroke: #1f77b4; stroke-width: 1.5; stroke-linecap: square\"/>\n   </g>\n   <g id=\"line2d_176\">\n    <path d=\"M 27.0725 48.830043 \nL 33.5825 63.516245 \nL 40.0925 64.547744 \nL 46.6025 69.457463 \nL 53.1125 69.900342 \nL 59.6225 74.900329 \nL 66.1325 70.895513 \nL 72.6425 73.53371 \nL 79.1525 73.585412 \nL 85.6625 71.807248 \nL 92.1725 69.344599 \nL 98.6825 71.691943 \nL 105.1925 71.251617 \nL 111.7025 67.861416 \nL 118.2125 68.572038 \nL 124.7225 69.124641 \nL 131.2325 66.739798 \nL 137.7425 67.369471 \nL 144.2525 65.079744 \nL 150.7625 67.258527 \nL 157.2725 67.715378 \nL 163.7825 61.196912 \nL 170.2925 64.645327 \nL 176.8025 61.924877 \nL 183.3125 53.463835 \nL 189.8225 59.463857 \nL 196.3325 53.191957 \n\" clip-path=\"url(#pd46c8240c2)\" style=\"fill: none; stroke-dasharray: 5.55,2.4; stroke-dashoffset: 0; stroke: #ff7f0e; stroke-width: 1.5\"/>\n   </g>\n   <g id=\"line2d_177\">\n    <path d=\"M 21.37625 13.5 \nL 24.63125 53.841205 \nL 27.88625 63.106311 \nL 31.14125 65.264793 \nL 34.39625 77.287088 \nL 37.65125 76.889321 \nL 40.90625 86.007587 \nL 44.16125 86.258659 \nL 47.41625 94.466449 \nL 50.67125 92.02757 \nL 53.92625 98.757076 \nL 57.18125 101.139164 \nL 60.43625 105.433822 \nL 63.69125 106.52091 \nL 66.94625 110.787494 \nL 70.20125 111.296726 \nL 73.45625 115.120243 \nL 76.71125 115.732067 \nL 79.96625 119.221022 \nL 83.22125 118.786054 \nL 86.47625 122.125753 \nL 89.73125 122.17155 \nL 92.98625 125.921311 \nL 96.24125 124.548402 \nL 99.49625 128.26156 \nL 102.75125 127.009557 \nL 106.00625 130.187393 \nL 109.26125 129.740948 \nL 112.51625 131.231786 \nL 115.77125 131.857853 \nL 119.02625 133.197141 \nL 122.28125 133.2956 \nL 125.53625 134.234936 \nL 128.79125 134.501475 \nL 132.04625 134.874876 \nL 135.30125 135.608914 \nL 138.55625 136.597466 \nL 141.81125 135.597845 \nL 145.06625 137.239234 \nL 148.32125 136.446845 \nL 151.57625 137.613972 \nL 154.83125 137.4075 \nL 158.08625 138.019382 \nL 161.34125 137.670738 \nL 164.59625 138.764658 \nL 167.85125 137.544336 \nL 171.10625 138.488754 \nL 174.36125 137.952297 \nL 177.61625 139.150174 \nL 180.87125 138.005539 \nL 184.12625 139.039499 \nL 187.38125 138.596466 \nL 190.63625 139.266393 \nL 193.89125 138.627883 \nL 197.14625 139.217277 \nL 200.40125 138.90515 \n\" clip-path=\"url(#pd46c8240c2)\" style=\"fill: none; stroke: #1f77b4; stroke-width: 1.5; stroke-linecap: square\"/>\n   </g>\n   <g id=\"line2d_178\">\n    <path d=\"M 27.0725 48.830043 \nL 33.5825 63.516245 \nL 40.0925 64.547744 \nL 46.6025 69.457463 \nL 53.1125 69.900342 \nL 59.6225 74.900329 \nL 66.1325 70.895513 \nL 72.6425 73.53371 \nL 79.1525 73.585412 \nL 85.6625 71.807248 \nL 92.1725 69.344599 \nL 98.6825 71.691943 \nL 105.1925 71.251617 \nL 111.7025 67.861416 \nL 118.2125 68.572038 \nL 124.7225 69.124641 \nL 131.2325 66.739798 \nL 137.7425 67.369471 \nL 144.2525 65.079744 \nL 150.7625 67.258527 \nL 157.2725 67.715378 \nL 163.7825 61.196912 \nL 170.2925 64.645327 \nL 176.8025 61.924877 \nL 183.3125 53.463835 \nL 189.8225 59.463857 \nL 196.3325 53.191957 \nL 202.8425 55.603932 \n\" clip-path=\"url(#pd46c8240c2)\" style=\"fill: none; stroke-dasharray: 5.55,2.4; stroke-dashoffset: 0; stroke: #ff7f0e; stroke-width: 1.5\"/>\n   </g>\n   <g id=\"line2d_179\">\n    <path d=\"M 21.37625 13.5 \nL 24.63125 53.841205 \nL 27.88625 63.106311 \nL 31.14125 65.264793 \nL 34.39625 77.287088 \nL 37.65125 76.889321 \nL 40.90625 86.007587 \nL 44.16125 86.258659 \nL 47.41625 94.466449 \nL 50.67125 92.02757 \nL 53.92625 98.757076 \nL 57.18125 101.139164 \nL 60.43625 105.433822 \nL 63.69125 106.52091 \nL 66.94625 110.787494 \nL 70.20125 111.296726 \nL 73.45625 115.120243 \nL 76.71125 115.732067 \nL 79.96625 119.221022 \nL 83.22125 118.786054 \nL 86.47625 122.125753 \nL 89.73125 122.17155 \nL 92.98625 125.921311 \nL 96.24125 124.548402 \nL 99.49625 128.26156 \nL 102.75125 127.009557 \nL 106.00625 130.187393 \nL 109.26125 129.740948 \nL 112.51625 131.231786 \nL 115.77125 131.857853 \nL 119.02625 133.197141 \nL 122.28125 133.2956 \nL 125.53625 134.234936 \nL 128.79125 134.501475 \nL 132.04625 134.874876 \nL 135.30125 135.608914 \nL 138.55625 136.597466 \nL 141.81125 135.597845 \nL 145.06625 137.239234 \nL 148.32125 136.446845 \nL 151.57625 137.613972 \nL 154.83125 137.4075 \nL 158.08625 138.019382 \nL 161.34125 137.670738 \nL 164.59625 138.764658 \nL 167.85125 137.544336 \nL 171.10625 138.488754 \nL 174.36125 137.952297 \nL 177.61625 139.150174 \nL 180.87125 138.005539 \nL 184.12625 139.039499 \nL 187.38125 138.596466 \nL 190.63625 139.266393 \nL 193.89125 138.627883 \nL 197.14625 139.217277 \nL 200.40125 138.90515 \nL 203.65625 139.5 \n\" clip-path=\"url(#pd46c8240c2)\" style=\"fill: none; stroke: #1f77b4; stroke-width: 1.5; stroke-linecap: square\"/>\n   </g>\n   <g id=\"line2d_180\">\n    <path d=\"M 27.0725 48.830043 \nL 33.5825 63.516245 \nL 40.0925 64.547744 \nL 46.6025 69.457463 \nL 53.1125 69.900342 \nL 59.6225 74.900329 \nL 66.1325 70.895513 \nL 72.6425 73.53371 \nL 79.1525 73.585412 \nL 85.6625 71.807248 \nL 92.1725 69.344599 \nL 98.6825 71.691943 \nL 105.1925 71.251617 \nL 111.7025 67.861416 \nL 118.2125 68.572038 \nL 124.7225 69.124641 \nL 131.2325 66.739798 \nL 137.7425 67.369471 \nL 144.2525 65.079744 \nL 150.7625 67.258527 \nL 157.2725 67.715378 \nL 163.7825 61.196912 \nL 170.2925 64.645327 \nL 176.8025 61.924877 \nL 183.3125 53.463835 \nL 189.8225 59.463857 \nL 196.3325 53.191957 \nL 202.8425 55.603932 \n\" clip-path=\"url(#pd46c8240c2)\" style=\"fill: none; stroke-dasharray: 5.55,2.4; stroke-dashoffset: 0; stroke: #ff7f0e; stroke-width: 1.5\"/>\n   </g>\n   <g id=\"line2d_181\">\n    <path d=\"M 21.37625 13.5 \nL 24.63125 53.841205 \nL 27.88625 63.106311 \nL 31.14125 65.264793 \nL 34.39625 77.287088 \nL 37.65125 76.889321 \nL 40.90625 86.007587 \nL 44.16125 86.258659 \nL 47.41625 94.466449 \nL 50.67125 92.02757 \nL 53.92625 98.757076 \nL 57.18125 101.139164 \nL 60.43625 105.433822 \nL 63.69125 106.52091 \nL 66.94625 110.787494 \nL 70.20125 111.296726 \nL 73.45625 115.120243 \nL 76.71125 115.732067 \nL 79.96625 119.221022 \nL 83.22125 118.786054 \nL 86.47625 122.125753 \nL 89.73125 122.17155 \nL 92.98625 125.921311 \nL 96.24125 124.548402 \nL 99.49625 128.26156 \nL 102.75125 127.009557 \nL 106.00625 130.187393 \nL 109.26125 129.740948 \nL 112.51625 131.231786 \nL 115.77125 131.857853 \nL 119.02625 133.197141 \nL 122.28125 133.2956 \nL 125.53625 134.234936 \nL 128.79125 134.501475 \nL 132.04625 134.874876 \nL 135.30125 135.608914 \nL 138.55625 136.597466 \nL 141.81125 135.597845 \nL 145.06625 137.239234 \nL 148.32125 136.446845 \nL 151.57625 137.613972 \nL 154.83125 137.4075 \nL 158.08625 138.019382 \nL 161.34125 137.670738 \nL 164.59625 138.764658 \nL 167.85125 137.544336 \nL 171.10625 138.488754 \nL 174.36125 137.952297 \nL 177.61625 139.150174 \nL 180.87125 138.005539 \nL 184.12625 139.039499 \nL 187.38125 138.596466 \nL 190.63625 139.266393 \nL 193.89125 138.627883 \nL 197.14625 139.217277 \nL 200.40125 138.90515 \nL 203.65625 139.5 \nL 206.91125 138.82072 \n\" clip-path=\"url(#pd46c8240c2)\" style=\"fill: none; stroke: #1f77b4; stroke-width: 1.5; stroke-linecap: square\"/>\n   </g>\n   <g id=\"line2d_182\">\n    <path d=\"M 27.0725 48.830043 \nL 33.5825 63.516245 \nL 40.0925 64.547744 \nL 46.6025 69.457463 \nL 53.1125 69.900342 \nL 59.6225 74.900329 \nL 66.1325 70.895513 \nL 72.6425 73.53371 \nL 79.1525 73.585412 \nL 85.6625 71.807248 \nL 92.1725 69.344599 \nL 98.6825 71.691943 \nL 105.1925 71.251617 \nL 111.7025 67.861416 \nL 118.2125 68.572038 \nL 124.7225 69.124641 \nL 131.2325 66.739798 \nL 137.7425 67.369471 \nL 144.2525 65.079744 \nL 150.7625 67.258527 \nL 157.2725 67.715378 \nL 163.7825 61.196912 \nL 170.2925 64.645327 \nL 176.8025 61.924877 \nL 183.3125 53.463835 \nL 189.8225 59.463857 \nL 196.3325 53.191957 \nL 202.8425 55.603932 \n\" clip-path=\"url(#pd46c8240c2)\" style=\"fill: none; stroke-dasharray: 5.55,2.4; stroke-dashoffset: 0; stroke: #ff7f0e; stroke-width: 1.5\"/>\n   </g>\n   <g id=\"line2d_183\">\n    <path d=\"M 21.37625 13.5 \nL 24.63125 53.841205 \nL 27.88625 63.106311 \nL 31.14125 65.264793 \nL 34.39625 77.287088 \nL 37.65125 76.889321 \nL 40.90625 86.007587 \nL 44.16125 86.258659 \nL 47.41625 94.466449 \nL 50.67125 92.02757 \nL 53.92625 98.757076 \nL 57.18125 101.139164 \nL 60.43625 105.433822 \nL 63.69125 106.52091 \nL 66.94625 110.787494 \nL 70.20125 111.296726 \nL 73.45625 115.120243 \nL 76.71125 115.732067 \nL 79.96625 119.221022 \nL 83.22125 118.786054 \nL 86.47625 122.125753 \nL 89.73125 122.17155 \nL 92.98625 125.921311 \nL 96.24125 124.548402 \nL 99.49625 128.26156 \nL 102.75125 127.009557 \nL 106.00625 130.187393 \nL 109.26125 129.740948 \nL 112.51625 131.231786 \nL 115.77125 131.857853 \nL 119.02625 133.197141 \nL 122.28125 133.2956 \nL 125.53625 134.234936 \nL 128.79125 134.501475 \nL 132.04625 134.874876 \nL 135.30125 135.608914 \nL 138.55625 136.597466 \nL 141.81125 135.597845 \nL 145.06625 137.239234 \nL 148.32125 136.446845 \nL 151.57625 137.613972 \nL 154.83125 137.4075 \nL 158.08625 138.019382 \nL 161.34125 137.670738 \nL 164.59625 138.764658 \nL 167.85125 137.544336 \nL 171.10625 138.488754 \nL 174.36125 137.952297 \nL 177.61625 139.150174 \nL 180.87125 138.005539 \nL 184.12625 139.039499 \nL 187.38125 138.596466 \nL 190.63625 139.266393 \nL 193.89125 138.627883 \nL 197.14625 139.217277 \nL 200.40125 138.90515 \nL 203.65625 139.5 \nL 206.91125 138.82072 \n\" clip-path=\"url(#pd46c8240c2)\" style=\"fill: none; stroke: #1f77b4; stroke-width: 1.5; stroke-linecap: square\"/>\n   </g>\n   <g id=\"line2d_184\">\n    <path d=\"M 27.0725 48.830043 \nL 33.5825 63.516245 \nL 40.0925 64.547744 \nL 46.6025 69.457463 \nL 53.1125 69.900342 \nL 59.6225 74.900329 \nL 66.1325 70.895513 \nL 72.6425 73.53371 \nL 79.1525 73.585412 \nL 85.6625 71.807248 \nL 92.1725 69.344599 \nL 98.6825 71.691943 \nL 105.1925 71.251617 \nL 111.7025 67.861416 \nL 118.2125 68.572038 \nL 124.7225 69.124641 \nL 131.2325 66.739798 \nL 137.7425 67.369471 \nL 144.2525 65.079744 \nL 150.7625 67.258527 \nL 157.2725 67.715378 \nL 163.7825 61.196912 \nL 170.2925 64.645327 \nL 176.8025 61.924877 \nL 183.3125 53.463835 \nL 189.8225 59.463857 \nL 196.3325 53.191957 \nL 202.8425 55.603932 \nL 209.3525 56.864213 \n\" clip-path=\"url(#pd46c8240c2)\" style=\"fill: none; stroke-dasharray: 5.55,2.4; stroke-dashoffset: 0; stroke: #ff7f0e; stroke-width: 1.5\"/>\n   </g>\n   <g id=\"line2d_185\">\n    <path d=\"M 21.37625 13.5 \nL 24.63125 53.841205 \nL 27.88625 63.106311 \nL 31.14125 65.264793 \nL 34.39625 77.287088 \nL 37.65125 76.889321 \nL 40.90625 86.007587 \nL 44.16125 86.258659 \nL 47.41625 94.466449 \nL 50.67125 92.02757 \nL 53.92625 98.757076 \nL 57.18125 101.139164 \nL 60.43625 105.433822 \nL 63.69125 106.52091 \nL 66.94625 110.787494 \nL 70.20125 111.296726 \nL 73.45625 115.120243 \nL 76.71125 115.732067 \nL 79.96625 119.221022 \nL 83.22125 118.786054 \nL 86.47625 122.125753 \nL 89.73125 122.17155 \nL 92.98625 125.921311 \nL 96.24125 124.548402 \nL 99.49625 128.26156 \nL 102.75125 127.009557 \nL 106.00625 130.187393 \nL 109.26125 129.740948 \nL 112.51625 131.231786 \nL 115.77125 131.857853 \nL 119.02625 133.197141 \nL 122.28125 133.2956 \nL 125.53625 134.234936 \nL 128.79125 134.501475 \nL 132.04625 134.874876 \nL 135.30125 135.608914 \nL 138.55625 136.597466 \nL 141.81125 135.597845 \nL 145.06625 137.239234 \nL 148.32125 136.446845 \nL 151.57625 137.613972 \nL 154.83125 137.4075 \nL 158.08625 138.019382 \nL 161.34125 137.670738 \nL 164.59625 138.764658 \nL 167.85125 137.544336 \nL 171.10625 138.488754 \nL 174.36125 137.952297 \nL 177.61625 139.150174 \nL 180.87125 138.005539 \nL 184.12625 139.039499 \nL 187.38125 138.596466 \nL 190.63625 139.266393 \nL 193.89125 138.627883 \nL 197.14625 139.217277 \nL 200.40125 138.90515 \nL 203.65625 139.5 \nL 206.91125 138.82072 \nL 210.16625 139.065836 \n\" clip-path=\"url(#pd46c8240c2)\" style=\"fill: none; stroke: #1f77b4; stroke-width: 1.5; stroke-linecap: square\"/>\n   </g>\n   <g id=\"line2d_186\">\n    <path d=\"M 27.0725 48.830043 \nL 33.5825 63.516245 \nL 40.0925 64.547744 \nL 46.6025 69.457463 \nL 53.1125 69.900342 \nL 59.6225 74.900329 \nL 66.1325 70.895513 \nL 72.6425 73.53371 \nL 79.1525 73.585412 \nL 85.6625 71.807248 \nL 92.1725 69.344599 \nL 98.6825 71.691943 \nL 105.1925 71.251617 \nL 111.7025 67.861416 \nL 118.2125 68.572038 \nL 124.7225 69.124641 \nL 131.2325 66.739798 \nL 137.7425 67.369471 \nL 144.2525 65.079744 \nL 150.7625 67.258527 \nL 157.2725 67.715378 \nL 163.7825 61.196912 \nL 170.2925 64.645327 \nL 176.8025 61.924877 \nL 183.3125 53.463835 \nL 189.8225 59.463857 \nL 196.3325 53.191957 \nL 202.8425 55.603932 \nL 209.3525 56.864213 \n\" clip-path=\"url(#pd46c8240c2)\" style=\"fill: none; stroke-dasharray: 5.55,2.4; stroke-dashoffset: 0; stroke: #ff7f0e; stroke-width: 1.5\"/>\n   </g>\n   <g id=\"line2d_187\">\n    <path d=\"M 21.37625 13.5 \nL 24.63125 53.841205 \nL 27.88625 63.106311 \nL 31.14125 65.264793 \nL 34.39625 77.287088 \nL 37.65125 76.889321 \nL 40.90625 86.007587 \nL 44.16125 86.258659 \nL 47.41625 94.466449 \nL 50.67125 92.02757 \nL 53.92625 98.757076 \nL 57.18125 101.139164 \nL 60.43625 105.433822 \nL 63.69125 106.52091 \nL 66.94625 110.787494 \nL 70.20125 111.296726 \nL 73.45625 115.120243 \nL 76.71125 115.732067 \nL 79.96625 119.221022 \nL 83.22125 118.786054 \nL 86.47625 122.125753 \nL 89.73125 122.17155 \nL 92.98625 125.921311 \nL 96.24125 124.548402 \nL 99.49625 128.26156 \nL 102.75125 127.009557 \nL 106.00625 130.187393 \nL 109.26125 129.740948 \nL 112.51625 131.231786 \nL 115.77125 131.857853 \nL 119.02625 133.197141 \nL 122.28125 133.2956 \nL 125.53625 134.234936 \nL 128.79125 134.501475 \nL 132.04625 134.874876 \nL 135.30125 135.608914 \nL 138.55625 136.597466 \nL 141.81125 135.597845 \nL 145.06625 137.239234 \nL 148.32125 136.446845 \nL 151.57625 137.613972 \nL 154.83125 137.4075 \nL 158.08625 138.019382 \nL 161.34125 137.670738 \nL 164.59625 138.764658 \nL 167.85125 137.544336 \nL 171.10625 138.488754 \nL 174.36125 137.952297 \nL 177.61625 139.150174 \nL 180.87125 138.005539 \nL 184.12625 139.039499 \nL 187.38125 138.596466 \nL 190.63625 139.266393 \nL 193.89125 138.627883 \nL 197.14625 139.217277 \nL 200.40125 138.90515 \nL 203.65625 139.5 \nL 206.91125 138.82072 \nL 210.16625 139.065836 \nL 213.42125 139.223217 \n\" clip-path=\"url(#pd46c8240c2)\" style=\"fill: none; stroke: #1f77b4; stroke-width: 1.5; stroke-linecap: square\"/>\n   </g>\n   <g id=\"line2d_188\">\n    <path d=\"M 27.0725 48.830043 \nL 33.5825 63.516245 \nL 40.0925 64.547744 \nL 46.6025 69.457463 \nL 53.1125 69.900342 \nL 59.6225 74.900329 \nL 66.1325 70.895513 \nL 72.6425 73.53371 \nL 79.1525 73.585412 \nL 85.6625 71.807248 \nL 92.1725 69.344599 \nL 98.6825 71.691943 \nL 105.1925 71.251617 \nL 111.7025 67.861416 \nL 118.2125 68.572038 \nL 124.7225 69.124641 \nL 131.2325 66.739798 \nL 137.7425 67.369471 \nL 144.2525 65.079744 \nL 150.7625 67.258527 \nL 157.2725 67.715378 \nL 163.7825 61.196912 \nL 170.2925 64.645327 \nL 176.8025 61.924877 \nL 183.3125 53.463835 \nL 189.8225 59.463857 \nL 196.3325 53.191957 \nL 202.8425 55.603932 \nL 209.3525 56.864213 \n\" clip-path=\"url(#pd46c8240c2)\" style=\"fill: none; stroke-dasharray: 5.55,2.4; stroke-dashoffset: 0; stroke: #ff7f0e; stroke-width: 1.5\"/>\n   </g>\n   <g id=\"line2d_189\">\n    <path d=\"M 21.37625 13.5 \nL 24.63125 53.841205 \nL 27.88625 63.106311 \nL 31.14125 65.264793 \nL 34.39625 77.287088 \nL 37.65125 76.889321 \nL 40.90625 86.007587 \nL 44.16125 86.258659 \nL 47.41625 94.466449 \nL 50.67125 92.02757 \nL 53.92625 98.757076 \nL 57.18125 101.139164 \nL 60.43625 105.433822 \nL 63.69125 106.52091 \nL 66.94625 110.787494 \nL 70.20125 111.296726 \nL 73.45625 115.120243 \nL 76.71125 115.732067 \nL 79.96625 119.221022 \nL 83.22125 118.786054 \nL 86.47625 122.125753 \nL 89.73125 122.17155 \nL 92.98625 125.921311 \nL 96.24125 124.548402 \nL 99.49625 128.26156 \nL 102.75125 127.009557 \nL 106.00625 130.187393 \nL 109.26125 129.740948 \nL 112.51625 131.231786 \nL 115.77125 131.857853 \nL 119.02625 133.197141 \nL 122.28125 133.2956 \nL 125.53625 134.234936 \nL 128.79125 134.501475 \nL 132.04625 134.874876 \nL 135.30125 135.608914 \nL 138.55625 136.597466 \nL 141.81125 135.597845 \nL 145.06625 137.239234 \nL 148.32125 136.446845 \nL 151.57625 137.613972 \nL 154.83125 137.4075 \nL 158.08625 138.019382 \nL 161.34125 137.670738 \nL 164.59625 138.764658 \nL 167.85125 137.544336 \nL 171.10625 138.488754 \nL 174.36125 137.952297 \nL 177.61625 139.150174 \nL 180.87125 138.005539 \nL 184.12625 139.039499 \nL 187.38125 138.596466 \nL 190.63625 139.266393 \nL 193.89125 138.627883 \nL 197.14625 139.217277 \nL 200.40125 138.90515 \nL 203.65625 139.5 \nL 206.91125 138.82072 \nL 210.16625 139.065836 \nL 213.42125 139.223217 \n\" clip-path=\"url(#pd46c8240c2)\" style=\"fill: none; stroke: #1f77b4; stroke-width: 1.5; stroke-linecap: square\"/>\n   </g>\n   <g id=\"line2d_190\">\n    <path d=\"M 27.0725 48.830043 \nL 33.5825 63.516245 \nL 40.0925 64.547744 \nL 46.6025 69.457463 \nL 53.1125 69.900342 \nL 59.6225 74.900329 \nL 66.1325 70.895513 \nL 72.6425 73.53371 \nL 79.1525 73.585412 \nL 85.6625 71.807248 \nL 92.1725 69.344599 \nL 98.6825 71.691943 \nL 105.1925 71.251617 \nL 111.7025 67.861416 \nL 118.2125 68.572038 \nL 124.7225 69.124641 \nL 131.2325 66.739798 \nL 137.7425 67.369471 \nL 144.2525 65.079744 \nL 150.7625 67.258527 \nL 157.2725 67.715378 \nL 163.7825 61.196912 \nL 170.2925 64.645327 \nL 176.8025 61.924877 \nL 183.3125 53.463835 \nL 189.8225 59.463857 \nL 196.3325 53.191957 \nL 202.8425 55.603932 \nL 209.3525 56.864213 \nL 215.8625 55.913829 \n\" clip-path=\"url(#pd46c8240c2)\" style=\"fill: none; stroke-dasharray: 5.55,2.4; stroke-dashoffset: 0; stroke: #ff7f0e; stroke-width: 1.5\"/>\n   </g>\n   <g id=\"patch_3\">\n    <path d=\"M 20.5625 145.8 \nL 20.5625 7.2 \n\" style=\"fill: none; stroke: #000000; stroke-width: 0.8; stroke-linejoin: miter; stroke-linecap: square\"/>\n   </g>\n   <g id=\"patch_4\">\n    <path d=\"M 215.8625 145.8 \nL 215.8625 7.2 \n\" style=\"fill: none; stroke: #000000; stroke-width: 0.8; stroke-linejoin: miter; stroke-linecap: square\"/>\n   </g>\n   <g id=\"patch_5\">\n    <path d=\"M 20.5625 145.8 \nL 215.8625 145.8 \n\" style=\"fill: none; stroke: #000000; stroke-width: 0.8; stroke-linejoin: miter; stroke-linecap: square\"/>\n   </g>\n   <g id=\"patch_6\">\n    <path d=\"M 20.5625 7.2 \nL 215.8625 7.2 \n\" style=\"fill: none; stroke: #000000; stroke-width: 0.8; stroke-linejoin: miter; stroke-linecap: square\"/>\n   </g>\n   <g id=\"legend_1\">\n    <g id=\"patch_7\">\n     <path d=\"M 129.271875 45.1125 \nL 208.8625 45.1125 \nQ 210.8625 45.1125 210.8625 43.1125 \nL 210.8625 14.2 \nQ 210.8625 12.2 208.8625 12.2 \nL 129.271875 12.2 \nQ 127.271875 12.2 127.271875 14.2 \nL 127.271875 43.1125 \nQ 127.271875 45.1125 129.271875 45.1125 \nz\n\" style=\"fill: #ffffff; opacity: 0.8; stroke: #cccccc; stroke-linejoin: miter\"/>\n    </g>\n    <g id=\"line2d_191\">\n     <path d=\"M 131.271875 20.298438 \nL 141.271875 20.298438 \nL 151.271875 20.298438 \n\" style=\"fill: none; stroke: #1f77b4; stroke-width: 1.5; stroke-linecap: square\"/>\n    </g>\n    <g id=\"text_14\">\n     <!-- train_loss -->\n     <g transform=\"translate(159.271875 23.798438) scale(0.1 -0.1)\">\n      <defs>\n       <path id=\"DejaVuSans-74\" d=\"M 1172 4494 \nL 1172 3500 \nL 2356 3500 \nL 2356 3053 \nL 1172 3053 \nL 1172 1153 \nQ 1172 725 1289 603 \nQ 1406 481 1766 481 \nL 2356 481 \nL 2356 0 \nL 1766 0 \nQ 1100 0 847 248 \nQ 594 497 594 1153 \nL 594 3053 \nL 172 3053 \nL 172 3500 \nL 594 3500 \nL 594 4494 \nL 1172 4494 \nz\n\" transform=\"scale(0.015625)\"/>\n       <path id=\"DejaVuSans-72\" d=\"M 2631 2963 \nQ 2534 3019 2420 3045 \nQ 2306 3072 2169 3072 \nQ 1681 3072 1420 2755 \nQ 1159 2438 1159 1844 \nL 1159 0 \nL 581 0 \nL 581 3500 \nL 1159 3500 \nL 1159 2956 \nQ 1341 3275 1631 3429 \nQ 1922 3584 2338 3584 \nQ 2397 3584 2469 3576 \nQ 2541 3569 2628 3553 \nL 2631 2963 \nz\n\" transform=\"scale(0.015625)\"/>\n       <path id=\"DejaVuSans-61\" d=\"M 2194 1759 \nQ 1497 1759 1228 1600 \nQ 959 1441 959 1056 \nQ 959 750 1161 570 \nQ 1363 391 1709 391 \nQ 2188 391 2477 730 \nQ 2766 1069 2766 1631 \nL 2766 1759 \nL 2194 1759 \nz\nM 3341 1997 \nL 3341 0 \nL 2766 0 \nL 2766 531 \nQ 2569 213 2275 61 \nQ 1981 -91 1556 -91 \nQ 1019 -91 701 211 \nQ 384 513 384 1019 \nQ 384 1609 779 1909 \nQ 1175 2209 1959 2209 \nL 2766 2209 \nL 2766 2266 \nQ 2766 2663 2505 2880 \nQ 2244 3097 1772 3097 \nQ 1472 3097 1187 3025 \nQ 903 2953 641 2809 \nL 641 3341 \nQ 956 3463 1253 3523 \nQ 1550 3584 1831 3584 \nQ 2591 3584 2966 3190 \nQ 3341 2797 3341 1997 \nz\n\" transform=\"scale(0.015625)\"/>\n       <path id=\"DejaVuSans-69\" d=\"M 603 3500 \nL 1178 3500 \nL 1178 0 \nL 603 0 \nL 603 3500 \nz\nM 603 4863 \nL 1178 4863 \nL 1178 4134 \nL 603 4134 \nL 603 4863 \nz\n\" transform=\"scale(0.015625)\"/>\n       <path id=\"DejaVuSans-6e\" d=\"M 3513 2113 \nL 3513 0 \nL 2938 0 \nL 2938 2094 \nQ 2938 2591 2744 2837 \nQ 2550 3084 2163 3084 \nQ 1697 3084 1428 2787 \nQ 1159 2491 1159 1978 \nL 1159 0 \nL 581 0 \nL 581 3500 \nL 1159 3500 \nL 1159 2956 \nQ 1366 3272 1645 3428 \nQ 1925 3584 2291 3584 \nQ 2894 3584 3203 3211 \nQ 3513 2838 3513 2113 \nz\n\" transform=\"scale(0.015625)\"/>\n       <path id=\"DejaVuSans-5f\" d=\"M 3263 -1063 \nL 3263 -1509 \nL -63 -1509 \nL -63 -1063 \nL 3263 -1063 \nz\n\" transform=\"scale(0.015625)\"/>\n       <path id=\"DejaVuSans-6c\" d=\"M 603 4863 \nL 1178 4863 \nL 1178 0 \nL 603 0 \nL 603 4863 \nz\n\" transform=\"scale(0.015625)\"/>\n       <path id=\"DejaVuSans-73\" d=\"M 2834 3397 \nL 2834 2853 \nQ 2591 2978 2328 3040 \nQ 2066 3103 1784 3103 \nQ 1356 3103 1142 2972 \nQ 928 2841 928 2578 \nQ 928 2378 1081 2264 \nQ 1234 2150 1697 2047 \nL 1894 2003 \nQ 2506 1872 2764 1633 \nQ 3022 1394 3022 966 \nQ 3022 478 2636 193 \nQ 2250 -91 1575 -91 \nQ 1294 -91 989 -36 \nQ 684 19 347 128 \nL 347 722 \nQ 666 556 975 473 \nQ 1284 391 1588 391 \nQ 1994 391 2212 530 \nQ 2431 669 2431 922 \nQ 2431 1156 2273 1281 \nQ 2116 1406 1581 1522 \nL 1381 1569 \nQ 847 1681 609 1914 \nQ 372 2147 372 2553 \nQ 372 3047 722 3315 \nQ 1072 3584 1716 3584 \nQ 2034 3584 2315 3537 \nQ 2597 3491 2834 3397 \nz\n\" transform=\"scale(0.015625)\"/>\n      </defs>\n      <use xlink:href=\"#DejaVuSans-74\"/>\n      <use xlink:href=\"#DejaVuSans-72\" x=\"39.208984\"/>\n      <use xlink:href=\"#DejaVuSans-61\" x=\"80.322266\"/>\n      <use xlink:href=\"#DejaVuSans-69\" x=\"141.601562\"/>\n      <use xlink:href=\"#DejaVuSans-6e\" x=\"169.384766\"/>\n      <use xlink:href=\"#DejaVuSans-5f\" x=\"232.763672\"/>\n      <use xlink:href=\"#DejaVuSans-6c\" x=\"282.763672\"/>\n      <use xlink:href=\"#DejaVuSans-6f\" x=\"310.546875\"/>\n      <use xlink:href=\"#DejaVuSans-73\" x=\"371.728516\"/>\n      <use xlink:href=\"#DejaVuSans-73\" x=\"423.828125\"/>\n     </g>\n    </g>\n    <g id=\"line2d_192\">\n     <path d=\"M 131.271875 35.254688 \nL 141.271875 35.254688 \nL 151.271875 35.254688 \n\" style=\"fill: none; stroke-dasharray: 5.55,2.4; stroke-dashoffset: 0; stroke: #ff7f0e; stroke-width: 1.5\"/>\n    </g>\n    <g id=\"text_15\">\n     <!-- val_loss -->\n     <g transform=\"translate(159.271875 38.754688) scale(0.1 -0.1)\">\n      <defs>\n       <path id=\"DejaVuSans-76\" d=\"M 191 3500 \nL 800 3500 \nL 1894 563 \nL 2988 3500 \nL 3597 3500 \nL 2284 0 \nL 1503 0 \nL 191 3500 \nz\n\" transform=\"scale(0.015625)\"/>\n      </defs>\n      <use xlink:href=\"#DejaVuSans-76\"/>\n      <use xlink:href=\"#DejaVuSans-61\" x=\"59.179688\"/>\n      <use xlink:href=\"#DejaVuSans-6c\" x=\"120.458984\"/>\n      <use xlink:href=\"#DejaVuSans-5f\" x=\"148.242188\"/>\n      <use xlink:href=\"#DejaVuSans-6c\" x=\"198.242188\"/>\n      <use xlink:href=\"#DejaVuSans-6f\" x=\"226.025391\"/>\n      <use xlink:href=\"#DejaVuSans-73\" x=\"287.207031\"/>\n      <use xlink:href=\"#DejaVuSans-73\" x=\"339.306641\"/>\n     </g>\n    </g>\n   </g>\n  </g>\n </g>\n <defs>\n  <clipPath id=\"pd46c8240c2\">\n   <rect x=\"20.5625\" y=\"7.2\" width=\"195.3\" height=\"138.6\"/>\n  </clipPath>\n </defs>\n</svg>\n"
          },
          "metadata": {}
        }
      ],
      "source": [
        "data = d2l.MTFraEng(batch_size=128)\n",
        "embed_size, num_hiddens, num_layers, dropout = 256, 256, 2, 0.2\n",
        "encoder = Seq2SeqEncoder(\n",
        "    d2l.GRU, len(data.src_vocab), embed_size, num_hiddens, num_layers=num_layers, dropout=dropout)\n",
        "decoder = Seq2SeqDecoder(\n",
        "    len(data.tgt_vocab), embed_size, num_hiddens, num_layers, dropout)\n",
        "model = Seq2Seq(encoder, decoder, tgt_pad=data.tgt_vocab['<pad>'],\n",
        "                lr=0.005)\n",
        "trainer = d2l.Trainer(max_epochs=30, gradient_clip_val=1, num_gpus=1)\n",
        "trainer.fit(model, data)"
      ]
    },
    {
      "cell_type": "markdown",
      "id": "3914d070",
      "metadata": {
        "origin_pos": 31,
        "id": "3914d070"
      },
      "source": [
        "## Prediction\n",
        "\n",
        "To predict the output sequence\n",
        "at each step,\n",
        "the predicted token from the previous\n",
        "time step is fed into the decoder as an input.\n",
        "One simple strategy is to sample whichever token\n",
        "that has been assigned by the decoder the highest probability\n",
        "when predicting at each step.\n",
        "As in training, at the initial time step\n",
        "the beginning-of-sequence (\"&lt;bos&gt;\") token\n",
        "is fed into the decoder. When the end-of-sequence (\"&lt;eos&gt;\") token is predicted, the prediction of the output sequence is complete.\n",
        "\n",
        "<!--![](https://github.com/d2l-ai/d2l-pytorch-colab/blob/master/img/seq2seq-predict.svg?raw=1)-->\n",
        "\n"
      ]
    },
    {
      "cell_type": "markdown",
      "id": "cb8f0164",
      "metadata": {
        "origin_pos": 34,
        "id": "cb8f0164"
      },
      "source": [
        "## Evaluation of Predicted Sequences\n",
        "\n",
        "<!-- We can evaluate a predicted sequence\n",
        "by comparing it with the\n",
        "target sequence (the ground truth).\n",
        "But what precisely is the appropriate measure\n",
        "for comparing similarity between two sequences?\n",
        "\n",
        "\n",
        "Bilingual Evaluation Understudy (BLEU),\n",
        "though originally proposed for evaluating\n",
        "machine translation results :cite:`Papineni.Roukos.Ward.ea.2002`,\n",
        "has been extensively used in measuring\n",
        "the quality of output sequences for different applications.\n",
        "In principle, for any $n$-gram (:numref:`subsec_markov-models-and-n-grams`) in the predicted sequence,\n",
        "BLEU evaluates whether this $n$-gram appears\n",
        "in the target sequence.\n",
        "\n",
        "Denote by $p_n$ the precision of an $n$-gram,\n",
        "defined as the ratio\n",
        "of the number of matched $n$-grams in\n",
        "the predicted and target sequences\n",
        "to the number of $n$-grams in the predicted sequence.\n",
        "To explain, given a target sequence $A$, $B$, $C$, $D$, $E$, $F$,\n",
        "and a predicted sequence $A$, $B$, $B$, $C$, $D$,\n",
        "we have $p_1 = 4/5$,  $p_2 = 3/4$, $p_3 = 1/3$, and $p_4 = 0$.\n",
        "Now let $\\textrm{len}_{\\textrm{label}}$ and $\\textrm{len}_{\\textrm{pred}}$\n",
        "be the numbers of tokens in the target sequence\n",
        "and the predicted sequence, respectively.\n",
        "Then, BLEU is defined as\n",
        "\n",
        "$$ \\exp\\left(\\min\\left(0, 1 - \\frac{\\textrm{len}_{\\textrm{label}}}{\\textrm{len}_{\\textrm{pred}}}\\right)\\right) \\prod_{n=1}^k p_n^{1/2^n},$$\n",
        ":eqlabel:`eq_bleu`\n",
        "\n",
        "where $k$ is the longest $n$-gram for matching.\n",
        "\n",
        "Based on the definition of BLEU in :eqref:`eq_bleu`,\n",
        "whenever the predicted sequence is the same as the target sequence, BLEU is 1.\n",
        "Moreover,\n",
        "since matching longer $n$-grams is more difficult,\n",
        "BLEU assigns a greater weight\n",
        "when a longer $n$-gram has high precision.\n",
        "Specifically, when $p_n$ is fixed,\n",
        "$p_n^{1/2^n}$ increases as $n$ grows (the original paper uses $p_n^{1/n}$).\n",
        "Furthermore,\n",
        "since\n",
        "predicting shorter sequences\n",
        "tends to yield a higher $p_n$ value,\n",
        "the coefficient before the multiplication term in :eqref:`eq_bleu`\n",
        "penalizes shorter predicted sequences.\n",
        "For example, when $k=2$,\n",
        "given the target sequence $A$, $B$, $C$, $D$, $E$, $F$ and the predicted sequence $A$, $B$,\n",
        "although $p_1 = p_2 = 1$, the penalty factor $\\exp(1-6/2) \\approx 0.14$ lowers the BLEU. -->\n",
        "\n",
        "We implement the BLEU measure as follows.\n"
      ]
    },
    {
      "cell_type": "code",
      "execution_count": null,
      "id": "904e4635",
      "metadata": {
        "execution": {
          "iopub.execute_input": "2023-08-18T19:56:06.999996Z",
          "iopub.status.busy": "2023-08-18T19:56:06.999108Z",
          "iopub.status.idle": "2023-08-18T19:56:07.006270Z",
          "shell.execute_reply": "2023-08-18T19:56:07.005413Z"
        },
        "origin_pos": 35,
        "tab": [
          "pytorch"
        ],
        "id": "904e4635"
      },
      "outputs": [],
      "source": [
        "def bleu(pred_seq, label_seq, k):\n",
        "    \"\"\"Compute the BLEU.\"\"\"\n",
        "    pred_tokens, label_tokens = pred_seq.split(' '), label_seq.split(' ')\n",
        "    len_pred, len_label = len(pred_tokens), len(label_tokens)\n",
        "    score = math.exp(min(0, 1 - len_label / len_pred))\n",
        "    for n in range(1, min(k, len_pred) + 1):\n",
        "        num_matches, label_subs = 0, collections.defaultdict(int)\n",
        "        for i in range(len_label - n + 1):\n",
        "            label_subs[' '.join(label_tokens[i: i + n])] += 1\n",
        "        for i in range(len_pred - n + 1):\n",
        "            if label_subs[' '.join(pred_tokens[i: i + n])] > 0:\n",
        "                num_matches += 1\n",
        "                label_subs[' '.join(pred_tokens[i: i + n])] -= 1\n",
        "        score *= math.pow(num_matches / (len_pred - n + 1), math.pow(0.5, n))\n",
        "    return score"
      ]
    },
    {
      "cell_type": "markdown",
      "id": "99544f4a",
      "metadata": {
        "origin_pos": 36,
        "id": "99544f4a"
      },
      "source": [
        "In the end,\n",
        "we use the trained RNN encoder-decoder\n",
        "to translate a few English sentences into French and compute the BLEU of the results.\n"
      ]
    },
    {
      "cell_type": "code",
      "execution_count": null,
      "id": "d5373a91",
      "metadata": {
        "execution": {
          "iopub.execute_input": "2023-08-18T19:56:07.009753Z",
          "iopub.status.busy": "2023-08-18T19:56:07.009192Z",
          "iopub.status.idle": "2023-08-18T19:56:07.028981Z",
          "shell.execute_reply": "2023-08-18T19:56:07.028094Z"
        },
        "origin_pos": 37,
        "tab": [
          "pytorch"
        ],
        "id": "d5373a91",
        "outputId": "35e074d7-4a12-4c29-ba5e-e124490e4a74",
        "colab": {
          "base_uri": "https://localhost:8080/"
        }
      },
      "outputs": [
        {
          "output_type": "stream",
          "name": "stdout",
          "text": [
            "go . => ['va', '!'], bleu,1.000\n",
            "i lost . => [\"j'ai\", 'perdu', '.'], bleu,1.000\n",
            "he's calm . => ['tom', 'a', 'gagné', '.'], bleu,0.000\n",
            "i'm home . => ['je', 'suis', 'chez', 'moi', '.'], bleu,1.000\n"
          ]
        }
      ],
      "source": [
        "engs = ['go .', 'i lost .', 'he\\'s calm .', 'i\\'m home .']\n",
        "fras = ['va !', 'j\\'ai perdu .', 'il est calme .', 'je suis chez moi .']\n",
        "preds, _ = model.predict_step(\n",
        "    data.build(engs, fras), d2l.try_gpu(), data.num_steps)\n",
        "for en, fr, p in zip(engs, fras, preds):\n",
        "    translation = []\n",
        "    for token in data.tgt_vocab.to_tokens(p):\n",
        "        if token == '<eos>':\n",
        "            break\n",
        "        translation.append(token)\n",
        "    print(f'{en} => {translation}, bleu,'\n",
        "          f'{bleu(\" \".join(translation), fr, k=2):.3f}')"
      ]
    },
    {
      "cell_type": "markdown",
      "id": "dd49dd46",
      "metadata": {
        "origin_pos": 38,
        "id": "dd49dd46"
      },
      "source": [
        "## Exercises\n",
        "<!--\n",
        "1. Can you adjust the hyperparameters to improve the translation results?\n",
        "1. Rerun the experiment without using masks in the loss calculation. What results do you observe? Why?\n",
        "1. If the encoder and the decoder differ in the number of layers or the number of hidden units, how can we initialize the hidden state of the decoder?\n",
        "1. In training, replace teacher forcing with feeding the prediction at the previous time step into the decoder. How does this influence the performance?\n",
        "1. Rerun the experiment by replacing GRU with LSTM.\n",
        "1. Are there any other ways to design the output layer of the decoder?-->"
      ]
    }
  ],
  "metadata": {
    "accelerator": "GPU",
    "kernelspec": {
      "display_name": "Python 3",
      "name": "python3"
    },
    "language_info": {
      "name": "python"
    },
    "required_libs": [],
    "colab": {
      "provenance": [],
      "toc_visible": true,
      "include_colab_link": true
    }
  },
  "nbformat": 4,
  "nbformat_minor": 5
}